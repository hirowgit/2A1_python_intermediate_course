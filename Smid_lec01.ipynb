{
 "cells": [
  {
   "cell_type": "code",
   "execution_count": null,
   "id": "f1936337-e83f-4761-b9a1-eaeb4fe5cb55",
   "metadata": {},
   "outputs": [],
   "source": [
    "## Python basics for novice data scientists, supported by Wagatsuma Lab@Kyutech \n",
    "#\n",
    "# The MIT License (MIT): Copyright (c) 2020 Hiroaki Wagatsuma and Wagatsuma Lab@Kyutech\n",
    "# \n",
    "# Permission is hereby granted, free of charge, to any person obtaining a copy of this software and associated documentation files (the \"Software\"), to deal in the Software without restriction, including without limitation the rights to use, copy, modify, merge, publish, distribute, sublicense, and/or sell copies of the Software, and to permit persons to whom the Software is furnished to do so, subject to the following conditions:\n",
    "# The above copyright notice and this permission notice shall be included in all copies or substantial portions of the Software.\n",
    "# THE SOFTWARE IS PROVIDED \"AS IS\", WITHOUT WARRANTY OF ANY KIND, EXPRESS OR IMPLIED, INCLUDING BUT NOT LIMITED TO THE WARRANTIES OF MERCHANTABILITY, FITNESS FOR A PARTICULAR PURPOSE AND NONINFRINGEMENT. IN NO EVENT SHALL THE AUTHORS OR COPYRIGHT HOLDERS BE LIABLE FOR ANY CLAIM, DAMAGES OR OTHER LIABILITY, WHETHER IN AN ACTION OF CONTRACT, TORT OR OTHERWISE, ARISING FROM, OUT OF OR IN CONNECTION WITH THE SOFTWARE OR THE USE OR OTHER DEALINGS IN THE SOFTWARE. */\n",
    "#\n",
    "# # @Time    : 2025-10-20 \n",
    "# # @Author  : Hiroaki Wagatsuma\n",
    "# # @Site    : https://github.com/hirowgit/2A1_python_intermediate_course\n",
    "# # @IDE     : Python 3.9.13 (main, Aug  7 2022, 01:33:23) [Clang 13.1.6 (clang-1316.0.21.2.5)] on darwin\n",
    "# # @File    : lec3_step2.py "
   ]
  },
  {
   "cell_type": "code",
   "execution_count": 13,
   "id": "3dc2071b-ff1f-4df8-b959-28b6525eedcc",
   "metadata": {},
   "outputs": [],
   "source": [
    "import numpy as np\n",
    "import matplotlib.pyplot as plt\n",
    "import pandas as pd\n",
    "import pprint"
   ]
  },
  {
   "cell_type": "markdown",
   "id": "4f99363e-bbd9-4ba3-af94-74e4fca6e8d9",
   "metadata": {},
   "source": [
    "# 例１：簡単な集計"
   ]
  },
  {
   "cell_type": "code",
   "execution_count": 26,
   "id": "dbd3a4f2-bcf8-495d-a5c7-6edc8d69f58f",
   "metadata": {},
   "outputs": [],
   "source": [
    "a=[1,2,3,4,5,6,7,8,9,10]"
   ]
  },
  {
   "cell_type": "code",
   "execution_count": 27,
   "id": "43a71a58-bee1-4f84-938d-c2e02d71c8c8",
   "metadata": {},
   "outputs": [
    {
     "data": {
      "text/plain": [
       "1"
      ]
     },
     "execution_count": 27,
     "metadata": {},
     "output_type": "execute_result"
    }
   ],
   "source": [
    "a[0]"
   ]
  },
  {
   "cell_type": "code",
   "execution_count": 28,
   "id": "e901ff37-55cb-4b38-9a1c-8d75b15b8e68",
   "metadata": {},
   "outputs": [
    {
     "data": {
      "text/plain": [
       "55"
      ]
     },
     "execution_count": 28,
     "metadata": {},
     "output_type": "execute_result"
    }
   ],
   "source": [
    "sum(a)"
   ]
  },
  {
   "cell_type": "markdown",
   "id": "f2919e6b-3373-4045-8993-7f7c46b05a14",
   "metadata": {},
   "source": [
    "# 例２：空間的な集計"
   ]
  },
  {
   "cell_type": "code",
   "execution_count": 21,
   "id": "4c876a35-3edc-43df-a16c-213ac4323bfc",
   "metadata": {},
   "outputs": [
    {
     "name": "stdout",
     "output_type": "stream",
     "text": [
      "[[1 4 7]\n",
      " [2 5 8]\n",
      " [3 6 9]]\n"
     ]
    }
   ],
   "source": [
    "A=np.array([[1,4,7],[2,5,8],[3,6,9]])\n",
    "print(A)"
   ]
  },
  {
   "cell_type": "code",
   "execution_count": 22,
   "id": "f754d0c5-1898-4803-952d-1bf5a66c95f9",
   "metadata": {},
   "outputs": [
    {
     "data": {
      "text/plain": [
       "array([[1, 4, 7],\n",
       "       [2, 5, 8],\n",
       "       [3, 6, 9]])"
      ]
     },
     "execution_count": 22,
     "metadata": {},
     "output_type": "execute_result"
    }
   ],
   "source": [
    "A"
   ]
  },
  {
   "cell_type": "code",
   "execution_count": 30,
   "id": "99d358e2-4790-40f9-87ac-5a4ad7933d6e",
   "metadata": {},
   "outputs": [
    {
     "data": {
      "text/plain": [
       "array([1, 4, 7])"
      ]
     },
     "execution_count": 30,
     "metadata": {},
     "output_type": "execute_result"
    }
   ],
   "source": [
    "A[0,:]"
   ]
  },
  {
   "cell_type": "code",
   "execution_count": 31,
   "id": "52e2a81b-3727-4147-9a12-2a7c917c282d",
   "metadata": {},
   "outputs": [
    {
     "data": {
      "text/plain": [
       "array([1, 2, 3])"
      ]
     },
     "execution_count": 31,
     "metadata": {},
     "output_type": "execute_result"
    }
   ],
   "source": [
    "A[:,0]"
   ]
  },
  {
   "cell_type": "code",
   "execution_count": 29,
   "id": "d3bebede-1b3c-483e-ae8b-0350f292e710",
   "metadata": {},
   "outputs": [
    {
     "data": {
      "text/plain": [
       "12"
      ]
     },
     "execution_count": 29,
     "metadata": {},
     "output_type": "execute_result"
    }
   ],
   "source": [
    "np.sum(A[0,:])"
   ]
  },
  {
   "cell_type": "code",
   "execution_count": 24,
   "id": "3d08cdb6-9591-4acf-8a5d-ee60df418dcf",
   "metadata": {},
   "outputs": [
    {
     "data": {
      "text/plain": [
       "6"
      ]
     },
     "execution_count": 24,
     "metadata": {},
     "output_type": "execute_result"
    }
   ],
   "source": [
    "np.sum(A[:,0])"
   ]
  },
  {
   "cell_type": "code",
   "execution_count": 25,
   "id": "4aa4c489-5b15-497f-acf5-b17ddfbf1b90",
   "metadata": {},
   "outputs": [
    {
     "data": {
      "text/plain": [
       "45"
      ]
     },
     "execution_count": 25,
     "metadata": {},
     "output_type": "execute_result"
    }
   ],
   "source": [
    "np.sum(A)"
   ]
  },
  {
   "cell_type": "code",
   "execution_count": null,
   "id": "9147b62f-d24f-43a6-8eeb-9c1e404645a1",
   "metadata": {},
   "outputs": [],
   "source": []
  },
  {
   "cell_type": "markdown",
   "id": "681c0fe2-08e2-403f-bbd4-9eeb1e54c7ca",
   "metadata": {},
   "source": [
    "# 例３：インデックスによる集計"
   ]
  },
  {
   "cell_type": "code",
   "execution_count": 32,
   "id": "30a6154f-1d21-49a8-a14d-7c9d5e76c84c",
   "metadata": {},
   "outputs": [
    {
     "data": {
      "text/plain": [
       "array([[4],\n",
       "       [6],\n",
       "       [8],\n",
       "       [4],\n",
       "       [7],\n",
       "       [4],\n",
       "       [7],\n",
       "       [9],\n",
       "       [3],\n",
       "       [5],\n",
       "       [1],\n",
       "       [8],\n",
       "       [5],\n",
       "       [3],\n",
       "       [2],\n",
       "       [8],\n",
       "       [9],\n",
       "       [1]])"
      ]
     },
     "execution_count": 32,
     "metadata": {},
     "output_type": "execute_result"
    }
   ],
   "source": [
    "index=np.random.randint(1, 10, (18,1))\n",
    "index"
   ]
  },
  {
   "cell_type": "code",
   "execution_count": 33,
   "id": "c32b406b-644c-46dd-950d-37fd5c60c907",
   "metadata": {},
   "outputs": [
    {
     "data": {
      "text/plain": [
       "array([[ 2, 60],\n",
       "       [ 4, 42],\n",
       "       [ 5, 83],\n",
       "       [ 8, 64],\n",
       "       [ 2, 65],\n",
       "       [ 4, 26],\n",
       "       [ 1, 92],\n",
       "       [ 3, 25],\n",
       "       [ 8, 42],\n",
       "       [ 1, 85],\n",
       "       [ 7, 47],\n",
       "       [ 9, 49],\n",
       "       [ 9, 94],\n",
       "       [ 8, 33],\n",
       "       [ 6, 85],\n",
       "       [ 7, 80],\n",
       "       [ 6,  2],\n",
       "       [ 4, 59]])"
      ]
     },
     "execution_count": 33,
     "metadata": {},
     "output_type": "execute_result"
    }
   ],
   "source": [
    "B"
   ]
  },
  {
   "cell_type": "code",
   "execution_count": 34,
   "id": "004fefcb-a8fc-4469-99d4-879eb298de0d",
   "metadata": {},
   "outputs": [
    {
     "data": {
      "text/plain": [
       "(array([ 0,  3,  5,  8, 10, 13, 14, 17]), array([0, 0, 0, 0, 0, 0, 0, 0]))"
      ]
     },
     "execution_count": 34,
     "metadata": {},
     "output_type": "execute_result"
    }
   ],
   "source": [
    "np.where(index<5)"
   ]
  },
  {
   "cell_type": "code",
   "execution_count": 40,
   "id": "45fd1b83-4964-4647-9e4e-c221ff5935d6",
   "metadata": {},
   "outputs": [
    {
     "data": {
      "text/plain": [
       "array([ 0,  3,  5,  8, 10, 13, 14, 17])"
      ]
     },
     "execution_count": 40,
     "metadata": {},
     "output_type": "execute_result"
    }
   ],
   "source": [
    "index1=np.where(index<5)[0]\n",
    "index1"
   ]
  },
  {
   "cell_type": "code",
   "execution_count": 41,
   "id": "9ce434f9-dd34-4c22-b906-2e4cfc40aa53",
   "metadata": {},
   "outputs": [
    {
     "data": {
      "text/plain": [
       "array([[60],\n",
       "       [64],\n",
       "       [26],\n",
       "       [42],\n",
       "       [47],\n",
       "       [33],\n",
       "       [85],\n",
       "       [59]])"
      ]
     },
     "execution_count": 41,
     "metadata": {},
     "output_type": "execute_result"
    }
   ],
   "source": [
    "score[index1]"
   ]
  },
  {
   "cell_type": "code",
   "execution_count": 8,
   "id": "1f15fe84-b8a5-4baf-acff-e4433a3cbe7e",
   "metadata": {},
   "outputs": [
    {
     "data": {
      "text/plain": [
       "1033"
      ]
     },
     "metadata": {},
     "output_type": "display_data"
    },
    {
     "data": {
      "text/plain": [
       "1033"
      ]
     },
     "metadata": {},
     "output_type": "display_data"
    }
   ],
   "source": [
    "index=np.random.randint(1, 10, (18,1))\n",
    "score=np.random.randint(0, 100, (18,1))\n",
    "B=np.hstack([index,score])\n",
    "index_sum=np.sum(B[:,0])\n",
    "score_sum=np.sum(B[:,1])\n",
    "index1=np.where(index<5)[0]\n",
    "value_less_than_five=score[index1]\n",
    "sum_value1=np.sum(value_less_than_five)\n",
    "index2=np.where(index>=5)[0]\n",
    "value_five_or_more=score[index2]\n",
    "sum_value2=np.sum(value_five_or_more)\n",
    "sum_all=sum_value1+sum_value2\n",
    "display(score_sum)\n",
    "display(sum_all)\n"
   ]
  },
  {
   "cell_type": "code",
   "execution_count": null,
   "id": "437f638e-9d13-43ae-9a58-d3c4287d74ba",
   "metadata": {},
   "outputs": [],
   "source": []
  }
 ],
 "metadata": {
  "kernelspec": {
   "display_name": "Python 3 (ipykernel)",
   "language": "python",
   "name": "python3"
  },
  "language_info": {
   "codemirror_mode": {
    "name": "ipython",
    "version": 3
   },
   "file_extension": ".py",
   "mimetype": "text/x-python",
   "name": "python",
   "nbconvert_exporter": "python",
   "pygments_lexer": "ipython3",
   "version": "3.10.11"
  }
 },
 "nbformat": 4,
 "nbformat_minor": 5
}
