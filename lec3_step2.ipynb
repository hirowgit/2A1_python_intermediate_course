{
 "cells": [
  {
   "cell_type": "code",
   "execution_count": 1,
   "id": "8724bdc8",
   "metadata": {},
   "outputs": [],
   "source": [
    "## Python basics for novice data scientists, supported by Wagatsuma Lab@Kyutech \n",
    "#\n",
    "# The MIT License (MIT): Copyright (c) 2020 Hiroaki Wagatsuma and Wagatsuma Lab@Kyutech\n",
    "# \n",
    "# Permission is hereby granted, free of charge, to any person obtaining a copy of this software and associated documentation files (the \"Software\"), to deal in the Software without restriction, including without limitation the rights to use, copy, modify, merge, publish, distribute, sublicense, and/or sell copies of the Software, and to permit persons to whom the Software is furnished to do so, subject to the following conditions:\n",
    "# The above copyright notice and this permission notice shall be included in all copies or substantial portions of the Software.\n",
    "# THE SOFTWARE IS PROVIDED \"AS IS\", WITHOUT WARRANTY OF ANY KIND, EXPRESS OR IMPLIED, INCLUDING BUT NOT LIMITED TO THE WARRANTIES OF MERCHANTABILITY, FITNESS FOR A PARTICULAR PURPOSE AND NONINFRINGEMENT. IN NO EVENT SHALL THE AUTHORS OR COPYRIGHT HOLDERS BE LIABLE FOR ANY CLAIM, DAMAGES OR OTHER LIABILITY, WHETHER IN AN ACTION OF CONTRACT, TORT OR OTHERWISE, ARISING FROM, OUT OF OR IN CONNECTION WITH THE SOFTWARE OR THE USE OR OTHER DEALINGS IN THE SOFTWARE. */\n",
    "#\n",
    "# # @Time    : 2022-8-20 \n",
    "# # @Author  : Hiroaki Wagatsuma\n",
    "# # @Site    : https://github.com/hirowgit/2A1_python_intermediate_course\n",
    "# # @IDE     : Python 3.9.13 (main, Aug  7 2022, 01:33:23) [Clang 13.1.6 (clang-1316.0.21.2.5)] on darwin\n",
    "# # @File    : lec3_step2.py "
   ]
  },
  {
   "cell_type": "code",
   "execution_count": 8,
   "id": "medium-presentation",
   "metadata": {},
   "outputs": [
    {
     "name": "stdout",
     "output_type": "stream",
     "text": [
      "[0.9 0.6 0.5 0.5 0.5 0.9 0.4 0.3 0.8 0.4 0.2]\n"
     ]
    }
   ],
   "source": [
    "import numpy as np\n",
    "prFill=np.array([90, 60, 50, 50, 50, 90, 40, 30, 80, 40, 20])\n",
    "prFill=prFill/100\n",
    "print(prFill)"
   ]
  },
  {
   "cell_type": "code",
   "execution_count": 17,
   "id": "imperial-theory",
   "metadata": {},
   "outputs": [
    {
     "name": "stdout",
     "output_type": "stream",
     "text": [
      "[10, 20, 30]\n",
      "1.0\n",
      "2.0\n",
      "3.0\n",
      "1.0\n",
      "2.0\n",
      "3.0\n"
     ]
    }
   ],
   "source": [
    "a=[10,20,30]\n",
    "print(a)\n",
    "for d in a:\n",
    "    print(d/10)\n",
    "for i in range(len(a)):\n",
    "    print(a[i]/10)"
   ]
  },
  {
   "cell_type": "code",
   "execution_count": 139,
   "id": "taken-maine",
   "metadata": {},
   "outputs": [
    {
     "name": "stdout",
     "output_type": "stream",
     "text": [
      "[0.9 0.6 0.5 0.5 0.5 0.9 0.4 0.3 0.8 0.4 0.2]\n"
     ]
    }
   ],
   "source": [
    "import numpy as np\n",
    "#prFill=[90    60    50    50    50    90    40    30    80    40  20 ]/100;\n",
    "prFill=np.array([90, 60, 50, 50, 50, 90, 40, 30, 80, 40, 20])\n",
    "prFill=prFill/100\n",
    "print(prFill)"
   ]
  },
  {
   "cell_type": "code",
   "execution_count": 18,
   "id": "liked-jefferson",
   "metadata": {},
   "outputs": [
    {
     "name": "stdout",
     "output_type": "stream",
     "text": [
      "[ True  True  True  True  True  True  True  True  True  True  True]\n"
     ]
    }
   ],
   "source": [
    "# fillLine=boolean(ones(1,size(prFill,2)));\n",
    "# を1行で書く方法\n",
    "fillLine=np.full(len(prFill),True)\n",
    "print(fillLine)"
   ]
  },
  {
   "cell_type": "code",
   "execution_count": 3,
   "id": "21915639",
   "metadata": {},
   "outputs": [
    {
     "name": "stdout",
     "output_type": "stream",
     "text": [
      "[ True  True  True  True  True  True  True  True  True  True  True]\n"
     ]
    }
   ],
   "source": [
    "# fillLine=boolean(ones(1,size(prFill,2)));\n",
    "# を1行で書く方法\n",
    "NofD=len(prFill)\n",
    "fillLine=np.full(NofD,True)\n",
    "print(fillLine)"
   ]
  },
  {
   "cell_type": "code",
   "execution_count": 88,
   "id": "meaningful-creek",
   "metadata": {},
   "outputs": [
    {
     "name": "stdout",
     "output_type": "stream",
     "text": [
      "[[ True  True  True  True  True  True  True  True  True  True  True]]\n"
     ]
    }
   ],
   "source": [
    "# fillLine=boolean(ones(1,size(prFill,2)));\n",
    "# を1行で書く方法 :これは階層構造になるので、x\n",
    "fillLine=np.full(( 1,len(prFill)),True)\n",
    "print(fillLine)"
   ]
  },
  {
   "cell_type": "code",
   "execution_count": 23,
   "id": "typical-performer",
   "metadata": {},
   "outputs": [
    {
     "name": "stdout",
     "output_type": "stream",
     "text": [
      "[ True  True  True  True  True  True  True  True  True  True  True]\n"
     ]
    }
   ],
   "source": [
    "# 行で書く方法\n",
    "fillLine2=np.empty(len(prFill), dtype = bool) \n",
    "fillLine2[:]=True  #スライシング機能\n",
    "print(fillLine2)"
   ]
  },
  {
   "cell_type": "code",
   "execution_count": 41,
   "id": "agricultural-judge",
   "metadata": {},
   "outputs": [
    {
     "name": "stdout",
     "output_type": "stream",
     "text": [
      "[[0. 0. 0.]\n",
      " [0. 0. 0.]]\n",
      "2\n",
      "6\n",
      "2\n",
      "(2, 3)\n"
     ]
    }
   ],
   "source": [
    "a=np.zeros((2,3))\n",
    "print(a)\n",
    "print(len(a))\n",
    "print(a.size)\n",
    "print(a.ndim)\n",
    "print(a.shape)"
   ]
  },
  {
   "cell_type": "code",
   "execution_count": 19,
   "id": "lyric-stake",
   "metadata": {},
   "outputs": [
    {
     "name": "stdout",
     "output_type": "stream",
     "text": [
      "[[0]\n",
      " [5]]\n",
      "(2, 1)\n"
     ]
    }
   ],
   "source": [
    "b=np.argwhere(prFill>0.8)\n",
    "print(b)\n",
    "print(b.shape)"
   ]
  },
  {
   "cell_type": "code",
   "execution_count": 143,
   "id": "little-female",
   "metadata": {},
   "outputs": [
    {
     "data": {
      "text/plain": [
       "array([0.9, 0.6, 0.5, 0.5, 0.5, 0.9, 0.4, 0.3, 0.8, 0.4, 0.2])"
      ]
     },
     "execution_count": 143,
     "metadata": {},
     "output_type": "execute_result"
    }
   ],
   "source": [
    "prFill"
   ]
  },
  {
   "cell_type": "code",
   "execution_count": 152,
   "id": "personal-swift",
   "metadata": {},
   "outputs": [
    {
     "name": "stdout",
     "output_type": "stream",
     "text": [
      "(array([0, 5]),)\n",
      "(1, 2)\n"
     ]
    }
   ],
   "source": [
    "c=np.where(prFill>0.8)\n",
    "print(c)\n",
    "print(np.shape(c))"
   ]
  },
  {
   "cell_type": "code",
   "execution_count": 47,
   "id": "overhead-guard",
   "metadata": {},
   "outputs": [
    {
     "data": {
      "text/plain": [
       "array([[0, 0],\n",
       "       [0, 5]])"
      ]
     },
     "execution_count": 47,
     "metadata": {},
     "output_type": "execute_result"
    }
   ],
   "source": [
    "np.argwhere((prFill>0.8) & fillLine)"
   ]
  },
  {
   "cell_type": "code",
   "execution_count": 156,
   "id": "pediatric-contamination",
   "metadata": {},
   "outputs": [
    {
     "data": {
      "text/plain": [
       "(array([0]),)"
      ]
     },
     "execution_count": 156,
     "metadata": {},
     "output_type": "execute_result"
    }
   ],
   "source": [
    "fillLine[5]=False\n",
    "np.where((prFill>0.8) & fillLine)"
   ]
  },
  {
   "cell_type": "code",
   "execution_count": 158,
   "id": "periodic-philip",
   "metadata": {},
   "outputs": [
    {
     "data": {
      "text/plain": [
       "array([ True,  True,  True,  True,  True, False,  True,  True,  True,\n",
       "        True,  True])"
      ]
     },
     "execution_count": 158,
     "metadata": {},
     "output_type": "execute_result"
    }
   ],
   "source": [
    "fillLine"
   ]
  },
  {
   "cell_type": "code",
   "execution_count": 159,
   "id": "infectious-tennis",
   "metadata": {},
   "outputs": [
    {
     "data": {
      "text/plain": [
       "array([0.9, 0.6, 0.5, 0.5, 0.5, 0.9, 0.4, 0.3, 0.8, 0.4, 0.2])"
      ]
     },
     "execution_count": 159,
     "metadata": {},
     "output_type": "execute_result"
    }
   ],
   "source": [
    "prFill"
   ]
  },
  {
   "cell_type": "code",
   "execution_count": 54,
   "id": "white-partner",
   "metadata": {},
   "outputs": [
    {
     "data": {
      "text/plain": [
       "array([0.9, 0.9])"
      ]
     },
     "execution_count": 54,
     "metadata": {},
     "output_type": "execute_result"
    }
   ],
   "source": [
    "prFill[(prFill>0.8) ]"
   ]
  },
  {
   "cell_type": "code",
   "execution_count": 55,
   "id": "varied-thought",
   "metadata": {},
   "outputs": [
    {
     "data": {
      "text/plain": [
       "(array([0, 5]),)"
      ]
     },
     "execution_count": 55,
     "metadata": {},
     "output_type": "execute_result"
    }
   ],
   "source": [
    "np.where((prFill>0.8) & (prFill>=0.8))"
   ]
  },
  {
   "cell_type": "code",
   "execution_count": 90,
   "id": "false-period",
   "metadata": {},
   "outputs": [
    {
     "name": "stdout",
     "output_type": "stream",
     "text": [
      "(array([0, 5]),)\n",
      "1\n"
     ]
    }
   ],
   "source": [
    "b=np.where(np.logical_and(prFill>0.8,fillLine))\n",
    "print(b)\n",
    "print(len(b))"
   ]
  },
  {
   "cell_type": "code",
   "execution_count": 69,
   "id": "incredible-notebook",
   "metadata": {},
   "outputs": [
    {
     "name": "stdout",
     "output_type": "stream",
     "text": [
      "[0 5]\n"
     ]
    }
   ],
   "source": [
    "b2=np.unique(b)\n",
    "print(b2)"
   ]
  },
  {
   "cell_type": "code",
   "execution_count": 71,
   "id": "personalized-kernel",
   "metadata": {},
   "outputs": [
    {
     "data": {
      "text/plain": [
       "0"
      ]
     },
     "execution_count": 71,
     "metadata": {},
     "output_type": "execute_result"
    }
   ],
   "source": [
    "b2[0]"
   ]
  },
  {
   "cell_type": "code",
   "execution_count": 91,
   "id": "descending-ethiopia",
   "metadata": {},
   "outputs": [
    {
     "name": "stdout",
     "output_type": "stream",
     "text": [
      "[ True  True  True  True  True  True  True]\n"
     ]
    }
   ],
   "source": [
    "print(fillLine[3:-1])\n"
   ]
  },
  {
   "cell_type": "code",
   "execution_count": 135,
   "id": "critical-satellite",
   "metadata": {},
   "outputs": [
    {
     "data": {
      "text/plain": [
       "(array([1]),)"
      ]
     },
     "execution_count": 135,
     "metadata": {},
     "output_type": "execute_result"
    }
   ],
   "source": [
    "i=3\n",
    "np.where((prFill[i+1:-1]>0.8) & fillLine[i+1:-1])\n"
   ]
  },
  {
   "cell_type": "code",
   "execution_count": 137,
   "id": "incredible-sitting",
   "metadata": {},
   "outputs": [
    {
     "name": "stdout",
     "output_type": "stream",
     "text": [
      "(array([1, 4]),)\n"
     ]
    }
   ],
   "source": [
    "i=3\n",
    "remF=0.5\n",
    "IDrem=np.where((prFill[i+1:-1]>remF) & fillLine[i+1:-1])\n",
    "print(IDrem)"
   ]
  },
  {
   "cell_type": "code",
   "execution_count": 134,
   "id": "disciplinary-castle",
   "metadata": {},
   "outputs": [
    {
     "ename": "SyntaxError",
     "evalue": "invalid syntax (<ipython-input-134-26a9b3048070>, line 6)",
     "output_type": "error",
     "traceback": [
      "\u001b[0;36m  File \u001b[0;32m\"<ipython-input-134-26a9b3048070>\"\u001b[0;36m, line \u001b[0;32m6\u001b[0m\n\u001b[0;31m    print(a)\u001b[0m\n\u001b[0m    ^\u001b[0m\n\u001b[0;31mSyntaxError\u001b[0m\u001b[0;31m:\u001b[0m invalid syntax\n"
     ]
    }
   ],
   "source": [
    "a=np.empty(0)\n",
    "print(a)\n",
    "a.append([0,1])\n",
    "print(a)\n",
    "np.append(a,np.array([4])\n",
    "print(a)\n",
    "np.append(a,np.array([1,2,3])\n"
   ]
  },
  {
   "cell_type": "code",
   "execution_count": 20,
   "id": "forbidden-palestine",
   "metadata": {},
   "outputs": [
    {
     "name": "stdout",
     "output_type": "stream",
     "text": [
      "[]\n",
      "[[0, 1]]\n",
      "[[0, 1], [1, 2, 3]]\n"
     ]
    }
   ],
   "source": [
    "a=[]\n",
    "print(a)\n",
    "a.append([0,1])\n",
    "print(a)\n",
    "a.append([1,2,3])\n",
    "print(a)"
   ]
  },
  {
   "cell_type": "code",
   "execution_count": 129,
   "id": "nuclear-classic",
   "metadata": {},
   "outputs": [
    {
     "name": "stdout",
     "output_type": "stream",
     "text": [
      "[[1, 2], [0, 1, 2], [5]]\n",
      "[1, 2]\n",
      "[[1, 2], [0, 1, 2], [5], [1, 2, 1, 1, 3]]\n"
     ]
    }
   ],
   "source": [
    "gg=[[1,2],[0,1,2],[5]]\n",
    "print(gg)\n",
    "print(gg[0])\n",
    "gg.append([1,2,1,1,3])\n",
    "print(gg)"
   ]
  },
  {
   "cell_type": "code",
   "execution_count": 11,
   "id": "loose-pride",
   "metadata": {},
   "outputs": [
    {
     "data": {
      "text/plain": [
       "array([[1, 2, 3],\n",
       "       [4, 5, 6]])"
      ]
     },
     "execution_count": 11,
     "metadata": {},
     "output_type": "execute_result"
    }
   ],
   "source": [
    "np.array([[1,2,3],[4,5,6]])"
   ]
  },
  {
   "cell_type": "code",
   "execution_count": 12,
   "id": "a862c9fc",
   "metadata": {},
   "outputs": [
    {
     "name": "stderr",
     "output_type": "stream",
     "text": [
      "/var/folders/mg/w5t8lkhc8xj79f001s7kzpfh0000gp/T/ipykernel_46824/4191096310.py:1: VisibleDeprecationWarning: Creating an ndarray from ragged nested sequences (which is a list-or-tuple of lists-or-tuples-or ndarrays with different lengths or shapes) is deprecated. If you meant to do this, you must specify 'dtype=object' when creating the ndarray.\n",
      "  np.array([[1,2,3],[4,5]])\n"
     ]
    },
    {
     "data": {
      "text/plain": [
       "array([list([1, 2, 3]), list([4, 5])], dtype=object)"
      ]
     },
     "execution_count": 12,
     "metadata": {},
     "output_type": "execute_result"
    }
   ],
   "source": [
    "np.array([[1,2,3],[4,5]])"
   ]
  },
  {
   "cell_type": "code",
   "execution_count": 16,
   "id": "ec568fbe",
   "metadata": {},
   "outputs": [
    {
     "data": {
      "text/plain": [
       "array([['a', 'a'],\n",
       "       ['b', 'b']], dtype='<U1')"
      ]
     },
     "execution_count": 16,
     "metadata": {},
     "output_type": "execute_result"
    }
   ],
   "source": [
    "np.array([['a','a'],['b','b']])"
   ]
  },
  {
   "cell_type": "code",
   "execution_count": 17,
   "id": "18f3e502",
   "metadata": {},
   "outputs": [
    {
     "name": "stderr",
     "output_type": "stream",
     "text": [
      "/var/folders/mg/w5t8lkhc8xj79f001s7kzpfh0000gp/T/ipykernel_46824/3154860643.py:1: VisibleDeprecationWarning: Creating an ndarray from ragged nested sequences (which is a list-or-tuple of lists-or-tuples-or ndarrays with different lengths or shapes) is deprecated. If you meant to do this, you must specify 'dtype=object' when creating the ndarray.\n",
      "  np.array([['a','a'],['b','b','c']])\n"
     ]
    },
    {
     "data": {
      "text/plain": [
       "array([list(['a', 'a']), list(['b', 'b', 'c'])], dtype=object)"
      ]
     },
     "execution_count": 17,
     "metadata": {},
     "output_type": "execute_result"
    }
   ],
   "source": [
    "np.array([['a','a'],['b','b','c']])"
   ]
  },
  {
   "cell_type": "code",
   "execution_count": 28,
   "id": "f918182c",
   "metadata": {},
   "outputs": [
    {
     "name": "stdout",
     "output_type": "stream",
     "text": [
      "[[1, 2, 3], [4, 5]]\n"
     ]
    }
   ],
   "source": [
    "d=[[1,2,3],[4,5]]\n",
    "print(d)"
   ]
  },
  {
   "cell_type": "code",
   "execution_count": 29,
   "id": "331f7bc5",
   "metadata": {},
   "outputs": [
    {
     "data": {
      "text/plain": [
       "[1, 2, 3]"
      ]
     },
     "execution_count": 29,
     "metadata": {},
     "output_type": "execute_result"
    }
   ],
   "source": [
    "d[0]"
   ]
  },
  {
   "cell_type": "code",
   "execution_count": 30,
   "id": "1e90bcb0",
   "metadata": {},
   "outputs": [
    {
     "data": {
      "text/plain": [
       "3"
      ]
     },
     "execution_count": 30,
     "metadata": {},
     "output_type": "execute_result"
    }
   ],
   "source": [
    "d[0][2]"
   ]
  },
  {
   "cell_type": "code",
   "execution_count": 18,
   "id": "6955f868",
   "metadata": {},
   "outputs": [
    {
     "data": {
      "text/plain": [
       "[['a', 'a'], ['b', 'b', 'c']]"
      ]
     },
     "execution_count": 18,
     "metadata": {},
     "output_type": "execute_result"
    }
   ],
   "source": [
    "[['a','a'],['b','b','c']]"
   ]
  },
  {
   "cell_type": "code",
   "execution_count": 23,
   "id": "2e07b86a",
   "metadata": {},
   "outputs": [
    {
     "name": "stdout",
     "output_type": "stream",
     "text": [
      "['aa', 'bbc']\n"
     ]
    }
   ],
   "source": [
    "c=['aa','bbc']\n",
    "print(c)"
   ]
  },
  {
   "cell_type": "code",
   "execution_count": 25,
   "id": "5859841c",
   "metadata": {},
   "outputs": [
    {
     "data": {
      "text/plain": [
       "'aa'"
      ]
     },
     "execution_count": 25,
     "metadata": {},
     "output_type": "execute_result"
    }
   ],
   "source": [
    "c[0]"
   ]
  },
  {
   "cell_type": "code",
   "execution_count": 26,
   "id": "1a9dd88a",
   "metadata": {},
   "outputs": [
    {
     "data": {
      "text/plain": [
       "'c'"
      ]
     },
     "execution_count": 26,
     "metadata": {},
     "output_type": "execute_result"
    }
   ],
   "source": [
    "c[1][2]"
   ]
  },
  {
   "cell_type": "code",
   "execution_count": 40,
   "id": "76c99428",
   "metadata": {},
   "outputs": [],
   "source": [
    "import sympy as sym"
   ]
  },
  {
   "cell_type": "code",
   "execution_count": 85,
   "id": "85d4f896",
   "metadata": {},
   "outputs": [
    {
     "data": {
      "text/latex": [
       "$\\displaystyle \\left[\\begin{matrix}a_{0, 0} & a_{0, 1}\\\\a_{1, 0} & a_{1, 1}\\end{matrix}\\right]$"
      ],
      "text/plain": [
       "Matrix([\n",
       "[a[0, 0], a[0, 1]],\n",
       "[a[1, 0], a[1, 1]]])"
      ]
     },
     "execution_count": 85,
     "metadata": {},
     "output_type": "execute_result"
    }
   ],
   "source": [
    "A =sym.MatrixSymbol('a',2,2)\n",
    "b =sym.MatrixSymbol('b',2,1)\n",
    "A.as_explicit()"
   ]
  },
  {
   "cell_type": "code",
   "execution_count": 87,
   "id": "8ebfb4b8",
   "metadata": {},
   "outputs": [
    {
     "data": {
      "text/latex": [
       "$\\displaystyle \\left[\\begin{matrix}b_{0, 0}\\\\b_{1, 0}\\end{matrix}\\right]$"
      ],
      "text/plain": [
       "Matrix([\n",
       "[b[0, 0]],\n",
       "[b[1, 0]]])"
      ]
     },
     "execution_count": 87,
     "metadata": {},
     "output_type": "execute_result"
    }
   ],
   "source": [
    "b.as_explicit()"
   ]
  },
  {
   "cell_type": "code",
   "execution_count": 86,
   "id": "9678d27d",
   "metadata": {},
   "outputs": [
    {
     "data": {
      "text/latex": [
       "$\\displaystyle \\left[\\begin{matrix}a_{0, 0} b_{0, 0} + a_{0, 1} b_{1, 0}\\\\a_{1, 0} b_{0, 0} + a_{1, 1} b_{1, 0}\\end{matrix}\\right]$"
      ],
      "text/plain": [
       "Matrix([\n",
       "[a[0, 0]*b[0, 0] + a[0, 1]*b[1, 0]],\n",
       "[a[1, 0]*b[0, 0] + a[1, 1]*b[1, 0]]])"
      ]
     },
     "execution_count": 86,
     "metadata": {},
     "output_type": "execute_result"
    }
   ],
   "source": [
    "y=A*b\n",
    "y.as_explicit()"
   ]
  },
  {
   "cell_type": "code",
   "execution_count": 91,
   "id": "89e050ed",
   "metadata": {},
   "outputs": [
    {
     "data": {
      "text/plain": [
       "<function sympy.interactive.printing.init_printing(pretty_print=True, order=None, use_unicode=None, use_latex=None, wrap_line=None, num_columns=None, no_global=False, ip=None, euler=False, forecolor=None, backcolor='Transparent', fontsize='10pt', latex_mode='plain', print_builtin=True, str_printer=None, pretty_printer=None, latex_printer=None, scale=1.0, **settings)>"
      ]
     },
     "execution_count": 91,
     "metadata": {},
     "output_type": "execute_result"
    }
   ],
   "source": [
    "sym.init_printing"
   ]
  },
  {
   "cell_type": "code",
   "execution_count": 65,
   "id": "5162753d",
   "metadata": {},
   "outputs": [
    {
     "data": {
      "text/latex": [
       "$\\displaystyle \\left[\\begin{matrix}1 & 2\\\\3 & 4\\end{matrix}\\right]$"
      ],
      "text/plain": [
       "Matrix([\n",
       "[1, 2],\n",
       "[3, 4]])"
      ]
     },
     "execution_count": 65,
     "metadata": {},
     "output_type": "execute_result"
    }
   ],
   "source": [
    "A=sym.Matrix([[1, 2], [3, 4]])\n",
    "A"
   ]
  },
  {
   "cell_type": "code",
   "execution_count": 64,
   "id": "b4f28339",
   "metadata": {},
   "outputs": [
    {
     "data": {
      "text/latex": [
       "$\\displaystyle \\left[\\begin{matrix}5\\\\6\\end{matrix}\\right]$"
      ],
      "text/plain": [
       "Matrix([\n",
       "[5],\n",
       "[6]])"
      ]
     },
     "execution_count": 64,
     "metadata": {},
     "output_type": "execute_result"
    }
   ],
   "source": [
    "b=sym.Matrix([[5], [6]])\n",
    "b"
   ]
  },
  {
   "cell_type": "code",
   "execution_count": 66,
   "id": "c39709a1",
   "metadata": {},
   "outputs": [
    {
     "data": {
      "text/latex": [
       "$\\displaystyle \\left[\\begin{matrix}17\\\\39\\end{matrix}\\right]$"
      ],
      "text/plain": [
       "Matrix([\n",
       "[17],\n",
       "[39]])"
      ]
     },
     "execution_count": 66,
     "metadata": {},
     "output_type": "execute_result"
    }
   ],
   "source": [
    "A*b"
   ]
  },
  {
   "cell_type": "code",
   "execution_count": 74,
   "id": "be0353cf",
   "metadata": {},
   "outputs": [
    {
     "data": {
      "text/latex": [
       "$\\displaystyle b_{1, 0} a$"
      ],
      "text/plain": [
       "b[1, 0]*a"
      ]
     },
     "execution_count": 74,
     "metadata": {},
     "output_type": "execute_result"
    }
   ],
   "source": [
    "sym.MatrixSymbol('a',2,2)*sym.MatrixSymbol('b',2,1)[1]"
   ]
  },
  {
   "cell_type": "code",
   "execution_count": null,
   "id": "3cf53fba",
   "metadata": {},
   "outputs": [],
   "source": []
  }
 ],
 "metadata": {
  "kernelspec": {
   "display_name": "Python 3 (ipykernel)",
   "language": "python",
   "name": "python3"
  },
  "language_info": {
   "codemirror_mode": {
    "name": "ipython",
    "version": 3
   },
   "file_extension": ".py",
   "mimetype": "text/x-python",
   "name": "python",
   "nbconvert_exporter": "python",
   "pygments_lexer": "ipython3",
   "version": "3.10.11"
  }
 },
 "nbformat": 4,
 "nbformat_minor": 5
}
