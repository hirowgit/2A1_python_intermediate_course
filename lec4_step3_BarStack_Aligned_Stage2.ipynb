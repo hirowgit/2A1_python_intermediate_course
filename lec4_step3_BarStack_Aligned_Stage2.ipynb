{
 "cells": [
  {
   "cell_type": "code",
   "execution_count": null,
   "id": "d76abb10",
   "metadata": {},
   "outputs": [],
   "source": [
    "## Python basics for novice data scientists, supported by Wagatsuma Lab@Kyutech \n",
    "#\n",
    "# The MIT License (MIT): Copyright (c) 2020 Hiroaki Wagatsuma and Wagatsuma Lab@Kyutech\n",
    "# \n",
    "# Permission is hereby granted, free of charge, to any person obtaining a copy of this software and associated documentation files (the \"Software\"), to deal in the Software without restriction, including without limitation the rights to use, copy, modify, merge, publish, distribute, sublicense, and/or sell copies of the Software, and to permit persons to whom the Software is furnished to do so, subject to the following conditions:\n",
    "# The above copyright notice and this permission notice shall be included in all copies or substantial portions of the Software.\n",
    "# THE SOFTWARE IS PROVIDED \"AS IS\", WITHOUT WARRANTY OF ANY KIND, EXPRESS OR IMPLIED, INCLUDING BUT NOT LIMITED TO THE WARRANTIES OF MERCHANTABILITY, FITNESS FOR A PARTICULAR PURPOSE AND NONINFRINGEMENT. IN NO EVENT SHALL THE AUTHORS OR COPYRIGHT HOLDERS BE LIABLE FOR ANY CLAIM, DAMAGES OR OTHER LIABILITY, WHETHER IN AN ACTION OF CONTRACT, TORT OR OTHERWISE, ARISING FROM, OUT OF OR IN CONNECTION WITH THE SOFTWARE OR THE USE OR OTHER DEALINGS IN THE SOFTWARE. */\n",
    "#\n",
    "# # @Time    : 2020-11-30 \n",
    "# # @Author  : Hiroaki Wagatsuma\n",
    "# # @Site    : https://github.com/hirowgit/2A1_python_intermediate_course\n",
    "# # @IDE     : Python 3.9.14 (main, Sep  6 2022, 23:29:09) [Clang 13.1.6 (clang-1316.0.21.2.5)] on darwin\n",
    "# # @File    : lec4_step3_BarStack_Aligned_Stage2.py \n"
   ]
  },
  {
   "cell_type": "code",
   "execution_count": 1,
   "id": "recorded-oakland",
   "metadata": {},
   "outputs": [
    {
     "name": "stdout",
     "output_type": "stream",
     "text": [
      "0\n",
      "1\n",
      "2\n",
      "3\n",
      "4\n",
      "5\n",
      "6\n",
      "7\n"
     ]
    }
   ],
   "source": [
    "import numpy as np\n",
    "#prFill=[90    60    50    50    50    90    40    30    80    40  20 ]/100;\n",
    "prFill=np.array([90, 60, 50, 50, 50, 90, 40, 30, 80, 40, 20])\n",
    "prFill=prFill/100\n",
    "fillLine=np.full(len(prFill),True)\n",
    "LineT=[]\n",
    "k=0\n",
    "for i in range(len(prFill)):\n",
    "    if fillLine[i]:\n",
    "        remF=1-prFill[i]\n",
    "        IDrem=np.where((prFill[i+1:-1]<=remF) & fillLine[i+1:-1])\n",
    "        tmp=i\n",
    "        fID=i\n",
    "        j=0\n",
    "        while IDrem[0].size > 0:\n",
    "            fID=IDrem[0][0]+fID+1\n",
    "            tmp=np.append(tmp,fID)\n",
    "            remF=remF-prFill[IDrem[j][0]+i]\n",
    "            IDrem=np.where((prFill[fID+1:-1]<=remF) & fillLine[fID+1:-1])\n",
    "        LineT.append(tmp)\n",
    "        fillLine[tmp]=False\n",
    "        print(k)\n",
    "        k=k+1\n",
    "        \n",
    "        \n"
   ]
  },
  {
   "cell_type": "code",
   "execution_count": 2,
   "id": "novel-clause",
   "metadata": {},
   "outputs": [],
   "source": [
    "prFill=np.array([90, 60, 50, 50, 50, 90, 40, 30, 80, 40, 20])\n",
    "prFill=prFill/100\n",
    "fillLine=np.full(len(prFill),True)\n",
    "LineT=[]\n",
    "k=0"
   ]
  },
  {
   "cell_type": "code",
   "execution_count": 3,
   "id": "current-plasma",
   "metadata": {},
   "outputs": [],
   "source": [
    "i=1"
   ]
  },
  {
   "cell_type": "code",
   "execution_count": 2,
   "id": "single-wholesale",
   "metadata": {},
   "outputs": [
    {
     "name": "stdout",
     "output_type": "stream",
     "text": [
      "0.8\n",
      "[0.9 0.6 0.5 0.5 0.5 0.9 0.4 0.3 0.8 0.4 0.2]\n",
      "(array([], dtype=int64),)\n",
      "(array([], dtype=int64),)\n"
     ]
    },
    {
     "data": {
      "text/plain": [
       "0"
      ]
     },
     "execution_count": 2,
     "metadata": {},
     "output_type": "execute_result"
    }
   ],
   "source": [
    "remF=1-prFill[i]\n",
    "print(remF)\n",
    "print(prFill)\n",
    "IDrem=np.where((prFill[i+1:-1]<=remF) & fillLine[i+1:-1])\n",
    "print(IDrem)\n",
    "tmp=i\n",
    "fID=i\n",
    "j=0\n",
    "print(IDrem)\n",
    "IDrem[0].size"
   ]
  },
  {
   "cell_type": "code",
   "execution_count": 12,
   "id": "nutritional-drink",
   "metadata": {},
   "outputs": [
    {
     "name": "stdout",
     "output_type": "stream",
     "text": [
      "4\n",
      "5\n"
     ]
    }
   ],
   "source": [
    "print(IDrem[0][0])\n",
    "fID=IDrem[0][0]+fID\n",
    "print(fID)"
   ]
  },
  {
   "cell_type": "code",
   "execution_count": 17,
   "id": "found-catering",
   "metadata": {},
   "outputs": [
    {
     "name": "stdout",
     "output_type": "stream",
     "text": [
      "[0, array([1, 6]), array([2, 3]), array([4, 7]), 5, 8, 9, 10]\n"
     ]
    }
   ],
   "source": [
    "print(LineT)"
   ]
  },
  {
   "cell_type": "code",
   "execution_count": null,
   "id": "designing-coast",
   "metadata": {},
   "outputs": [],
   "source": []
  }
 ],
 "metadata": {
  "kernelspec": {
   "display_name": "Python 3 (ipykernel)",
   "language": "python",
   "name": "python3"
  },
  "language_info": {
   "codemirror_mode": {
    "name": "ipython",
    "version": 3
   },
   "file_extension": ".py",
   "mimetype": "text/x-python",
   "name": "python",
   "nbconvert_exporter": "python",
   "pygments_lexer": "ipython3",
   "version": "3.9.14"
  }
 },
 "nbformat": 4,
 "nbformat_minor": 5
}
