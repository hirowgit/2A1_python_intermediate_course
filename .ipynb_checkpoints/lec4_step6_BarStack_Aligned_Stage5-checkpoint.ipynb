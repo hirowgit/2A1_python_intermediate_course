{
 "cells": [
  {
   "cell_type": "code",
   "execution_count": null,
   "id": "89f0eee6",
   "metadata": {},
   "outputs": [],
   "source": [
    "## Python basics for novice data scientists, supported by Wagatsuma Lab@Kyutech \n",
    "#\n",
    "# The MIT License (MIT): Copyright (c) 2020 Hiroaki Wagatsuma and Wagatsuma Lab@Kyutech\n",
    "# \n",
    "# Permission is hereby granted, free of charge, to any person obtaining a copy of this software and associated documentation files (the \"Software\"), to deal in the Software without restriction, including without limitation the rights to use, copy, modify, merge, publish, distribute, sublicense, and/or sell copies of the Software, and to permit persons to whom the Software is furnished to do so, subject to the following conditions:\n",
    "# The above copyright notice and this permission notice shall be included in all copies or substantial portions of the Software.\n",
    "# THE SOFTWARE IS PROVIDED \"AS IS\", WITHOUT WARRANTY OF ANY KIND, EXPRESS OR IMPLIED, INCLUDING BUT NOT LIMITED TO THE WARRANTIES OF MERCHANTABILITY, FITNESS FOR A PARTICULAR PURPOSE AND NONINFRINGEMENT. IN NO EVENT SHALL THE AUTHORS OR COPYRIGHT HOLDERS BE LIABLE FOR ANY CLAIM, DAMAGES OR OTHER LIABILITY, WHETHER IN AN ACTION OF CONTRACT, TORT OR OTHERWISE, ARISING FROM, OUT OF OR IN CONNECTION WITH THE SOFTWARE OR THE USE OR OTHER DEALINGS IN THE SOFTWARE. */\n",
    "#\n",
    "# # @Time    : 2020-11-30 \n",
    "# # @Author  : Hiroaki Wagatsuma\n",
    "# # @Site    : https://github.com/hirowgit/2A1_python_intermediate_course\n",
    "# # @IDE     : Python 3.9.14 (main, Sep  6 2022, 23:29:09) [Clang 13.1.6 (clang-1316.0.21.2.5)] on darwin\n",
    "# # @File    : lec4_step6_BarStack_Aligned_Stage5.py \n"
   ]
  },
  {
   "cell_type": "code",
   "execution_count": 1,
   "id": "dd219ba2",
   "metadata": {},
   "outputs": [
    {
     "name": "stdout",
     "output_type": "stream",
     "text": [
      "k; 0\n",
      "LineT; [0]\n",
      "k; 1\n",
      "k; 1\n",
      "LineT; [0, array([1, 6], dtype=int64)]\n",
      "k; 2\n",
      "k; 2\n",
      "LineT; [0, array([1, 6], dtype=int64), array([2, 3], dtype=int64)]\n",
      "k; 3\n",
      "k; 3\n",
      "LineT; [0, array([1, 6], dtype=int64), array([2, 3], dtype=int64), array([ 4,  7, 10], dtype=int64)]\n",
      "k; 4\n",
      "k; 4\n",
      "LineT; [0, array([1, 6], dtype=int64), array([2, 3], dtype=int64), array([ 4,  7, 10], dtype=int64), 5]\n",
      "k; 5\n",
      "k; 5\n",
      "LineT; [0, array([1, 6], dtype=int64), array([2, 3], dtype=int64), array([ 4,  7, 10], dtype=int64), 5, 8]\n",
      "k; 6\n",
      "k; 6\n",
      "LineT; [0, array([1, 6], dtype=int64), array([2, 3], dtype=int64), array([ 4,  7, 10], dtype=int64), 5, 8, 9]\n",
      "k; 7\n"
     ]
    }
   ],
   "source": [
    "import numpy as np\n",
    "#prFill=[90    60    50    50    50    90    40    30    80    40  20 ]/100;\n",
    "prFill=np.array([90, 60, 50, 50, 50, 90, 40, 30, 80, 40, 20])\n",
    "prFill=prFill/100\n",
    "fillLine=np.full(len(prFill),True)\n",
    "LineT=[]\n",
    "tmp=[]\n",
    "k=0\n",
    "for i in range(len(prFill)):\n",
    "#for i in range(5):\n",
    "#for i in range(5):\n",
    "    if fillLine[i]:\n",
    "        remF=1-prFill[i]\n",
    "        IDrem=np.where((prFill[i+1:len(prFill)]<=remF) & fillLine[i+1:len(prFill)])\n",
    "        tmp=i\n",
    "        fID=i\n",
    "        #j=0\n",
    "        while IDrem[0].size > 0:\n",
    "            fID=IDrem[0][0]+fID+1\n",
    "            tmp=np.append(tmp,fID)\n",
    "            remF=remF-prFill[fID]\n",
    "            IDrem=np.where((prFill[fID+1:len(prFill)]<=remF) & fillLine[fID+1:len(prFill)])\n",
    "        LineT.append(tmp)\n",
    "        fillLine[tmp]=False\n",
    "        print(\"k;\",k)\n",
    "        print(\"LineT;\",LineT)\n",
    "        k=k+1\n",
    "        print(\"k;\",k)"
   ]
  },
  {
   "cell_type": "code",
   "execution_count": 2,
   "id": "14e50116",
   "metadata": {},
   "outputs": [
    {
     "name": "stdout",
     "output_type": "stream",
     "text": [
      "<class 'int'>\n",
      "<class 'numpy.ndarray'>\n",
      "<class 'numpy.ndarray'>\n",
      "<class 'numpy.ndarray'>\n",
      "<class 'int'>\n",
      "<class 'int'>\n",
      "<class 'int'>\n"
     ]
    }
   ],
   "source": [
    "#行列の要素内の型が違うことが問題となる\n",
    "for i in LineT:\n",
    "    print(type(i))"
   ]
  },
  {
   "cell_type": "code",
   "execution_count": 3,
   "id": "25b974cc",
   "metadata": {},
   "outputs": [
    {
     "name": "stdout",
     "output_type": "stream",
     "text": [
      "[array(0), array([1, 6], dtype=int64), array([2, 3], dtype=int64), array([ 4,  7, 10], dtype=int64), array(5), array(8), array(9)]\n",
      "<class 'numpy.ndarray'>\n",
      "<class 'numpy.ndarray'>\n",
      "<class 'numpy.ndarray'>\n",
      "<class 'numpy.ndarray'>\n",
      "<class 'numpy.ndarray'>\n",
      "<class 'numpy.ndarray'>\n",
      "<class 'numpy.ndarray'>\n"
     ]
    },
    {
     "data": {
      "text/plain": [
       "[None, None, None, None, None, None, None]"
      ]
     },
     "execution_count": 3,
     "metadata": {},
     "output_type": "execute_result"
    }
   ],
   "source": [
    "#型がintのものを'numpy.ndarray'に変換\n",
    "f_LineT = [np.array(i) if type(i)==int else i for i in LineT]\n",
    "print(f_LineT)\n",
    "[print(type(i)) for i in f_LineT]"
   ]
  },
  {
   "cell_type": "code",
   "execution_count": 3,
   "id": "31e54154",
   "metadata": {},
   "outputs": [
    {
     "data": {
      "text/plain": [
       "[0,\n",
       " array([1, 6], dtype=int64),\n",
       " array([2, 3], dtype=int64),\n",
       " array([ 4,  7, 10], dtype=int64),\n",
       " 5,\n",
       " 8,\n",
       " 9]"
      ]
     },
     "execution_count": 3,
     "metadata": {},
     "output_type": "execute_result"
    }
   ],
   "source": [
    "LineT"
   ]
  },
  {
   "cell_type": "code",
   "execution_count": 4,
   "id": "61038119",
   "metadata": {},
   "outputs": [
    {
     "name": "stdout",
     "output_type": "stream",
     "text": [
      "[1, 2, 2, 3, 1, 1, 1]\n"
     ]
    }
   ],
   "source": [
    "#lenLineT=cell2mat(cellfun(@(x) length(x),LineT,'UniformOutput',false));に該当部\n",
    "lenLineT = [i.size for i in f_LineT]\n",
    "print(lenLineT)"
   ]
  },
  {
   "cell_type": "code",
   "execution_count": 5,
   "id": "55d1f600",
   "metadata": {},
   "outputs": [
    {
     "name": "stdout",
     "output_type": "stream",
     "text": [
      "[[0. 0. 0.]\n",
      " [0. 0. 0.]\n",
      " [0. 0. 0.]\n",
      " [0. 0. 0.]\n",
      " [0. 0. 0.]\n",
      " [0. 0. 0.]\n",
      " [0. 0. 0.]]\n"
     ]
    },
    {
     "name": "stderr",
     "output_type": "stream",
     "text": [
      "C:\\Users\\Kaito\\anaconda3\\lib\\site-packages\\numpy\\core\\_asarray.py:102: VisibleDeprecationWarning: Creating an ndarray from ragged nested sequences (which is a list-or-tuple of lists-or-tuples-or ndarrays with different lengths or shapes) is deprecated. If you meant to do this, you must specify 'dtype=object' when creating the ndarray.\n",
      "  return array(a, dtype, copy=False, order=order)\n"
     ]
    }
   ],
   "source": [
    "#stackBarD=zeros(size(LineT,2),max(lenLineT));に該当部\n",
    "stackBarD = np.zeros((np.shape(f_LineT)[0],max(lenLineT)))\n",
    "print(stackBarD)"
   ]
  },
  {
   "cell_type": "code",
   "execution_count": 6,
   "id": "7afe234f",
   "metadata": {},
   "outputs": [
    {
     "data": {
      "text/plain": [
       "7"
      ]
     },
     "execution_count": 6,
     "metadata": {},
     "output_type": "execute_result"
    }
   ],
   "source": [
    "len(f_LineT)"
   ]
  },
  {
   "cell_type": "code",
   "execution_count": 7,
   "id": "fb97767e",
   "metadata": {},
   "outputs": [
    {
     "name": "stdout",
     "output_type": "stream",
     "text": [
      "[0.9 0.6 0.5 0.5 0.5 0.9 0.4 0.3 0.8 0.4 0.2]\n",
      "[0.6 0.4]\n"
     ]
    }
   ],
   "source": [
    "f_LineT[1]\n",
    "print(prFill)\n",
    "i = [1, 6]\n",
    "print(prFill[i])"
   ]
  },
  {
   "cell_type": "code",
   "execution_count": 12,
   "id": "8d558cdb",
   "metadata": {},
   "outputs": [
    {
     "name": "stdout",
     "output_type": "stream",
     "text": [
      "1\n",
      "[0.9]\n",
      "[[0.9 0.  0. ]\n",
      " [0.6 0.4 0. ]\n",
      " [0.5 0.5 0. ]\n",
      " [0.5 0.3 0.2]\n",
      " [0.9 0.  0. ]\n",
      " [0.8 0.  0. ]\n",
      " [0.4 0.  0. ]]\n",
      "2\n",
      "[0.6 0.4]\n",
      "[[0.9 0.  0. ]\n",
      " [0.6 0.4 0. ]\n",
      " [0.5 0.5 0. ]\n",
      " [0.5 0.3 0.2]\n",
      " [0.9 0.  0. ]\n",
      " [0.8 0.  0. ]\n",
      " [0.4 0.  0. ]]\n",
      "2\n",
      "[0.5 0.5]\n",
      "[[0.9 0.  0. ]\n",
      " [0.6 0.4 0. ]\n",
      " [0.5 0.5 0. ]\n",
      " [0.5 0.3 0.2]\n",
      " [0.9 0.  0. ]\n",
      " [0.8 0.  0. ]\n",
      " [0.4 0.  0. ]]\n",
      "3\n",
      "[0.5 0.3 0.2]\n",
      "[[0.9 0.  0. ]\n",
      " [0.6 0.4 0. ]\n",
      " [0.5 0.5 0. ]\n",
      " [0.5 0.3 0.2]\n",
      " [0.9 0.  0. ]\n",
      " [0.8 0.  0. ]\n",
      " [0.4 0.  0. ]]\n",
      "1\n",
      "[0.9]\n",
      "[[0.9 0.  0. ]\n",
      " [0.6 0.4 0. ]\n",
      " [0.5 0.5 0. ]\n",
      " [0.5 0.3 0.2]\n",
      " [0.9 0.  0. ]\n",
      " [0.8 0.  0. ]\n",
      " [0.4 0.  0. ]]\n",
      "1\n",
      "[0.8]\n",
      "[[0.9 0.  0. ]\n",
      " [0.6 0.4 0. ]\n",
      " [0.5 0.5 0. ]\n",
      " [0.5 0.3 0.2]\n",
      " [0.9 0.  0. ]\n",
      " [0.8 0.  0. ]\n",
      " [0.4 0.  0. ]]\n",
      "1\n",
      "[0.4]\n",
      "[[0.9 0.  0. ]\n",
      " [0.6 0.4 0. ]\n",
      " [0.5 0.5 0. ]\n",
      " [0.5 0.3 0.2]\n",
      " [0.9 0.  0. ]\n",
      " [0.8 0.  0. ]\n",
      " [0.4 0.  0. ]]\n"
     ]
    }
   ],
   "source": [
    "#stackBarDにグラフに積み上げるprFillの値を置き換え\n",
    "for i in range(len(f_LineT)):\n",
    "    tmp = f_LineT[i]\n",
    "#     print(prFill[tmp])\n",
    "    print(lenLineT[i])\n",
    "    print(stackBarD[i,0:lenLineT[i]])\n",
    "    stackBarD[i,0:lenLineT[i]] = prFill[tmp] \n",
    "    print(stackBarD)"
   ]
  },
  {
   "cell_type": "code",
   "execution_count": null,
   "id": "c8f46831",
   "metadata": {},
   "outputs": [],
   "source": []
  },
  {
   "cell_type": "code",
   "execution_count": 11,
   "id": "1229b3b3",
   "metadata": {},
   "outputs": [
    {
     "name": "stdout",
     "output_type": "stream",
     "text": [
      "(array([0.9, 0. , 0. ]), array([0.6, 0.4, 0. ]), array([0.5, 0.5, 0. ]), array([0.5, 0.3, 0.2]), array([0.9, 0. , 0. ]), array([0.8, 0. , 0. ]), array([0.4, 0. , 0. ]))\n"
     ]
    }
   ],
   "source": [
    "y_data_stack = []\n",
    "y_data_stack = tuple([np.append(y_data_stack, i)  for i in stackBarD])\n",
    "print(y_data_stack)"
   ]
  },
  {
   "cell_type": "code",
   "execution_count": 13,
   "id": "68d183fd",
   "metadata": {},
   "outputs": [
    {
     "data": {
      "text/plain": [
       "0"
      ]
     },
     "execution_count": 13,
     "metadata": {},
     "output_type": "execute_result"
    }
   ],
   "source": [
    "LineT[0]"
   ]
  },
  {
   "cell_type": "code",
   "execution_count": 98,
   "id": "fb129219",
   "metadata": {},
   "outputs": [
    {
     "name": "stdout",
     "output_type": "stream",
     "text": [
      "[1, 2, 3, 4, 5, 6, 7, 8, 9, 10, 11]\n",
      "['L1', 'L2', 'L3', 'L4', 'L5', 'L6', 'L7']\n",
      "[0.0, 0.2, 0.4, 0.6, 0.8, 1.0]\n"
     ]
    }
   ],
   "source": [
    "x_label = [i+1 for i in range(len(prFill))]\n",
    "x_stack_label = ['L'+str(i+1) for i in range(len(stackBarD))]\n",
    "y_label = np.arange(0, 12, 2)\n",
    "y_label =[i/10 for i in y_label]\n",
    "print(x_label)\n",
    "print(x_stack_label)\n",
    "print(y_label)\n"
   ]
  },
  {
   "cell_type": "code",
   "execution_count": 63,
   "id": "7959375f",
   "metadata": {},
   "outputs": [],
   "source": [
    "#matplotlibモジュールの読み込み\n",
    "import matplotlib.pyplot as plt"
   ]
  },
  {
   "cell_type": "code",
   "execution_count": 97,
   "id": "bc1415df",
   "metadata": {},
   "outputs": [
    {
     "data": {
      "text/plain": [
       "<BarContainer object of 11 artists>"
      ]
     },
     "execution_count": 97,
     "metadata": {},
     "output_type": "execute_result"
    },
    {
     "data": {
      "image/png": "[encoded data removed]",
      "text/plain": [
       "<Figure size 1500x650 with 2 Axes>"
      ]
     },
     "metadata": {
      "needs_background": "light"
     },
     "output_type": "display_data"
    }
   ],
   "source": [
    "#2つのグラフの表示画面の分割\n",
    "fig = plt.figure(figsize=(30,13), dpi=50)\n",
    "init_fig = fig.add_subplot(2 , 1, 1)\n",
    "stack_fig = fig.add_subplot(2, 1, 2)\n",
    "\n",
    "#上のグラフの表示設定\n",
    "#参考；https://www.yutaka-note.com/entry/matplotlib_axis\n",
    "\n",
    "init_fig.set_xlabel(\"store ID\", size = 25)\n",
    "init_fig.set_xticks(x_label)\n",
    "init_fig.set_xticklabels(x_label, size=20)\n",
    "\n",
    "init_fig.set_ylabel(\"Action Steps(AS)\", size = 25)\n",
    "init_fig.set_yticks(y_label)\n",
    "init_fig.set_yticklabels(y_label, size=20)\n",
    "init_fig.set_ylim(0 , 1)\n",
    "# init_fig.set_yticks(np.arange(0, 1, 0.2))\n",
    "# init_fig.title(\"\")\n",
    "init_fig.grid(True)\n",
    "#上のグラフの表示\n",
    "init_fig.bar(x_label, prFill, color = 'w', edgecolor ='black', linewidth = '5')"
   ]
  },
  {
   "cell_type": "code",
   "execution_count": null,
   "id": "854dcd4b",
   "metadata": {},
   "outputs": [],
   "source": [
    "#下のグラフの表示設定\n",
    "#参考；https://www.yutaka-note.com/entry/matplotlib_axis\n",
    "\n",
    "stack_fig.set_xlabel(\"store ID\", size = 25)\n",
    "stack_fig.set_xticks(x_stack_label)\n",
    "stack_fig.set_xticklabels(x_stack_label, size=20)\n",
    "\n",
    "stack_fig.set_ylabel(\"Action Steps(AS)\", size = 25)\n",
    "stack_fig.set_yticks(y_label)\n",
    "stack_fig.set_yticklabels(y_label, size=20)\n",
    "stack_fig.set_ylim(0 , 1)\n",
    "# init_fig.set_yticks(np.arange(0, 1, 0.2))\n",
    "# init_fig.title(\"\")\n",
    "stack_fig.grid(True)\n",
    "#上のグラフの表示\n",
    "stack_fig.bar(x_label, prFill, color = 'w', edgecolor ='black', linewidth = '5')"
   ]
  },
  {
   "cell_type": "code",
   "execution_count": 26,
   "id": "212c74c4",
   "metadata": {
    "scrolled": true
   },
   "outputs": [
    {
     "data": {
      "text/plain": [
       "<BarContainer object of 11 artists>"
      ]
     },
     "execution_count": 26,
     "metadata": {},
     "output_type": "execute_result"
    }
   ],
   "source": [
    "init_fig.bar(x_label, prFill)\n",
    "# plt.show"
   ]
  },
  {
   "cell_type": "code",
   "execution_count": null,
   "id": "ff95e5eb",
   "metadata": {},
   "outputs": [],
   "source": [
    "len(LineT[1])"
   ]
  },
  {
   "cell_type": "code",
   "execution_count": null,
   "id": "e7a6a262",
   "metadata": {},
   "outputs": [],
   "source": [
    "LineT[2].size"
   ]
  },
  {
   "cell_type": "code",
   "execution_count": null,
   "id": "c5fda2b1",
   "metadata": {},
   "outputs": [],
   "source": []
  },
  {
   "cell_type": "code",
   "execution_count": null,
   "id": "c0cce5f8",
   "metadata": {},
   "outputs": [],
   "source": []
  },
  {
   "cell_type": "code",
   "execution_count": null,
   "id": "811cdbf5",
   "metadata": {},
   "outputs": [],
   "source": []
  },
  {
   "cell_type": "code",
   "execution_count": null,
   "id": "cfb7b708",
   "metadata": {},
   "outputs": [],
   "source": []
  },
  {
   "cell_type": "code",
   "execution_count": null,
   "id": "fd9db69c",
   "metadata": {},
   "outputs": [],
   "source": []
  }
 ],
 "metadata": {
  "kernelspec": {
   "display_name": "Python 3 (ipykernel)",
   "language": "python",
   "name": "python3"
  },
  "language_info": {
   "codemirror_mode": {
    "name": "ipython",
    "version": 3
   },
   "file_extension": ".py",
   "mimetype": "text/x-python",
   "name": "python",
   "nbconvert_exporter": "python",
   "pygments_lexer": "ipython3",
   "version": "3.9.14"
  }
 },
 "nbformat": 4,
 "nbformat_minor": 5
}
