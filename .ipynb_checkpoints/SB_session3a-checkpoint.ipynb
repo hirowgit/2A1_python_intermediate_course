{
  "nbformat": 4,
  "nbformat_minor": 0,
  "metadata": {
    "colab": {
      "provenance": []
    },
    "kernelspec": {
      "name": "python3",
      "display_name": "Python 3"
    },
    "language_info": {
      "name": "python"
    }
  },
  "cells": [
    {
      "cell_type": "markdown",
      "source": [
        "**#2: List to List comprehension**\n",
        "\n"
      ],
      "metadata": {
        "id": "fsZq2d3Qp69X"
      }
    },
    {
      "cell_type": "code",
      "source": [
        "import numpy as np\n",
        "import numpy.matlib\n",
        "import os\n",
        "import sys\n",
        "import codecs\n",
        "import matplotlib.pyplot as plt\n",
        "import pandas as pd\n",
        "from openpyxl import Workbook\n",
        "import pprint\n",
        "import datetime"
      ],
      "metadata": {
        "id": "IAUYoeAxpjNU"
      },
      "execution_count": 4,
      "outputs": []
    },
    {
      "cell_type": "code",
      "source": [
        "['柿','苺','蜜柑','桜桃','林檎']\n",
        "['かき','いちご','みかん','さくらんぼ','りんご']\n"
      ],
      "metadata": {
        "colab": {
          "base_uri": "https://localhost:8080/"
        },
        "id": "9GaashW1iAYk",
        "outputId": "23e6e483-8dd3-4ebd-9066-0c03c6e57b2d"
      },
      "execution_count": 5,
      "outputs": [
        {
          "output_type": "execute_result",
          "data": {
            "text/plain": [
              "['かき', 'いちご', 'みかん', 'さくらんぼ', 'りんご']"
            ]
          },
          "metadata": {},
          "execution_count": 5
        }
      ]
    },
    {
      "cell_type": "code",
      "source": [
        "[['かき','木'],['いちご','苗'],['みかん','木'],['さくらんぼ','木'],['りんご','木']]\n",
        "[['かき','果物'],['いちご','野菜'],['みかん','果物'],['さくらんぼ','果物'],['りんご','果物'],['トマト','野菜']]"
      ],
      "metadata": {
        "colab": {
          "base_uri": "https://localhost:8080/"
        },
        "id": "__3KEyrqiAbE",
        "outputId": "37634d95-9249-45e1-a054-1bdd9f871f9b"
      },
      "execution_count": 6,
      "outputs": [
        {
          "output_type": "execute_result",
          "data": {
            "text/plain": [
              "[['かき', '果物'],\n",
              " ['いちご', '野菜'],\n",
              " ['みかん', '果物'],\n",
              " ['さくらんぼ', '果物'],\n",
              " ['りんご', '果物'],\n",
              " ['トマト', '野菜']]"
            ]
          },
          "metadata": {},
          "execution_count": 6
        }
      ]
    },
    {
      "cell_type": "code",
      "source": [
        "foodList=[['かき','果物'],['いちご','野菜'],['みかん','果物'],['さくらんぼ','果物'],['りんご','果物'],['トマト','野菜']]"
      ],
      "metadata": {
        "id": "BtcUy3z7mxxw"
      },
      "execution_count": 7,
      "outputs": []
    },
    {
      "cell_type": "code",
      "source": [
        "animalList=[['猿',True],['犬',True],['熊',False],['牛',True],['兎',True]]\n",
        "animalList"
      ],
      "metadata": {
        "colab": {
          "base_uri": "https://localhost:8080/"
        },
        "id": "htfP8C18iAc4",
        "outputId": "1c0a8b3a-a560-4653-fbdb-db2a5bbee626"
      },
      "execution_count": 8,
      "outputs": [
        {
          "output_type": "execute_result",
          "data": {
            "text/plain": [
              "[['猿', True], ['犬', True], ['熊', False], ['牛', True], ['兎', True]]"
            ]
          },
          "metadata": {},
          "execution_count": 8
        }
      ]
    },
    {
      "cell_type": "code",
      "source": [
        "[d1[0] for d1 in animalList]"
      ],
      "metadata": {
        "colab": {
          "base_uri": "https://localhost:8080/"
        },
        "id": "5Y1kElRPiAfR",
        "outputId": "df6bdeee-a854-48d6-a29e-7ffbed9777c1"
      },
      "execution_count": 9,
      "outputs": [
        {
          "output_type": "execute_result",
          "data": {
            "text/plain": [
              "['猿', '犬', '熊', '牛', '兎']"
            ]
          },
          "metadata": {},
          "execution_count": 9
        }
      ]
    },
    {
      "cell_type": "code",
      "source": [
        "[d1[0] for d1 in animalList if d1[1] ]\n",
        "# [d1[0] for d1 in animalList if d1[1]==True ]"
      ],
      "metadata": {
        "colab": {
          "base_uri": "https://localhost:8080/"
        },
        "id": "pSOpwv4GiAhc",
        "outputId": "24b45cb2-6f60-4a8d-fd8d-c358f81cbbf6"
      },
      "execution_count": 10,
      "outputs": [
        {
          "output_type": "execute_result",
          "data": {
            "text/plain": [
              "['猿', '犬', '牛', '兎']"
            ]
          },
          "metadata": {},
          "execution_count": 10
        }
      ]
    },
    {
      "cell_type": "code",
      "source": [
        "['ぞう','ねこ','うさぎ','コアラ','パンダ','りす','さる', 'なまけもの','ふくろう']"
      ],
      "metadata": {
        "colab": {
          "base_uri": "https://localhost:8080/"
        },
        "id": "BUNtXKuNm4lJ",
        "outputId": "9bdce7a3-7086-4101-fb4f-40a21e515c73"
      },
      "execution_count": 11,
      "outputs": [
        {
          "output_type": "execute_result",
          "data": {
            "text/plain": [
              "['ぞう', 'ねこ', 'うさぎ', 'コアラ', 'パンダ', 'りす', 'さる', 'なまけもの', 'ふくろう']"
            ]
          },
          "metadata": {},
          "execution_count": 11
        }
      ]
    },
    {
      "cell_type": "code",
      "source": [
        "animalList2=[['ぞう',1],['ねこ',2],['うさぎ',3],['コアラ',4],['パンダ',5],['りす',6],['さる',7], ['なまけもの',8],['ふくろう',9]]\n",
        "animalList2"
      ],
      "metadata": {
        "colab": {
          "base_uri": "https://localhost:8080/"
        },
        "id": "Zmjx65hAoFVZ",
        "outputId": "ef91c01f-bffc-4ca5-c7ec-6ff47799ad7f"
      },
      "execution_count": 12,
      "outputs": [
        {
          "output_type": "execute_result",
          "data": {
            "text/plain": [
              "[['ぞう', 1],\n",
              " ['ねこ', 2],\n",
              " ['うさぎ', 3],\n",
              " ['コアラ', 4],\n",
              " ['パンダ', 5],\n",
              " ['りす', 6],\n",
              " ['さる', 7],\n",
              " ['なまけもの', 8],\n",
              " ['ふくろう', 9]]"
            ]
          },
          "metadata": {},
          "execution_count": 12
        }
      ]
    },
    {
      "cell_type": "code",
      "source": [],
      "metadata": {
        "id": "jqdV2NoKoFYi"
      },
      "execution_count": 12,
      "outputs": []
    },
    {
      "cell_type": "code",
      "source": [
        "[d1[0] for d1 in foodList if d1[1]=='果物' ]"
      ],
      "metadata": {
        "colab": {
          "base_uri": "https://localhost:8080/"
        },
        "id": "NedVL-kvm4on",
        "outputId": "fc3fec2e-0aa0-4f3f-dace-ea8c8dc05a19"
      },
      "execution_count": 13,
      "outputs": [
        {
          "output_type": "execute_result",
          "data": {
            "text/plain": [
              "['かき', 'みかん', 'さくらんぼ', 'りんご']"
            ]
          },
          "metadata": {},
          "execution_count": 13
        }
      ]
    },
    {
      "cell_type": "code",
      "source": [
        "watchList=[[], [1], [1,7], [1,6], [1,6,9], [2,3,4,5,8]]\n",
        "watchList"
      ],
      "metadata": {
        "colab": {
          "base_uri": "https://localhost:8080/"
        },
        "id": "5_c85YjNsEuF",
        "outputId": "127540bb-02c8-4d8c-c173-0464f46967ed"
      },
      "execution_count": 14,
      "outputs": [
        {
          "output_type": "execute_result",
          "data": {
            "text/plain": [
              "[[], [1], [1, 7], [1, 6], [1, 6, 9], [2, 3, 4, 5, 8]]"
            ]
          },
          "metadata": {},
          "execution_count": 14
        }
      ]
    },
    {
      "cell_type": "code",
      "source": [
        "np.array(watchList)\n",
        "# データの形が揃ってないので、Numpyに変換してもエラーが発生します。そこで、データの形を整えることを考えてみます。"
      ],
      "metadata": {
        "colab": {
          "base_uri": "https://localhost:8080/",
          "height": 179
        },
        "id": "T0fe1hziKT5n",
        "outputId": "e732b867-5db8-4f1d-d45b-66cecc324519"
      },
      "execution_count": 15,
      "outputs": [
        {
          "output_type": "error",
          "ename": "ValueError",
          "evalue": "setting an array element with a sequence. The requested array has an inhomogeneous shape after 1 dimensions. The detected shape was (6,) + inhomogeneous part.",
          "traceback": [
            "\u001b[0;31m---------------------------------------------------------------------------\u001b[0m",
            "\u001b[0;31mValueError\u001b[0m                                Traceback (most recent call last)",
            "\u001b[0;32m<ipython-input-15-bfa8a736d00e>\u001b[0m in \u001b[0;36m<cell line: 1>\u001b[0;34m()\u001b[0m\n\u001b[0;32m----> 1\u001b[0;31m \u001b[0mnp\u001b[0m\u001b[0;34m.\u001b[0m\u001b[0marray\u001b[0m\u001b[0;34m(\u001b[0m\u001b[0mwatchList\u001b[0m\u001b[0;34m)\u001b[0m\u001b[0;34m\u001b[0m\u001b[0;34m\u001b[0m\u001b[0m\n\u001b[0m\u001b[1;32m      2\u001b[0m \u001b[0;31m# データの形が揃ってないので、Numpyに変換してもエラーが発生します。そこで、データの形を整えることを考えてみます。\u001b[0m\u001b[0;34m\u001b[0m\u001b[0;34m\u001b[0m\u001b[0m\n",
            "\u001b[0;31mValueError\u001b[0m: setting an array element with a sequence. The requested array has an inhomogeneous shape after 1 dimensions. The detected shape was (6,) + inhomogeneous part."
          ]
        }
      ]
    },
    {
      "cell_type": "code",
      "source": [
        "data=watchList"
      ],
      "metadata": {
        "id": "h0uHY5yo469r"
      },
      "execution_count": 16,
      "outputs": []
    },
    {
      "cell_type": "code",
      "source": [
        "[d1 for d1 in data]"
      ],
      "metadata": {
        "colab": {
          "base_uri": "https://localhost:8080/"
        },
        "id": "6TzpMrNiKT8n",
        "outputId": "17b2d82d-a842-41f0-94e8-fcc985a48b72"
      },
      "execution_count": 17,
      "outputs": [
        {
          "output_type": "execute_result",
          "data": {
            "text/plain": [
              "[[], [1], [1, 7], [1, 6], [1, 6, 9], [2, 3, 4, 5, 8]]"
            ]
          },
          "metadata": {},
          "execution_count": 17
        }
      ]
    },
    {
      "cell_type": "code",
      "source": [
        "lengthD=[len(d1) for d1 in data]\n",
        "lengthD"
      ],
      "metadata": {
        "colab": {
          "base_uri": "https://localhost:8080/"
        },
        "id": "eovMDLFyLD6h",
        "outputId": "71dd101d-fb6c-4b7b-c164-7aabafc9a5f4"
      },
      "execution_count": 18,
      "outputs": [
        {
          "output_type": "execute_result",
          "data": {
            "text/plain": [
              "[0, 1, 2, 2, 3, 5]"
            ]
          },
          "metadata": {},
          "execution_count": 18
        }
      ]
    },
    {
      "cell_type": "code",
      "source": [
        "maxN=max(lengthD)\n",
        "maxN"
      ],
      "metadata": {
        "colab": {
          "base_uri": "https://localhost:8080/"
        },
        "id": "NBiUA9M8LGMF",
        "outputId": "d201d376-902d-4042-fd10-3c1a771b5a31"
      },
      "execution_count": 38,
      "outputs": [
        {
          "output_type": "execute_result",
          "data": {
            "text/plain": [
              "5"
            ]
          },
          "metadata": {},
          "execution_count": 38
        }
      ]
    },
    {
      "cell_type": "code",
      "source": [
        "max(data)"
      ],
      "metadata": {
        "colab": {
          "base_uri": "https://localhost:8080/"
        },
        "id": "VVLKmEQELPVX",
        "outputId": "d62d8d51-fb5f-4414-be5c-e367749a3807"
      },
      "execution_count": 20,
      "outputs": [
        {
          "output_type": "execute_result",
          "data": {
            "text/plain": [
              "[2, 3, 4, 5, 8]"
            ]
          },
          "metadata": {},
          "execution_count": 20
        }
      ]
    },
    {
      "cell_type": "code",
      "source": [
        "[[d2 for d2 in d1] for d1 in data]"
      ],
      "metadata": {
        "colab": {
          "base_uri": "https://localhost:8080/"
        },
        "id": "h8vRNH3HKT-t",
        "outputId": "74ee4199-7069-4f80-e83e-58292f80fd5c"
      },
      "execution_count": 21,
      "outputs": [
        {
          "output_type": "execute_result",
          "data": {
            "text/plain": [
              "[[], [1], [1, 7], [1, 6], [1, 6, 9], [2, 3, 4, 5, 8]]"
            ]
          },
          "metadata": {},
          "execution_count": 21
        }
      ]
    },
    {
      "cell_type": "code",
      "source": [
        "[[d2 for d2 in d1] for d1 in data]"
      ],
      "metadata": {
        "id": "3Eec9YT_KUBL",
        "colab": {
          "base_uri": "https://localhost:8080/"
        },
        "outputId": "29b1984b-9e10-48a6-875a-60fd685df28b"
      },
      "execution_count": 22,
      "outputs": [
        {
          "output_type": "execute_result",
          "data": {
            "text/plain": [
              "[[], [1], [1, 7], [1, 6], [1, 6, 9], [2, 3, 4, 5, 8]]"
            ]
          },
          "metadata": {},
          "execution_count": 22
        }
      ]
    },
    {
      "cell_type": "code",
      "source": [
        "[d2 for d2 in [1, 2]]"
      ],
      "metadata": {
        "colab": {
          "base_uri": "https://localhost:8080/"
        },
        "id": "qGjt9STPLlxf",
        "outputId": "59fe8408-7954-47f5-9cc5-1a0d182e52cc"
      },
      "execution_count": 23,
      "outputs": [
        {
          "output_type": "execute_result",
          "data": {
            "text/plain": [
              "[1, 2]"
            ]
          },
          "metadata": {},
          "execution_count": 23
        }
      ]
    },
    {
      "cell_type": "code",
      "source": [
        "[d1 for d1  in data if len(d1)>0]"
      ],
      "metadata": {
        "colab": {
          "base_uri": "https://localhost:8080/"
        },
        "id": "elRper-hLl2D",
        "outputId": "9e9269e8-4a0f-4799-9d03-38489fd2c912"
      },
      "execution_count": 24,
      "outputs": [
        {
          "output_type": "execute_result",
          "data": {
            "text/plain": [
              "[[1], [1, 7], [1, 6], [1, 6, 9], [2, 3, 4, 5, 8]]"
            ]
          },
          "metadata": {},
          "execution_count": 24
        }
      ]
    },
    {
      "cell_type": "code",
      "source": [
        "1+1"
      ],
      "metadata": {
        "colab": {
          "base_uri": "https://localhost:8080/"
        },
        "id": "xMibVU9PQuVw",
        "outputId": "6870b9f8-94fa-44c2-f9d5-886d9ec93b01"
      },
      "execution_count": 25,
      "outputs": [
        {
          "output_type": "execute_result",
          "data": {
            "text/plain": [
              "2"
            ]
          },
          "metadata": {},
          "execution_count": 25
        }
      ]
    },
    {
      "cell_type": "code",
      "source": [
        "0+0"
      ],
      "metadata": {
        "colab": {
          "base_uri": "https://localhost:8080/"
        },
        "id": "i8udR8ahQwy5",
        "outputId": "e7299888-cc50-421b-bee5-519b7fe68d20"
      },
      "execution_count": 26,
      "outputs": [
        {
          "output_type": "execute_result",
          "data": {
            "text/plain": [
              "0"
            ]
          },
          "metadata": {},
          "execution_count": 26
        }
      ]
    },
    {
      "cell_type": "code",
      "source": [
        "[0]+[0]"
      ],
      "metadata": {
        "colab": {
          "base_uri": "https://localhost:8080/"
        },
        "id": "Xyah6naJQrUR",
        "outputId": "bdfd272a-3374-4ca8-9c41-52aae47287ec"
      },
      "execution_count": 28,
      "outputs": [
        {
          "output_type": "execute_result",
          "data": {
            "text/plain": [
              "[0, 0]"
            ]
          },
          "metadata": {},
          "execution_count": 28
        }
      ]
    },
    {
      "cell_type": "code",
      "source": [
        "[0]*4"
      ],
      "metadata": {
        "colab": {
          "base_uri": "https://localhost:8080/"
        },
        "id": "PYdSVGCZQPCT",
        "outputId": "b03edf18-fe0d-40a8-8774-5275eeb11c61"
      },
      "execution_count": 46,
      "outputs": [
        {
          "output_type": "execute_result",
          "data": {
            "text/plain": [
              "[0, 0, 0, 0]"
            ]
          },
          "metadata": {},
          "execution_count": 46
        }
      ]
    },
    {
      "cell_type": "code",
      "source": [
        "'a'*6"
      ],
      "metadata": {
        "colab": {
          "base_uri": "https://localhost:8080/",
          "height": 35
        },
        "id": "VTm5QcPIQkUw",
        "outputId": "f0fb80b9-dd74-4700-a792-0f22968a88b6"
      },
      "execution_count": 30,
      "outputs": [
        {
          "output_type": "execute_result",
          "data": {
            "text/plain": [
              "'aaaaaa'"
            ],
            "application/vnd.google.colaboratory.intrinsic+json": {
              "type": "string"
            }
          },
          "metadata": {},
          "execution_count": 30
        }
      ]
    },
    {
      "cell_type": "code",
      "source": [
        "d1=[1,2]\n",
        "[0]*(4-len(d1))"
      ],
      "metadata": {
        "colab": {
          "base_uri": "https://localhost:8080/"
        },
        "id": "NyHSRdtlQgDc",
        "outputId": "f22c21c2-8d80-42af-e5cf-367e06ebae5c"
      },
      "execution_count": 31,
      "outputs": [
        {
          "output_type": "execute_result",
          "data": {
            "text/plain": [
              "[0, 0]"
            ]
          },
          "metadata": {},
          "execution_count": 31
        }
      ]
    },
    {
      "cell_type": "code",
      "source": [
        "d1=[1,2]\n",
        "[0]*(4-len(d1))+d1"
      ],
      "metadata": {
        "colab": {
          "base_uri": "https://localhost:8080/"
        },
        "id": "nyBTv2UPQc8Q",
        "outputId": "aed73309-7312-4a3a-d5a9-f1becdb78d98"
      },
      "execution_count": 33,
      "outputs": [
        {
          "output_type": "execute_result",
          "data": {
            "text/plain": [
              "[0, 0, 1, 2]"
            ]
          },
          "metadata": {},
          "execution_count": 33
        }
      ]
    },
    {
      "cell_type": "code",
      "source": [
        "[d1 if len(d1)==5 else d1+[0]*(5-len(d1)) for d1 in data ]"
      ],
      "metadata": {
        "colab": {
          "base_uri": "https://localhost:8080/"
        },
        "id": "8qVd_SGxPO7u",
        "outputId": "a25f27c4-d515-4977-a5fe-82696663ae6a"
      },
      "execution_count": 44,
      "outputs": [
        {
          "output_type": "execute_result",
          "data": {
            "text/plain": [
              "[[0, 0, 0, 0, 0],\n",
              " [1, 0, 0, 0, 0],\n",
              " [1, 7, 0, 0, 0],\n",
              " [1, 6, 0, 0, 0],\n",
              " [1, 6, 9, 0, 0],\n",
              " [2, 3, 4, 5, 8]]"
            ]
          },
          "metadata": {},
          "execution_count": 44
        }
      ]
    },
    {
      "cell_type": "code",
      "source": [
        "maxN=5"
      ],
      "metadata": {
        "id": "PPHwW-Rc5alQ"
      },
      "execution_count": 39,
      "outputs": []
    },
    {
      "cell_type": "code",
      "source": [
        "data2=[d1 if len(d1)==maxN else d1+[0]*(maxN-len(d1)) for d1 in data ]"
      ],
      "metadata": {
        "id": "Jbzu9SYp3dtK"
      },
      "execution_count": 40,
      "outputs": []
    },
    {
      "cell_type": "code",
      "source": [
        "data2=[d1 if len(d1)==maxN else d1+[0]*(maxN-len(d1)) for d1 in data ]\n",
        "np.array(data2)"
      ],
      "metadata": {
        "colab": {
          "base_uri": "https://localhost:8080/"
        },
        "id": "bOSCRb5YPokB",
        "outputId": "1c0d256d-deff-4cbe-f383-7ce7b48fe9ff"
      },
      "execution_count": 42,
      "outputs": [
        {
          "output_type": "execute_result",
          "data": {
            "text/plain": [
              "array([[0, 0, 0, 0, 0],\n",
              "       [1, 0, 0, 0, 0],\n",
              "       [1, 7, 0, 0, 0],\n",
              "       [1, 6, 0, 0, 0],\n",
              "       [1, 6, 9, 0, 0],\n",
              "       [2, 3, 4, 5, 8]])"
            ]
          },
          "metadata": {},
          "execution_count": 42
        }
      ]
    }
  ]
}