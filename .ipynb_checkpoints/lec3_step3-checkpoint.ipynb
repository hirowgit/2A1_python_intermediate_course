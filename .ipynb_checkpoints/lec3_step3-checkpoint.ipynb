{
 "cells": [
  {
   "cell_type": "code",
   "execution_count": 1,
   "id": "8724bdc8",
   "metadata": {},
   "outputs": [],
   "source": [
    "## Python basics for novice data scientists, supported by Wagatsuma Lab@Kyutech \n",
    "#\n",
    "# The MIT License (MIT): Copyright (c) 2020 Hiroaki Wagatsuma and Wagatsuma Lab@Kyutech\n",
    "# \n",
    "# Permission is hereby granted, free of charge, to any person obtaining a copy of this software and associated documentation files (the \"Software\"), to deal in the Software without restriction, including without limitation the rights to use, copy, modify, merge, publish, distribute, sublicense, and/or sell copies of the Software, and to permit persons to whom the Software is furnished to do so, subject to the following conditions:\n",
    "# The above copyright notice and this permission notice shall be included in all copies or substantial portions of the Software.\n",
    "# THE SOFTWARE IS PROVIDED \"AS IS\", WITHOUT WARRANTY OF ANY KIND, EXPRESS OR IMPLIED, INCLUDING BUT NOT LIMITED TO THE WARRANTIES OF MERCHANTABILITY, FITNESS FOR A PARTICULAR PURPOSE AND NONINFRINGEMENT. IN NO EVENT SHALL THE AUTHORS OR COPYRIGHT HOLDERS BE LIABLE FOR ANY CLAIM, DAMAGES OR OTHER LIABILITY, WHETHER IN AN ACTION OF CONTRACT, TORT OR OTHERWISE, ARISING FROM, OUT OF OR IN CONNECTION WITH THE SOFTWARE OR THE USE OR OTHER DEALINGS IN THE SOFTWARE. */\n",
    "#\n",
    "# # @Time    : 2022-8-20 \n",
    "# # @Author  : Hiroaki Wagatsuma\n",
    "# # @Site    : https://github.com/hirowgit/2A1_python_intermediate_course\n",
    "# # @IDE     : Python 3.9.13 (main, Aug  7 2022, 01:33:23) [Clang 13.1.6 (clang-1316.0.21.2.5)] on darwin\n",
    "# # @File    : lec3_step3.py "
   ]
  },
  {
   "cell_type": "code",
   "execution_count": 2,
   "id": "medium-presentation",
   "metadata": {},
   "outputs": [],
   "source": [
    "import numpy as np"
   ]
  },
  {
   "cell_type": "code",
   "execution_count": 12,
   "id": "3cf53fba",
   "metadata": {},
   "outputs": [
    {
     "data": {
      "text/plain": [
       "array([[0, 0, 1, 1, 1, 1, 0, 0, 1, 1],\n",
       "       [1, 0, 1, 0, 0, 1, 1, 1, 1, 0],\n",
       "       [1, 0, 1, 1, 1, 0, 0, 0, 0, 1],\n",
       "       [1, 0, 1, 0, 1, 1, 0, 0, 0, 0],\n",
       "       [1, 0, 1, 0, 1, 1, 1, 0, 0, 1],\n",
       "       [1, 1, 0, 1, 1, 0, 1, 1, 1, 1],\n",
       "       [1, 1, 0, 0, 0, 1, 1, 0, 0, 0],\n",
       "       [1, 1, 1, 1, 0, 0, 1, 0, 0, 1],\n",
       "       [1, 0, 1, 0, 1, 1, 0, 0, 0, 1],\n",
       "       [0, 1, 1, 1, 1, 1, 0, 1, 0, 1]])"
      ]
     },
     "execution_count": 12,
     "metadata": {},
     "output_type": "execute_result"
    }
   ],
   "source": [
    "NofD=10\n",
    "randD=np.random.randint(2, size=(10,10))\n",
    "randD"
   ]
  },
  {
   "cell_type": "code",
   "execution_count": 15,
   "id": "50498c45",
   "metadata": {},
   "outputs": [
    {
     "data": {
      "text/plain": [
       "(array([0, 0, 0, 0, 1, 1, 1, 1, 2, 2, 2, 2, 2, 3, 3, 3, 3, 3, 3, 4, 4, 4,\n",
       "        4, 5, 5, 6, 6, 6, 6, 6, 6, 7, 7, 7, 7, 8, 8, 8, 8, 8, 9, 9, 9]),\n",
       " array([0, 1, 6, 7, 1, 3, 4, 9, 1, 5, 6, 7, 8, 1, 3, 6, 7, 8, 9, 1, 3, 7,\n",
       "        8, 2, 5, 2, 3, 4, 7, 8, 9, 4, 5, 7, 8, 1, 3, 6, 7, 8, 0, 6, 8]))"
      ]
     },
     "execution_count": 15,
     "metadata": {},
     "output_type": "execute_result"
    }
   ],
   "source": [
    "key=np.where(randD==0)\n",
    "key"
   ]
  },
  {
   "cell_type": "code",
   "execution_count": 16,
   "id": "8fc55806",
   "metadata": {},
   "outputs": [
    {
     "data": {
      "text/plain": [
       "array([0, 0, 0, 0, 1, 1, 1, 1, 2, 2, 2, 2, 2, 3, 3, 3, 3, 3, 3, 4, 4, 4,\n",
       "       4, 5, 5, 6, 6, 6, 6, 6, 6, 7, 7, 7, 7, 8, 8, 8, 8, 8, 9, 9, 9])"
      ]
     },
     "execution_count": 16,
     "metadata": {},
     "output_type": "execute_result"
    }
   ],
   "source": [
    "key[0]"
   ]
  },
  {
   "cell_type": "code",
   "execution_count": 17,
   "id": "1d004cd7",
   "metadata": {},
   "outputs": [
    {
     "data": {
      "text/plain": [
       "array([0, 1, 6, 7, 1, 3, 4, 9, 1, 5, 6, 7, 8, 1, 3, 6, 7, 8, 9, 1, 3, 7,\n",
       "       8, 2, 5, 2, 3, 4, 7, 8, 9, 4, 5, 7, 8, 1, 3, 6, 7, 8, 0, 6, 8])"
      ]
     },
     "execution_count": 17,
     "metadata": {},
     "output_type": "execute_result"
    }
   ],
   "source": [
    "key[1]"
   ]
  },
  {
   "cell_type": "code",
   "execution_count": 19,
   "id": "ec609db1",
   "metadata": {},
   "outputs": [
    {
     "data": {
      "text/plain": [
       "array([[3, 3, 1, 1, 1, 1, 3, 3, 1, 1],\n",
       "       [1, 3, 1, 3, 3, 1, 1, 1, 1, 3],\n",
       "       [1, 3, 1, 1, 1, 3, 3, 3, 3, 1],\n",
       "       [1, 3, 1, 3, 1, 1, 3, 3, 3, 3],\n",
       "       [1, 3, 1, 3, 1, 1, 1, 3, 3, 1],\n",
       "       [1, 1, 3, 1, 1, 3, 1, 1, 1, 1],\n",
       "       [1, 1, 3, 3, 3, 1, 1, 3, 3, 3],\n",
       "       [1, 1, 1, 1, 3, 3, 1, 3, 3, 1],\n",
       "       [1, 3, 1, 3, 1, 1, 3, 3, 3, 1],\n",
       "       [3, 1, 1, 1, 1, 1, 3, 1, 3, 1]])"
      ]
     },
     "execution_count": 19,
     "metadata": {},
     "output_type": "execute_result"
    }
   ],
   "source": [
    "randD[key]=3\n",
    "randD"
   ]
  },
  {
   "cell_type": "code",
   "execution_count": 69,
   "id": "6526f060",
   "metadata": {},
   "outputs": [],
   "source": [
    "NofD=10\n",
    "rD1=np.random.randint(NofD,size=NofD)\n",
    "rD2=np.random.randint(2, NofD,size=NofD)\n",
    "rD=rD2+rD1\n",
    "mixAry=[np.arange(rD1[i],rD[i]) for i in range(0,len(rD2))]\n",
    "edgM=[[mixAry[i][0],mixAry[i][-1]] for i in range(0,len(mixAry))]\n",
    "edgAry=np.array(edgM)"
   ]
  },
  {
   "cell_type": "code",
   "execution_count": 64,
   "id": "96e26d5c",
   "metadata": {},
   "outputs": [
    {
     "data": {
      "text/plain": [
       "[array([ 7,  8,  9, 10, 11, 12, 13, 14]),\n",
       " array([ 8,  9, 10, 11, 12, 13, 14, 15]),\n",
       " array([ 5,  6,  7,  8,  9, 10, 11, 12, 13]),\n",
       " array([ 5,  6,  7,  8,  9, 10]),\n",
       " array([4, 5]),\n",
       " array([ 6,  7,  8,  9, 10, 11, 12]),\n",
       " array([0, 1, 2, 3, 4, 5, 6]),\n",
       " array([0, 1, 2]),\n",
       " array([3, 4]),\n",
       " array([2, 3, 4, 5, 6, 7])]"
      ]
     },
     "execution_count": 64,
     "metadata": {},
     "output_type": "execute_result"
    }
   ],
   "source": [
    "mixAry"
   ]
  },
  {
   "cell_type": "code",
   "execution_count": 70,
   "id": "88965c2c",
   "metadata": {},
   "outputs": [
    {
     "data": {
      "text/plain": [
       "[[5, 6],\n",
       " [5, 11],\n",
       " [6, 7],\n",
       " [8, 12],\n",
       " [6, 10],\n",
       " [3, 4],\n",
       " [6, 10],\n",
       " [8, 10],\n",
       " [2, 3],\n",
       " [1, 9]]"
      ]
     },
     "execution_count": 70,
     "metadata": {},
     "output_type": "execute_result"
    }
   ],
   "source": [
    "edgM"
   ]
  },
  {
   "cell_type": "code",
   "execution_count": 71,
   "id": "6c32cbe7",
   "metadata": {},
   "outputs": [
    {
     "data": {
      "text/plain": [
       "array([[ 5,  6],\n",
       "       [ 5, 11],\n",
       "       [ 6,  7],\n",
       "       [ 8, 12],\n",
       "       [ 6, 10],\n",
       "       [ 3,  4],\n",
       "       [ 6, 10],\n",
       "       [ 8, 10],\n",
       "       [ 2,  3],\n",
       "       [ 1,  9]])"
      ]
     },
     "execution_count": 71,
     "metadata": {},
     "output_type": "execute_result"
    }
   ],
   "source": [
    "edgAry"
   ]
  },
  {
   "cell_type": "code",
   "execution_count": 29,
   "id": "b9bf5331",
   "metadata": {},
   "outputs": [
    {
     "data": {
      "text/plain": [
       "array([[0, 1, 0]])"
      ]
     },
     "execution_count": 29,
     "metadata": {},
     "output_type": "execute_result"
    }
   ],
   "source": [
    "np.random.randint(0,2, size=(1,3))\n"
   ]
  },
  {
   "cell_type": "code",
   "execution_count": 35,
   "id": "9ec295ca",
   "metadata": {},
   "outputs": [
    {
     "data": {
      "text/plain": [
       "[[3], [9], [9], [0], [1], [9], [1], [2], [7], [0]]"
      ]
     },
     "execution_count": 35,
     "metadata": {},
     "output_type": "execute_result"
    }
   ],
   "source": [
    "rD1=np.random.randint(NofD,size=(NofD,1))\n",
    "rD1.tolist()"
   ]
  },
  {
   "cell_type": "code",
   "execution_count": 36,
   "id": "16e7d131",
   "metadata": {},
   "outputs": [
    {
     "data": {
      "text/plain": [
       "array([4, 6, 9, 4, 3, 6, 2, 4, 3, 4])"
      ]
     },
     "execution_count": 36,
     "metadata": {},
     "output_type": "execute_result"
    }
   ],
   "source": [
    "rD2=np.random.randint(2, NofD,size=NofD)\n",
    "rD2"
   ]
  },
  {
   "cell_type": "code",
   "execution_count": 38,
   "id": "d901dec5",
   "metadata": {},
   "outputs": [
    {
     "data": {
      "text/plain": [
       "array([ 9,  8, 15,  9,  5,  8, 12, 17, 10, 17])"
      ]
     },
     "execution_count": 38,
     "metadata": {},
     "output_type": "execute_result"
    }
   ],
   "source": [
    "rD1=np.random.randint(NofD,size=NofD)\n",
    "rD2=np.random.randint(2, NofD,size=NofD)\n",
    "rD=rD2+rD1\n",
    "rD"
   ]
  },
  {
   "cell_type": "code",
   "execution_count": 47,
   "id": "6ca8f4ff",
   "metadata": {},
   "outputs": [
    {
     "data": {
      "text/plain": [
       "[array([4, 5, 6, 7, 8]),\n",
       " array([6, 7]),\n",
       " array([ 6,  7,  8,  9, 10, 11, 12, 13, 14]),\n",
       " array([6, 7, 8]),\n",
       " array([0, 1, 2, 3, 4]),\n",
       " array([5, 6, 7]),\n",
       " array([ 3,  4,  5,  6,  7,  8,  9, 10, 11]),\n",
       " array([ 9, 10, 11, 12, 13, 14, 15, 16]),\n",
       " array([6, 7, 8, 9]),\n",
       " array([ 9, 10, 11, 12, 13, 14, 15, 16])]"
      ]
     },
     "execution_count": 47,
     "metadata": {},
     "output_type": "execute_result"
    }
   ],
   "source": [
    "mixAry=[np.arange(rD1[i],rD[i]) for i in range(0,len(rD2))]\n",
    "mixAry"
   ]
  },
  {
   "cell_type": "code",
   "execution_count": 52,
   "id": "dee78a39",
   "metadata": {},
   "outputs": [
    {
     "data": {
      "text/plain": [
       "[[4, 8],\n",
       " [6, 7],\n",
       " [6, 14],\n",
       " [6, 8],\n",
       " [0, 4],\n",
       " [5, 7],\n",
       " [3, 11],\n",
       " [9, 16],\n",
       " [6, 9],\n",
       " [9, 16]]"
      ]
     },
     "execution_count": 52,
     "metadata": {},
     "output_type": "execute_result"
    }
   ],
   "source": [
    "edgAry=[[mixAry[i][0],mixAry[i][-1]] for i in range(0,len(mixAry))]\n",
    "edgAry"
   ]
  },
  {
   "cell_type": "code",
   "execution_count": null,
   "id": "62d47563",
   "metadata": {},
   "outputs": [],
   "source": []
  }
 ],
 "metadata": {
  "kernelspec": {
   "display_name": "Python 3 (ipykernel)",
   "language": "python",
   "name": "python3"
  },
  "language_info": {
   "codemirror_mode": {
    "name": "ipython",
    "version": 3
   },
   "file_extension": ".py",
   "mimetype": "text/x-python",
   "name": "python",
   "nbconvert_exporter": "python",
   "pygments_lexer": "ipython3",
   "version": "3.9.13"
  }
 },
 "nbformat": 4,
 "nbformat_minor": 5
}
