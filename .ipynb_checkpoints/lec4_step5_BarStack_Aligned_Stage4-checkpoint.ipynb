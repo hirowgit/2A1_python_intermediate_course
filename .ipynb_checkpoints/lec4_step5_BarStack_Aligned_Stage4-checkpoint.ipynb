{
 "cells": [
  {
   "cell_type": "code",
   "execution_count": null,
   "id": "5ea7b67a",
   "metadata": {},
   "outputs": [],
   "source": [
    "## Python basics for novice data scientists, supported by Wagatsuma Lab@Kyutech \n",
    "#\n",
    "# The MIT License (MIT): Copyright (c) 2020 Hiroaki Wagatsuma and Wagatsuma Lab@Kyutech\n",
    "# \n",
    "# Permission is hereby granted, free of charge, to any person obtaining a copy of this software and associated documentation files (the \"Software\"), to deal in the Software without restriction, including without limitation the rights to use, copy, modify, merge, publish, distribute, sublicense, and/or sell copies of the Software, and to permit persons to whom the Software is furnished to do so, subject to the following conditions:\n",
    "# The above copyright notice and this permission notice shall be included in all copies or substantial portions of the Software.\n",
    "# THE SOFTWARE IS PROVIDED \"AS IS\", WITHOUT WARRANTY OF ANY KIND, EXPRESS OR IMPLIED, INCLUDING BUT NOT LIMITED TO THE WARRANTIES OF MERCHANTABILITY, FITNESS FOR A PARTICULAR PURPOSE AND NONINFRINGEMENT. IN NO EVENT SHALL THE AUTHORS OR COPYRIGHT HOLDERS BE LIABLE FOR ANY CLAIM, DAMAGES OR OTHER LIABILITY, WHETHER IN AN ACTION OF CONTRACT, TORT OR OTHERWISE, ARISING FROM, OUT OF OR IN CONNECTION WITH THE SOFTWARE OR THE USE OR OTHER DEALINGS IN THE SOFTWARE. */\n",
    "#\n",
    "# # @Time    : 2020-11-30 \n",
    "# # @Author  : Hiroaki Wagatsuma\n",
    "# # @Site    : https://github.com/hirowgit/2A1_python_intermediate_course\n",
    "# # @IDE     : Python 3.9.14 (main, Sep  6 2022, 23:29:09) [Clang 13.1.6 (clang-1316.0.21.2.5)] on darwin\n",
    "# # @File    : lec4_step5_BarStack_Aligned_Stage4.py \n"
   ]
  },
  {
   "cell_type": "code",
   "execution_count": 7,
   "id": "proprietary-minneapolis",
   "metadata": {
    "scrolled": true
   },
   "outputs": [
    {
     "name": "stdout",
     "output_type": "stream",
     "text": [
      "0\n",
      "[0]\n",
      "1\n",
      "1\n",
      "[0, array([1, 6], dtype=int64)]\n",
      "2\n",
      "2\n",
      "[0, array([1, 6], dtype=int64), array([2, 3], dtype=int64)]\n",
      "3\n",
      "3\n",
      "[0, array([1, 6], dtype=int64), array([2, 3], dtype=int64), array([ 4,  7, 10], dtype=int64)]\n",
      "4\n",
      "4\n",
      "[0, array([1, 6], dtype=int64), array([2, 3], dtype=int64), array([ 4,  7, 10], dtype=int64), 5]\n",
      "5\n",
      "5\n",
      "[0, array([1, 6], dtype=int64), array([2, 3], dtype=int64), array([ 4,  7, 10], dtype=int64), 5, 8]\n",
      "6\n",
      "6\n",
      "[0, array([1, 6], dtype=int64), array([2, 3], dtype=int64), array([ 4,  7, 10], dtype=int64), 5, 8, 9]\n",
      "7\n"
     ]
    }
   ],
   "source": [
    "import numpy as np\n",
    "#prFill=[90    60    50    50    50    90    40    30    80    40  20 ]/100;\n",
    "prFill=np.array([90, 60, 50, 50, 50, 90, 40, 30, 80, 40, 20])\n",
    "prFill=prFill/100\n",
    "fillLine=np.full(len(prFill),True)\n",
    "LineT=[]\n",
    "k=0\n",
    "for i in range(len(prFill)):\n",
    "#for i in range(5):\n",
    "#for i in range(5):\n",
    "    if fillLine[i]:\n",
    "        remF=1-prFill[i]\n",
    "        IDrem=np.where((prFill[i+1:len(prFill)]<=remF) & fillLine[i+1:len(prFill)])\n",
    "        tmp=i\n",
    "        fID=i\n",
    "        #j=0\n",
    "        while IDrem[0].size > 0:\n",
    "            fID=IDrem[0][0]+fID+1\n",
    "            tmp=np.append(tmp,fID)\n",
    "            remF=remF-prFill[fID]\n",
    "            IDrem=np.where((prFill[fID+1:len(prFill)]<=remF) & fillLine[fID+1:len(prFill)])\n",
    "        LineT.apend(tmp)\n",
    "        fillLine[tmp]=False\n",
    "        print(k)\n",
    "        print(LineT)\n",
    "        k=k+1\n",
    "        print(k)"
   ]
  },
  {
   "cell_type": "code",
   "execution_count": 6,
   "id": "indirect-coral",
   "metadata": {},
   "outputs": [
    {
     "data": {
      "text/plain": [
       "[0,\n",
       " array([1, 6], dtype=int64),\n",
       " array([2, 3], dtype=int64),\n",
       " array([ 4,  7, 10], dtype=int64),\n",
       " 5,\n",
       " 8,\n",
       " 9]"
      ]
     },
     "execution_count": 6,
     "metadata": {},
     "output_type": "execute_result"
    }
   ],
   "source": [
    "LineT"
   ]
  },
  {
   "cell_type": "code",
   "execution_count": null,
   "id": "japanese-sullivan",
   "metadata": {},
   "outputs": [],
   "source": []
  }
 ],
 "metadata": {
  "kernelspec": {
   "display_name": "Python 3 (ipykernel)",
   "language": "python",
   "name": "python3"
  },
  "language_info": {
   "codemirror_mode": {
    "name": "ipython",
    "version": 3
   },
   "file_extension": ".py",
   "mimetype": "text/x-python",
   "name": "python",
   "nbconvert_exporter": "python",
   "pygments_lexer": "ipython3",
   "version": "3.9.14"
  }
 },
 "nbformat": 4,
 "nbformat_minor": 5
}
