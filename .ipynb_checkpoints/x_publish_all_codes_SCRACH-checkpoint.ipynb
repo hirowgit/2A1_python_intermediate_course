{
 "cells": [
  {
   "cell_type": "code",
   "execution_count": 15,
   "metadata": {},
   "outputs": [
    {
     "name": "stdout",
     "output_type": "stream",
     "text": [
      "['lec2_step1', 'lec1_step1']\n",
      "lec2_step1\n",
      "jupyter nbconvert --to asciidoc lec2_step1.ipynb\n",
      "jupyter nbconvert --to html lec2_step1.ipynb\n",
      "jupyter nbconvert --to latex lec2_step1.ipynb\n",
      "jupyter nbconvert --to markdown lec2_step1.ipynb\n",
      "jupyter nbconvert --to pdf lec2_step1.ipynb\n",
      "jupyter nbconvert --to python lec2_step1.ipynb\n",
      "jupyter nbconvert --to slides lec2_step1.ipynb\n",
      "There exists lec2_step1\n"
     ]
    },
    {
     "name": "stderr",
     "output_type": "stream",
     "text": [
      "[NbConvertApp] Converting notebook lec2_step1.ipynb to markdown\n",
      "[NbConvertApp] Converting notebook lec2_step1.ipynb to pdf\n",
      "[NbConvertApp] Converting notebook lec2_step1.ipynb to python\n",
      "[NbConvertApp] Converting notebook lec2_step1.ipynb to html\n",
      "[NbConvertApp] Converting notebook lec2_step1.ipynb to slides\n",
      "[NbConvertApp] Converting notebook lec2_step1.ipynb to asciidoc\n",
      "[NbConvertApp] Converting notebook lec2_step1.ipynb to latex\n",
      "[NbConvertApp] Support files will be in lec2_step1_files/\n",
      "[NbConvertApp] Making directory lec2_step1_files\n",
      "[NbConvertApp] Writing 20278 bytes to lec2_step1.md\n",
      "[NbConvertApp] Support files will be in lec2_step1_files/\n",
      "[NbConvertApp] Making directory lec2_step1_files\n",
      "[NbConvertApp] Writing 22427 bytes to lec2_step1.asciidoc\n",
      "[NbConvertApp] Writing 5391 bytes to lec2_step1.py\n",
      "[NbConvertApp] Support files will be in lec2_step1_files/\n",
      "[NbConvertApp] Making directory lec2_step1_files\n",
      "[NbConvertApp] Writing 78145 bytes to lec2_step1.tex\n",
      "[NbConvertApp] Support files will be in lec2_step1_files/\n",
      "[NbConvertApp] Making directory ./lec2_step1_files\n",
      "[NbConvertApp] Writing 78145 bytes to notebook.tex\n",
      "[NbConvertApp] Building PDF\n",
      "[NbConvertApp] Running xelatex 3 times: ['xelatex', 'notebook.tex', '-quiet']\n",
      "[NbConvertApp] Writing 684910 bytes to lec2_step1.html\n",
      "[NbConvertApp] Writing 689578 bytes to lec2_step1.slides.html\n",
      "[NbConvertApp] Running bibtex 1 time: ['bibtex', 'notebook']\n",
      "[NbConvertApp] WARNING | bibtex had problems, most likely because there were no citations\n",
      "[NbConvertApp] PDF successfully created\n",
      "[NbConvertApp] Writing 71140 bytes to lec2_step1.pdf\n"
     ]
    },
    {
     "name": "stdout",
     "output_type": "stream",
     "text": [
      "lec2_step1.asciidoc\n",
      "lec2_step1.html\n",
      "lec2_step1.tex\n",
      "lec2_step1.md\n",
      "lec2_step1.pdf\n",
      "lec2_step1.slides.html\n",
      "lec2_step1.asciidoc\n",
      "lec2_step1.html\n",
      "lec2_step1.tex\n",
      "lec2_step1.md\n",
      "lec2_step1.pdf\n",
      "lec2_step1.slides.html\n",
      "lec1_step1\n",
      "jupyter nbconvert --to asciidoc lec1_step1.ipynb\n",
      "jupyter nbconvert --to html lec1_step1.ipynb\n",
      "jupyter nbconvert --to latex lec1_step1.ipynb\n",
      "jupyter nbconvert --to markdown lec1_step1.ipynb\n",
      "jupyter nbconvert --to pdf lec1_step1.ipynb\n",
      "jupyter nbconvert --to python lec1_step1.ipynb\n",
      "jupyter nbconvert --to slides lec1_step1.ipynb\n",
      "There exists lec1_step1\n"
     ]
    },
    {
     "name": "stderr",
     "output_type": "stream",
     "text": [
      "[NbConvertApp] Converting notebook lec1_step1.ipynb to html\n",
      "[NbConvertApp] Converting notebook lec1_step1.ipynb to asciidoc\n",
      "[NbConvertApp] Converting notebook lec1_step1.ipynb to latex\n",
      "[NbConvertApp] Converting notebook lec1_step1.ipynb to pdf\n",
      "[NbConvertApp] Converting notebook lec1_step1.ipynb to markdown\n",
      "[NbConvertApp] Converting notebook lec1_step1.ipynb to python\n",
      "[NbConvertApp] Converting notebook lec1_step1.ipynb to slides\n",
      "[NbConvertApp] Writing 4064 bytes to lec1_step1.md\n",
      "[NbConvertApp] Writing 4917 bytes to lec1_step1.asciidoc\n",
      "[NbConvertApp] Writing 3209 bytes to lec1_step1.py\n",
      "[NbConvertApp] Writing 36220 bytes to lec1_step1.tex\n",
      "[NbConvertApp] Writing 36220 bytes to notebook.tex\n",
      "[NbConvertApp] Building PDF\n",
      "[NbConvertApp] Running xelatex 3 times: ['xelatex', 'notebook.tex', '-quiet']\n",
      "[NbConvertApp] Writing 604374 bytes to lec1_step1.html\n",
      "[NbConvertApp] Writing 609042 bytes to lec1_step1.slides.html\n",
      "[NbConvertApp] Running bibtex 1 time: ['bibtex', 'notebook']\n",
      "[NbConvertApp] WARNING | bibtex had problems, most likely because there were no citations\n",
      "[NbConvertApp] PDF successfully created\n",
      "[NbConvertApp] Writing 33740 bytes to lec1_step1.pdf\n"
     ]
    },
    {
     "name": "stdout",
     "output_type": "stream",
     "text": [
      "lec1_step1.asciidoc\n",
      "lec1_step1.html\n",
      "lec1_step1.tex\n",
      "lec1_step1.md\n",
      "lec1_step1.pdf\n",
      "lec1_step1.slides.html\n",
      "lec1_step1.asciidoc\n",
      "lec1_step1.html\n",
      "lec1_step1.tex\n",
      "lec1_step1.md\n",
      "lec1_step1.pdf\n",
      "lec1_step1.slides.html\n",
      "\n",
      " All processes were completed!\n"
     ]
    }
   ],
   "source": [
    "import subprocess\n",
    "import shutil\n",
    "import os\n",
    "import time\n",
    "ftypes_ori=['asciidoc', 'html', 'latex', 'markdown', 'notebook', 'pdf', 'python','slides'];\n",
    "ptypes_ori=['asciidoc', 'html', 'tex', 'md', 'ipynb', 'pdf', 'py','slides.html']; \n",
    "\n",
    "originalF='lec1_step1.ipynb';\n",
    "# originalF='x_publish_all_codes_sub.ipynb';\n",
    "def subF(originalF):\n",
    "\n",
    "        #ftypes=['asciidoc', 'html', 'latex', 'markdown', 'notebook', 'pdf', 'python','slides'];\n",
    "        #ptypes=['asciidoc', 'html', 'tex', 'md', 'ipynb', 'pdf', 'py','slides.html'];\n",
    "        ftypes=['asciidoc', 'html', 'latex', 'markdown', 'pdf', 'python','slides'];\n",
    "        ptypes=['asciidoc', 'html', 'tex', 'md', 'pdf','slides.html'];\n",
    "\n",
    "        cmd0=['jupyter','nbconvert','--to'];\n",
    "        ftag=originalF.split('.')[0];\n",
    "\n",
    "        print(ftag)\n",
    "\n",
    "        for key in ftypes:\n",
    "          cmd=cmd0+[key]+[originalF];\n",
    "          Pcmd=' '.join(cmd)\n",
    "          print(Pcmd)\n",
    "          subprocess.Popen(cmd)\n",
    "\n",
    "        if  not os.path.isdir(ftag):\n",
    "            print(' '.join(['The target folder \\\"',ftag,'\\\" does not exist...']))\n",
    "            os.mkdir(ftag);\n",
    "        else:\n",
    "            print(' '.join(['There exists',ftag]));  \n",
    "            \n",
    "        time.sleep(10);\n",
    "        for key in ptypes:\n",
    "            target='.'.join([ftag,key]);\n",
    "            print(target);\n",
    "            if os.path.isfile(target):\n",
    "                shutil.move(target,os.path.join(ftag,target));\n",
    "\n",
    "        time.sleep(10);\n",
    "        for key in ptypes:\n",
    "            target='.'.join([ftag,key]);\n",
    "            print(target);\n",
    "            if os.path.isfile(target):\n",
    "                os.remove(target);\n",
    "\n",
    "        target='.'.join([ftag,ptypes[0]]);\n",
    "        target2='.'.join([ftag,'txt']);\n",
    "        shutil.copy(os.path.join(ftag,target),os.path.join(ftag,target2));\n",
    "\n",
    "flist=os.listdir(path='.')\n",
    "flist1= [key for key in flist if '.py'  in key or '.ipy'  in key ]\n",
    "flist2= [key for key in flist1 if 'x_'  not in key and '.ipynb_'  not in key ]\n",
    "flist3= [key for key in flist2 if '.ipynb'  in key ]\n",
    "ftaglist=[key.split('.')[0] for key in flist3]\n",
    "print(ftaglist)\n",
    "\n",
    "for key in ftaglist:\n",
    "    subF(\".\".join([key,ptypes_ori[4]])) # + 'ipynb'\n",
    "\n",
    "# subF(originalF)\n",
    "print(\"\\n All processes were completed!\")"
   ]
  },
  {
   "cell_type": "code",
   "execution_count": 9,
   "metadata": {},
   "outputs": [
    {
     "data": {
      "text/plain": [
       "['lec4_step7_BarStack_Aligned_Stage6.ipynb',\n",
       " 'lec2_step2.ipynb',\n",
       " 'lec4_step6_BarStack_Aligned_Stage5.ipynb',\n",
       " 'lec1_step1.ipynb',\n",
       " 'lec4_step8_BarStack_Aligned_Stage7.ipynb',\n",
       " 'lec2_step1.ipynb',\n",
       " 'lec2_step1.py',\n",
       " 'lec4_step4_BarStack_Aligned_Stage3.ipynb',\n",
       " 'lec3_step4.ipynb',\n",
       " 'lec4_step1_NumPy_Samples_TFarray_Function.ipynb',\n",
       " 'lec4_step5_BarStack_Aligned_Stage4.ipynb',\n",
       " 'lec3_step2.ipynb',\n",
       " 'lec1_step1.py',\n",
       " 'lec4_step2_BarStack_Aligned_Stage1.ipynb',\n",
       " 'lec3_step1.ipynb',\n",
       " 'lec4_step3_BarStack_Aligned_Stage2.ipynb',\n",
       " 'lec3_step3.ipynb']"
      ]
     },
     "execution_count": 9,
     "metadata": {},
     "output_type": "execute_result"
    }
   ],
   "source": [
    "flist2= [key for key in flist1 if 'x_'  not in key and '.ipynb_'  not in key ]\n",
    "flist2"
   ]
  },
  {
   "cell_type": "code",
   "execution_count": 12,
   "metadata": {},
   "outputs": [
    {
     "data": {
      "text/plain": [
       "['lec4_step7_BarStack_Aligned_Stage6.ipynb',\n",
       " 'lec2_step2.ipynb',\n",
       " 'lec4_step6_BarStack_Aligned_Stage5.ipynb',\n",
       " 'lec1_step1.ipynb',\n",
       " 'lec4_step8_BarStack_Aligned_Stage7.ipynb',\n",
       " 'lec2_step1.ipynb',\n",
       " 'lec4_step4_BarStack_Aligned_Stage3.ipynb',\n",
       " 'lec3_step4.ipynb',\n",
       " 'lec4_step1_NumPy_Samples_TFarray_Function.ipynb',\n",
       " 'lec4_step5_BarStack_Aligned_Stage4.ipynb',\n",
       " 'lec3_step2.ipynb',\n",
       " 'lec4_step2_BarStack_Aligned_Stage1.ipynb',\n",
       " 'lec3_step1.ipynb',\n",
       " 'lec4_step3_BarStack_Aligned_Stage2.ipynb',\n",
       " 'lec3_step3.ipynb']"
      ]
     },
     "execution_count": 12,
     "metadata": {},
     "output_type": "execute_result"
    }
   ],
   "source": [
    "flist3= [key for key in flist2 if '.ipynb'  in key ]\n",
    "flist3"
   ]
  },
  {
   "cell_type": "code",
   "execution_count": 14,
   "metadata": {},
   "outputs": [
    {
     "data": {
      "text/plain": [
       "['lec4_step7_BarStack_Aligned_Stage6',\n",
       " 'lec2_step2',\n",
       " 'lec4_step6_BarStack_Aligned_Stage5',\n",
       " 'lec1_step1',\n",
       " 'lec4_step8_BarStack_Aligned_Stage7',\n",
       " 'lec2_step1',\n",
       " 'lec4_step4_BarStack_Aligned_Stage3',\n",
       " 'lec3_step4',\n",
       " 'lec4_step1_NumPy_Samples_TFarray_Function',\n",
       " 'lec4_step5_BarStack_Aligned_Stage4',\n",
       " 'lec3_step2',\n",
       " 'lec4_step2_BarStack_Aligned_Stage1',\n",
       " 'lec3_step1',\n",
       " 'lec4_step3_BarStack_Aligned_Stage2',\n",
       " 'lec3_step3']"
      ]
     },
     "execution_count": 14,
     "metadata": {},
     "output_type": "execute_result"
    }
   ],
   "source": [
    "\n",
    "ftaglist=[key.split('.')[0] for key in flist3]\n",
    "ftaglist"
   ]
  },
  {
   "cell_type": "code",
   "execution_count": 16,
   "metadata": {},
   "outputs": [
    {
     "data": {
      "text/plain": [
       "['lec2_step1', 'lec1_step1']"
      ]
     },
     "execution_count": 16,
     "metadata": {},
     "output_type": "execute_result"
    }
   ],
   "source": [
    "ftaglist"
   ]
  },
  {
   "cell_type": "code",
   "execution_count": 43,
   "metadata": {},
   "outputs": [
    {
     "name": "stdout",
     "output_type": "stream",
     "text": [
      "['x_publish_all_codes_SCRACH.ipynb', '.DS_Store', 'lec1_step1.ipynb', 'LICENSE', 'lec1_step2.py', 'gitattributes', 'lec1_step2', 'lec1_step2.ipynb', 'README.md', '.gitignore', 'GUI_python_platform', '.ipynb_checkpoints', 'x_publish_all_codes_sub.py', 'lec1_step1.py', 'x_publish_all_codes_sub', '.git', 'lec1_step1', 'x_publish_each_codes_SCRATCH.ipynb', 'gitignore', 'x_publish_each_codes.ipynb']\n"
     ]
    }
   ],
   "source": [
    "flist=os.listdir(path='.')\n",
    "print(flist)"
   ]
  },
  {
   "cell_type": "code",
   "execution_count": 8,
   "metadata": {},
   "outputs": [
    {
     "data": {
      "text/plain": [
       "28"
      ]
     },
     "execution_count": 8,
     "metadata": {},
     "output_type": "execute_result"
    }
   ],
   "source": [
    "flist[0].find('py')"
   ]
  },
  {
   "cell_type": "code",
   "execution_count": 11,
   "metadata": {},
   "outputs": [
    {
     "data": {
      "text/plain": [
       "['x_publish_all_codes_SCRACH.ipynb',\n",
       " '.DS_Store',\n",
       " 'lec1_step1.ipynb',\n",
       " 'LICENSE',\n",
       " 'gitattributes',\n",
       " 'README.md',\n",
       " '.gitignore',\n",
       " 'GUI_python_platform',\n",
       " '.ipynb_checkpoints',\n",
       " 'x_publish_all_codes_sub.py',\n",
       " 'lec1_step1.py',\n",
       " 'x_publish_all_codes_sub',\n",
       " '.git',\n",
       " 'lec1_step1',\n",
       " 'x_publish_each_codes_SCRATCH.ipynb',\n",
       " 'gitignore',\n",
       " 'x_publish_each_codes.ipynb']"
      ]
     },
     "execution_count": 11,
     "metadata": {},
     "output_type": "execute_result"
    }
   ],
   "source": [
    " [key for key in flist if 'py' or 'ipynb' in key]\n"
   ]
  },
  {
   "cell_type": "code",
   "execution_count": 41,
   "metadata": {},
   "outputs": [
    {
     "name": "stdout",
     "output_type": "stream",
     "text": [
      "['x_publish_all_codes_SCRACH.ipynb', 'lec1_step1.ipynb', 'lec1_step2.py', '.ipynb_checkpoints', 'x_publish_all_codes_sub.py', 'lec1_step1.py', 'x_publish_each_codes_SCRATCH.ipynb', 'x_publish_each_codes.ipynb']\n",
      " \n",
      "['lec1_step1.ipynb', 'lec1_step2.py', 'lec1_step1.py']\n",
      "['lec1_step2.py', 'lec1_step1.py']\n",
      "['lec1_step2', 'lec1_step1']\n"
     ]
    }
   ],
   "source": [
    "flist=os.listdir(path='.')\n",
    "flist1= [key for key in flist if '.py'  in key or '.ipy'  in key ]\n",
    "print(flist1)\n",
    "print(' ')\n",
    "flist2= [key for key in flist1 if 'x_'  not in key and '.ipynb_'  not in key ]\n",
    "print(flist2)\n",
    "flist3= [key for key in flist2 if '.py'  in key ]\n",
    "print(flist3)\n",
    "ftaglist=[key.split('.')[0] for key in flist3]\n",
    "print(ftaglist)"
   ]
  },
  {
   "cell_type": "code",
   "execution_count": 26,
   "metadata": {},
   "outputs": [
    {
     "data": {
      "text/plain": [
       "['.DS_Store',\n",
       " 'lec1_step1.ipynb',\n",
       " 'LICENSE',\n",
       " 'gitattributes',\n",
       " 'README.md',\n",
       " '.gitignore',\n",
       " 'GUI_python_platform',\n",
       " '.ipynb_checkpoints',\n",
       " 'lec1_step1.py',\n",
       " '.git',\n",
       " 'lec1_step1',\n",
       " 'gitignore']"
      ]
     },
     "execution_count": 26,
     "metadata": {},
     "output_type": "execute_result"
    }
   ],
   "source": [
    " [key for key in flist if 'x_' not in key ]\n",
    "\n"
   ]
  },
  {
   "cell_type": "code",
   "execution_count": 49,
   "metadata": {},
   "outputs": [
    {
     "data": {
      "text/plain": [
       "'lec1_step2.ipynb'"
      ]
     },
     "execution_count": 49,
     "metadata": {},
     "output_type": "execute_result"
    }
   ],
   "source": [
    "\".\".join([key,ptypes_ori[4]])"
   ]
  },
  {
   "cell_type": "code",
   "execution_count": null,
   "metadata": {},
   "outputs": [],
   "source": []
  }
 ],
 "metadata": {
  "kernelspec": {
   "display_name": "Python 3 (ipykernel)",
   "language": "python",
   "name": "python3"
  },
  "language_info": {
   "codemirror_mode": {
    "name": "ipython",
    "version": 3
   },
   "file_extension": ".py",
   "mimetype": "text/x-python",
   "name": "python",
   "nbconvert_exporter": "python",
   "pygments_lexer": "ipython3",
   "version": "3.9.14"
  }
 },
 "nbformat": 4,
 "nbformat_minor": 2
}
