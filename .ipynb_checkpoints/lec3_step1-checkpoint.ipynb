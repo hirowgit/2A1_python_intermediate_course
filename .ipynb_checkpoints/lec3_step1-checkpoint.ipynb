{
 "cells": [
  {
   "cell_type": "code",
   "execution_count": null,
   "id": "0114e422",
   "metadata": {},
   "outputs": [],
   "source": [
    "## Python basics for novice data scientists, supported by Wagatsuma Lab@Kyutech \n",
    "#\n",
    "# The MIT License (MIT): Copyright (c) 2020 Hiroaki Wagatsuma and Wagatsuma Lab@Kyutech\n",
    "# \n",
    "# Permission is hereby granted, free of charge, to any person obtaining a copy of this software and associated documentation files (the \"Software\"), to deal in the Software without restriction, including without limitation the rights to use, copy, modify, merge, publish, distribute, sublicense, and/or sell copies of the Software, and to permit persons to whom the Software is furnished to do so, subject to the following conditions:\n",
    "# The above copyright notice and this permission notice shall be included in all copies or substantial portions of the Software.\n",
    "# THE SOFTWARE IS PROVIDED \"AS IS\", WITHOUT WARRANTY OF ANY KIND, EXPRESS OR IMPLIED, INCLUDING BUT NOT LIMITED TO THE WARRANTIES OF MERCHANTABILITY, FITNESS FOR A PARTICULAR PURPOSE AND NONINFRINGEMENT. IN NO EVENT SHALL THE AUTHORS OR COPYRIGHT HOLDERS BE LIABLE FOR ANY CLAIM, DAMAGES OR OTHER LIABILITY, WHETHER IN AN ACTION OF CONTRACT, TORT OR OTHERWISE, ARISING FROM, OUT OF OR IN CONNECTION WITH THE SOFTWARE OR THE USE OR OTHER DEALINGS IN THE SOFTWARE. */\n",
    "#\n",
    "# # @Time    : 2022-8-10 \n",
    "# # @Author  : Hiroaki Wagatsuma\n",
    "# # @Site    : https://github.com/hirowgit/2A1_python_intermediate_course\n",
    "# # @IDE     : Python 3.9.13 (main, Aug  7 2022, 01:33:23)  [Clang 13.1.6 (clang-1316.0.21.2.5)] on darwin\n",
    "# # @File    : lec2_step1.py "
   ]
  },
  {
   "cell_type": "code",
   "execution_count": 1,
   "id": "deb38fe5",
   "metadata": {},
   "outputs": [],
   "source": [
    "import numpy as np\n",
    "import matplotlib.pyplot as plt"
   ]
  },
  {
   "cell_type": "code",
   "execution_count": null,
   "id": "13250386",
   "metadata": {},
   "outputs": [],
   "source": [
    "allData = np.loadtxt('allData200.csv', delimiter=',', dtype='int64')\n",
    "allData"
   ]
  },
  {
   "cell_type": "code",
   "execution_count": 3,
   "id": "852b6768",
   "metadata": {},
   "outputs": [
    {
     "name": "stdout",
     "output_type": "stream",
     "text": [
      "     9   7   3   5  6   2  8   4  1  10\n",
      "0    6   4  10   7  9   3  8   5  1   2\n",
      "1    4   3   6   2  7   5  9  10  1   8\n",
      "2    3   6   7   4  1   8  2   5  9  10\n",
      "3    1  10   4   8  7   6  3   5  2   9\n",
      "4    7   8   9   2  3   4  5  10  1   6\n",
      "..  ..  ..  ..  .. ..  .. ..  .. ..  ..\n",
      "194  6  10   3   7  8   9  4   5  2   1\n",
      "195  8   1   5  10  6   4  2   7  9   3\n",
      "196  3   4   1  10  5   9  6   2  7   8\n",
      "197  6   7   3   2  5  10  1   8  9   4\n",
      "198  9   8   5   3  4   1  2  10  7   6\n",
      "\n",
      "[199 rows x 10 columns]\n"
     ]
    }
   ],
   "source": [
    "import pandas as pd\n",
    "\n",
    "df = pd.read_csv('allData200.csv',delimiter=',', dtype='int64')\n",
    "print(df)"
   ]
  },
  {
   "cell_type": "code",
   "execution_count": null,
   "id": "ddab20b8",
   "metadata": {},
   "outputs": [],
   "source": [
    "df_tsv = pd.read_table('part2_Interface_definition_code_data_fullENG.csv', index_col=0)\n",
    "print(df_tsv)\n",
    "\n"
   ]
  }
 ],
 "metadata": {
  "kernelspec": {
   "display_name": "Python 3 (ipykernel)",
   "language": "python",
   "name": "python3"
  },
  "language_info": {
   "codemirror_mode": {
    "name": "ipython",
    "version": 3
   },
   "file_extension": ".py",
   "mimetype": "text/x-python",
   "name": "python",
   "nbconvert_exporter": "python",
   "pygments_lexer": "ipython3",
   "version": "3.9.13"
  }
 },
 "nbformat": 4,
 "nbformat_minor": 5
}
