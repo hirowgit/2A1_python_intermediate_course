{
 "cells": [
  {
   "cell_type": "markdown",
   "metadata": {
    "id": "fsZq2d3Qp69X"
   },
   "source": [
    "**#2: List to List comprehension**\n",
    "\n"
   ]
  },
  {
   "cell_type": "code",
   "execution_count": null,
   "metadata": {
    "id": "IAUYoeAxpjNU"
   },
   "outputs": [],
   "source": [
    "import numpy as np\n",
    "import numpy.matlib\n",
    "import os\n",
    "import sys\n",
    "import codecs\n",
    "import matplotlib.pyplot as plt\n",
    "import pandas as pd\n",
    "from openpyxl import Workbook\n",
    "import pprint\n",
    "import datetime"
   ]
  },
  {
   "cell_type": "code",
   "execution_count": null,
   "metadata": {
    "id": "9GaashW1iAYk"
   },
   "outputs": [],
   "source": [
    "Sleep_set={'Cat','Dog','Hamster'}\n",
    "Eat_set={'Cat'}\n",
    "Cook_set={'Cat','Rabbit','Pig','Bear'}\n",
    "Dance_set={'Sheep','Cat','Dog','Rabbit','Bear'}\n",
    "Stand_set={'Sheep'}\n",
    "Ride_set={'Horse'}"
   ]
  },
  {
   "cell_type": "code",
   "execution_count": null,
   "metadata": {
    "id": "__3KEyrqiAbE"
   },
   "outputs": [],
   "source": [
    "Aset=Cook_set\n",
    "Bset=Dance_set\n",
    "Cset=Sleep_set"
   ]
  },
  {
   "cell_type": "code",
   "execution_count": null,
   "metadata": {
    "colab": {
     "base_uri": "https://localhost:8080/"
    },
    "id": "BtcUy3z7mxxw",
    "outputId": "6790782b-08b9-48d5-e4ba-b2ee12bacacf"
   },
   "outputs": [
    {
     "data": {
      "text/plain": [
       "{'Bear', 'Cat', 'Rabbit'}"
      ]
     },
     "execution_count": 5,
     "metadata": {},
     "output_type": "execute_result"
    }
   ],
   "source": [
    "Aset & Bset"
   ]
  },
  {
   "cell_type": "code",
   "execution_count": null,
   "metadata": {
    "colab": {
     "base_uri": "https://localhost:8080/"
    },
    "id": "htfP8C18iAc4",
    "outputId": "6d169a89-5638-4d38-9053-8feb436400b9"
   },
   "outputs": [
    {
     "data": {
      "text/plain": [
       "3"
      ]
     },
     "execution_count": 6,
     "metadata": {},
     "output_type": "execute_result"
    }
   ],
   "source": [
    "len(Aset & Bset)"
   ]
  },
  {
   "cell_type": "code",
   "execution_count": null,
   "metadata": {
    "colab": {
     "base_uri": "https://localhost:8080/"
    },
    "id": "PqB1C0BGgXax",
    "outputId": "e2fdc943-0a6b-4b2f-bfe6-a7db0ea57ba9"
   },
   "outputs": [
    {
     "data": {
      "text/plain": [
       "{'Bear', 'Cat', 'Dog', 'Pig', 'Rabbit', 'Sheep'}"
      ]
     },
     "execution_count": 7,
     "metadata": {},
     "output_type": "execute_result"
    }
   ],
   "source": [
    "Aset | Bset"
   ]
  },
  {
   "cell_type": "code",
   "execution_count": null,
   "metadata": {
    "colab": {
     "base_uri": "https://localhost:8080/"
    },
    "id": "clw833gigXfs",
    "outputId": "23ac5501-7fee-4b5d-ca79-a2f3d1e34116"
   },
   "outputs": [
    {
     "data": {
      "text/plain": [
       "6"
      ]
     },
     "execution_count": 8,
     "metadata": {},
     "output_type": "execute_result"
    }
   ],
   "source": [
    "len(Aset | Bset)"
   ]
  },
  {
   "cell_type": "code",
   "execution_count": null,
   "metadata": {
    "id": "ubX8O4jcgXky"
   },
   "outputs": [],
   "source": []
  },
  {
   "cell_type": "code",
   "execution_count": null,
   "metadata": {
    "id": "z4YQyMTSqYqF"
   },
   "outputs": [],
   "source": [
    "funcA = lambda x: 1 if x==1 else (2 if x==2 else 3)"
   ]
  },
  {
   "cell_type": "code",
   "execution_count": null,
   "metadata": {
    "id": "t4mtZrFGuBvo"
   },
   "outputs": [],
   "source": [
    "funcA = lambda x: 1 if x==1 else 2 if x==2 else 3 if x==3 else 0"
   ]
  },
  {
   "cell_type": "code",
   "execution_count": null,
   "metadata": {
    "colab": {
     "base_uri": "https://localhost:8080/"
    },
    "id": "PfCQU6f1qYv7",
    "outputId": "3a143325-c1ad-4228-96cf-f9a42679f018"
   },
   "outputs": [
    {
     "data": {
      "text/plain": [
       "0"
      ]
     },
     "execution_count": 10,
     "metadata": {},
     "output_type": "execute_result"
    }
   ],
   "source": [
    "funcA(2)"
   ]
  },
  {
   "cell_type": "code",
   "execution_count": null,
   "metadata": {
    "colab": {
     "base_uri": "https://localhost:8080/"
    },
    "id": "HfYL5kWquenZ",
    "outputId": "9f81e0ea-bcfe-411c-b492-7880b0e872b9"
   },
   "outputs": [
    {
     "data": {
      "text/plain": [
       "1"
      ]
     },
     "execution_count": 11,
     "metadata": {},
     "output_type": "execute_result"
    }
   ],
   "source": [
    "funcA(1)"
   ]
  },
  {
   "cell_type": "code",
   "execution_count": null,
   "metadata": {
    "colab": {
     "base_uri": "https://localhost:8080/"
    },
    "id": "DR2JouYFuep-",
    "outputId": "f0b631da-172f-4bce-a41e-1dc691eca7e7"
   },
   "outputs": [
    {
     "data": {
      "text/plain": [
       "2"
      ]
     },
     "execution_count": 12,
     "metadata": {},
     "output_type": "execute_result"
    }
   ],
   "source": [
    "funcA(2)"
   ]
  },
  {
   "cell_type": "code",
   "execution_count": null,
   "metadata": {
    "colab": {
     "base_uri": "https://localhost:8080/"
    },
    "id": "Dviw3JPyqYyK",
    "outputId": "dcd138fe-4794-4af8-f070-95f105abc8c8"
   },
   "outputs": [
    {
     "data": {
      "text/plain": [
       "3"
      ]
     },
     "execution_count": 13,
     "metadata": {},
     "output_type": "execute_result"
    }
   ],
   "source": [
    "funcA(3)"
   ]
  },
  {
   "cell_type": "code",
   "execution_count": null,
   "metadata": {
    "colab": {
     "base_uri": "https://localhost:8080/"
    },
    "id": "ioSUi-kDubyH",
    "outputId": "29433dfd-5cf3-426e-cf47-b1f5d2d69999"
   },
   "outputs": [
    {
     "data": {
      "text/plain": [
       "0"
      ]
     },
     "execution_count": 14,
     "metadata": {},
     "output_type": "execute_result"
    }
   ],
   "source": [
    "funcA(5)"
   ]
  },
  {
   "cell_type": "code",
   "execution_count": null,
   "metadata": {
    "id": "_4w7V3GshghJ"
   },
   "outputs": [],
   "source": []
  },
  {
   "cell_type": "code",
   "execution_count": 24,
   "metadata": {
    "id": "MVGmqo0E0lMk"
   },
   "outputs": [],
   "source": [
    "p=lambda x: False if x>=0 else True"
   ]
  },
  {
   "cell_type": "code",
   "execution_count": null,
   "metadata": {
    "colab": {
     "base_uri": "https://localhost:8080/"
    },
    "id": "MRJlgC9eub0s",
    "outputId": "33bec5a1-e250-4b55-ad82-14526c890542"
   },
   "outputs": [
    {
     "data": {
      "text/plain": [
       "[True, False, False]"
      ]
     },
     "execution_count": 42,
     "metadata": {},
     "output_type": "execute_result"
    }
   ],
   "source": [
    "x=[-1,0,1]\n",
    "list(map(p,x))"
   ]
  },
  {
   "cell_type": "code",
   "execution_count": null,
   "metadata": {
    "colab": {
     "base_uri": "https://localhost:8080/"
    },
    "id": "yy7AaTBq2BVp",
    "outputId": "8d04a9ea-03c9-4bf6-8640-a6663c7ca4e7"
   },
   "outputs": [
    {
     "data": {
      "text/plain": [
       "1"
      ]
     },
     "execution_count": 43,
     "metadata": {},
     "output_type": "execute_result"
    }
   ],
   "source": [
    "sum(map(p,x))"
   ]
  },
  {
   "cell_type": "code",
   "execution_count": null,
   "metadata": {
    "colab": {
     "base_uri": "https://localhost:8080/"
    },
    "id": "sbkO3zKUub3M",
    "outputId": "ddc024c4-31b8-4399-ad85-6a95597b67a8"
   },
   "outputs": [
    {
     "data": {
      "text/plain": [
       "0"
      ]
     },
     "execution_count": 44,
     "metadata": {},
     "output_type": "execute_result"
    }
   ],
   "source": [
    "x=[-1,0,1]\n",
    "funcB = lambda x: x if sum(map(p,x))!=1 else 0\n",
    "funcB(x)"
   ]
  },
  {
   "cell_type": "code",
   "execution_count": null,
   "metadata": {
    "colab": {
     "base_uri": "https://localhost:8080/"
    },
    "id": "YUKqKeYX3Q2b",
    "outputId": "a687672d-11f0-4f40-c26e-30fac94d123d"
   },
   "outputs": [
    {
     "data": {
      "text/plain": [
       "[-1, -1, 1]"
      ]
     },
     "execution_count": 38,
     "metadata": {},
     "output_type": "execute_result"
    }
   ],
   "source": [
    "x=[-1,-1,1]\n",
    "funcB(x)"
   ]
  },
  {
   "cell_type": "code",
   "execution_count": null,
   "metadata": {
    "id": "1OuDkk8L3Q5P"
   },
   "outputs": [],
   "source": [
    "funcC = lambda x: x if sum(map(p,x))!=1 else 1 if p(x[0]) else 2 if p(x[1]) else 3 if p(x[2]) else 0"
   ]
  },
  {
   "cell_type": "code",
   "execution_count": null,
   "metadata": {
    "colab": {
     "base_uri": "https://localhost:8080/"
    },
    "id": "SjJfECYj3-UX",
    "outputId": "5377b3bf-76b0-4b66-cad7-d22d9ff166a3"
   },
   "outputs": [
    {
     "data": {
      "text/plain": [
       "1"
      ]
     },
     "execution_count": 46,
     "metadata": {},
     "output_type": "execute_result"
    }
   ],
   "source": [
    "x=[-1,0,1]\n",
    "funcC(x)"
   ]
  },
  {
   "cell_type": "code",
   "execution_count": null,
   "metadata": {
    "colab": {
     "base_uri": "https://localhost:8080/"
    },
    "id": "lYIWmisB3-XF",
    "outputId": "37346bf7-94f1-4137-d85e-efb975827ad4"
   },
   "outputs": [
    {
     "data": {
      "text/plain": [
       "2"
      ]
     },
     "execution_count": 48,
     "metadata": {},
     "output_type": "execute_result"
    }
   ],
   "source": [
    "x=[1,-1,1]\n",
    "funcC(x)"
   ]
  },
  {
   "cell_type": "code",
   "execution_count": null,
   "metadata": {
    "colab": {
     "base_uri": "https://localhost:8080/"
    },
    "id": "tVWsHAUe3-cK",
    "outputId": "afa9f1b5-afb7-46b6-c281-a5ac23ebff77"
   },
   "outputs": [
    {
     "data": {
      "text/plain": [
       "3"
      ]
     },
     "execution_count": 49,
     "metadata": {},
     "output_type": "execute_result"
    }
   ],
   "source": [
    "x=[1,2,-1]\n",
    "funcC(x)"
   ]
  },
  {
   "cell_type": "code",
   "execution_count": null,
   "metadata": {
    "colab": {
     "base_uri": "https://localhost:8080/"
    },
    "id": "3AyQz3V83-ex",
    "outputId": "986f70c3-2450-4131-c0a4-189c5a7df2c4"
   },
   "outputs": [
    {
     "data": {
      "text/plain": [
       "[1, -1, -1]"
      ]
     },
     "execution_count": 50,
     "metadata": {},
     "output_type": "execute_result"
    }
   ],
   "source": [
    "x=[1,-1,-1]\n",
    "funcC(x)"
   ]
  },
  {
   "cell_type": "code",
   "execution_count": null,
   "metadata": {
    "colab": {
     "base_uri": "https://localhost:8080/"
    },
    "id": "C2zCRuui3-ho",
    "outputId": "f75e2613-9550-41a9-9f33-f99012cda128"
   },
   "outputs": [
    {
     "data": {
      "text/plain": [
       "0"
      ]
     },
     "execution_count": 51,
     "metadata": {},
     "output_type": "execute_result"
    }
   ],
   "source": [
    "x=[1,2,1,-1]\n",
    "funcC(x)"
   ]
  },
  {
   "cell_type": "code",
   "execution_count": 25,
   "metadata": {
    "id": "oiFtAErW3_BY"
   },
   "outputs": [],
   "source": [
    "funcD = lambda x: x if sum(map(p,x))!=1 else [x[2]-x[1],x[1],x[2]] if p(x[0]) else [x[0],x[2]-x[0],x[2]] if p(x[1]) else [x[0],x[1],x[0]+x[1]] if p(x[2]) else [0,0,0]"
   ]
  },
  {
   "cell_type": "code",
   "execution_count": null,
   "metadata": {
    "colab": {
     "base_uri": "https://localhost:8080/"
    },
    "id": "GrfQfS-M5TwI",
    "outputId": "6055af37-4b5f-49fb-8ece-fc84cc1d1935"
   },
   "outputs": [
    {
     "data": {
      "text/plain": [
       "[2, 3, 5]"
      ]
     },
     "execution_count": 54,
     "metadata": {},
     "output_type": "execute_result"
    }
   ],
   "source": [
    "x=[2,3,5]\n",
    "funcD(x)"
   ]
  },
  {
   "cell_type": "code",
   "execution_count": null,
   "metadata": {
    "colab": {
     "base_uri": "https://localhost:8080/"
    },
    "id": "6pgUdVTk5Ty3",
    "outputId": "b1b46309-040d-451c-ff5b-9fc27b662cd3"
   },
   "outputs": [
    {
     "data": {
      "text/plain": [
       "[2, 3, 5]"
      ]
     },
     "execution_count": 55,
     "metadata": {},
     "output_type": "execute_result"
    }
   ],
   "source": [
    "x=[-1,3,5]\n",
    "funcD(x)"
   ]
  },
  {
   "cell_type": "code",
   "execution_count": null,
   "metadata": {
    "colab": {
     "base_uri": "https://localhost:8080/"
    },
    "id": "Ml93PI1z5T1F",
    "outputId": "c17f113a-0e9a-40f9-a4aa-73c06678e147"
   },
   "outputs": [
    {
     "data": {
      "text/plain": [
       "[2, 3, 5]"
      ]
     },
     "execution_count": 56,
     "metadata": {},
     "output_type": "execute_result"
    }
   ],
   "source": [
    "x=[2,-1,5]\n",
    "funcD(x)"
   ]
  },
  {
   "cell_type": "code",
   "execution_count": null,
   "metadata": {
    "colab": {
     "base_uri": "https://localhost:8080/"
    },
    "id": "IgYDpePT3_Eh",
    "outputId": "a498dd7e-d883-43a5-af06-aa2454367848"
   },
   "outputs": [
    {
     "data": {
      "text/plain": [
       "[2, 3, 5]"
      ]
     },
     "execution_count": 57,
     "metadata": {},
     "output_type": "execute_result"
    }
   ],
   "source": [
    "x=[2,3,-1]\n",
    "funcD(x)"
   ]
  },
  {
   "cell_type": "code",
   "execution_count": null,
   "metadata": {
    "colab": {
     "base_uri": "https://localhost:8080/"
    },
    "id": "R3WaJoTD6OGr",
    "outputId": "b3af2fde-0fb7-4907-98d5-b0d47c245548"
   },
   "outputs": [
    {
     "data": {
      "text/plain": [
       "[0, 0, 0]"
      ]
     },
     "execution_count": 60,
     "metadata": {},
     "output_type": "execute_result"
    }
   ],
   "source": [
    "x=[2,3,5,-1]\n",
    "funcD(x)"
   ]
  },
  {
   "cell_type": "code",
   "execution_count": 26,
   "metadata": {
    "id": "9kjmaYDK651J"
   },
   "outputs": [],
   "source": [
    "funcE = lambda x: -1 if sum(map(p,x))!=1 else 0 if p(x[0]) else 1 if p(x[1]) else 2 if p(x[2]) else -1"
   ]
  },
  {
   "cell_type": "code",
   "execution_count": 31,
   "metadata": {
    "colab": {
     "base_uri": "https://localhost:8080/"
    },
    "id": "F9gBj7gknf8h",
    "outputId": "93aac708-dfa7-4199-8eca-744e2f0141b0"
   },
   "outputs": [
    {
     "data": {
      "text/plain": [
       "0"
      ]
     },
     "execution_count": 31,
     "metadata": {},
     "output_type": "execute_result"
    }
   ],
   "source": [
    "x=[-1,3,5]\n",
    "funcE(x)"
   ]
  },
  {
   "cell_type": "code",
   "execution_count": 29,
   "metadata": {
    "colab": {
     "base_uri": "https://localhost:8080/"
    },
    "id": "UkbygV_b6qGq",
    "outputId": "a2f08ddb-f6ca-4adb-f0ab-a3cd28846c38"
   },
   "outputs": [
    {
     "data": {
      "text/plain": [
       "1"
      ]
     },
     "execution_count": 29,
     "metadata": {},
     "output_type": "execute_result"
    }
   ],
   "source": [
    "x=[2,-1,5]\n",
    "funcE(x)"
   ]
  },
  {
   "cell_type": "code",
   "execution_count": 30,
   "metadata": {
    "colab": {
     "base_uri": "https://localhost:8080/"
    },
    "id": "NOXArjxl6qJS",
    "outputId": "fda0085e-f00a-4f68-f3fd-30923de9273c"
   },
   "outputs": [
    {
     "data": {
      "text/plain": [
       "2"
      ]
     },
     "execution_count": 30,
     "metadata": {},
     "output_type": "execute_result"
    }
   ],
   "source": [
    "x=[2,3,-1]\n",
    "funcE(x)"
   ]
  },
  {
   "cell_type": "code",
   "execution_count": 32,
   "metadata": {
    "colab": {
     "base_uri": "https://localhost:8080/"
    },
    "id": "wlVBPoN3VISy",
    "outputId": "68c60bf7-0a86-4294-9201-51f78b8906cd"
   },
   "outputs": [
    {
     "data": {
      "text/plain": [
       "-1"
      ]
     },
     "execution_count": 32,
     "metadata": {},
     "output_type": "execute_result"
    }
   ],
   "source": [
    "x=[2,3,5]\n",
    "funcE(x)"
   ]
  },
  {
   "cell_type": "code",
   "execution_count": 1,
   "metadata": {
    "id": "FkTW57rGFyTa"
   },
   "outputs": [],
   "source": [
    "(iA, iAiB, iAiBiC)=(-1,-1,-1)"
   ]
  },
  {
   "cell_type": "code",
   "execution_count": 2,
   "metadata": {},
   "outputs": [
    {
     "data": {
      "text/plain": [
       "(-1, -1, -1)"
      ]
     },
     "execution_count": 2,
     "metadata": {},
     "output_type": "execute_result"
    }
   ],
   "source": [
    "(iA, iAiB, iAiBiC)"
   ]
  },
  {
   "cell_type": "code",
   "execution_count": 3,
   "metadata": {
    "colab": {
     "base_uri": "https://localhost:8080/"
    },
    "id": "5k6qt2YxGB1A",
    "outputId": "6402db3a-9ce2-4dcb-c29c-ae850800b1c8"
   },
   "outputs": [
    {
     "data": {
      "text/plain": [
       "[-1, -1, -1]"
      ]
     },
     "execution_count": 3,
     "metadata": {},
     "output_type": "execute_result"
    }
   ],
   "source": [
    "[-1]*3"
   ]
  },
  {
   "cell_type": "code",
   "execution_count": null,
   "metadata": {
    "id": "pEw9tmJNF1ew"
   },
   "outputs": [],
   "source": [
    "iA, iAiB, iAiBiC=[-1]*3"
   ]
  },
  {
   "cell_type": "code",
   "execution_count": 9,
   "metadata": {
    "id": "W3uEG6BeGLn9"
   },
   "outputs": [],
   "source": [
    "(iA, iAiB, iAiBiC, iAiBoC, iAiC, iAoB, iAoBiC, iAoBoC, iAoC, iB, iBiC, iBoC, iC, iG, oA, oAiB, oAiBiC, oAiBoC, oAiC, oAoB, oAoBiC, oAoBoC, oAoC, oB, oBiC, oBoC, oC)=[-1]*27"
   ]
  },
  {
   "cell_type": "code",
   "execution_count": 10,
   "metadata": {
    "id": "d3pM1YSu6534"
   },
   "outputs": [],
   "source": [
    "allSet=[[iA, oA, iG],\n",
    "[iB, oB, iG],\n",
    "[iC, oC, iG],\n",
    "[iAiB, iAoB, iA],\n",
    "[iAiC, iAoC, iA],\n",
    "[iAiB, oAiB, iB],\n",
    "[iBiC, iBoC, iB],\n",
    "[iAiC, oAiC, iC],\n",
    "[iBiC, oBiC, iC],\n",
    "[oAiB, oAoB, oA],\n",
    "[oAiC, oAoC, oA],\n",
    "[iAoB, oAoB, oB],\n",
    "[oBiC, oBoC, oB],\n",
    "[iAoC, oAoC, oC],\n",
    "[iBoC, oBoC, oC],\n",
    "[iAiBiC, iAiBoC, iAiB],\n",
    "[oAiBiC, oAiBoC, oAiB],\n",
    "[iAoBiC, iAoBoC, iAoB],\n",
    "[oAoBiC, oAoBoC, oAoB],\n",
    "[iAiBiC, iAoBiC, iAiC],\n",
    "[oAiBiC, oAoBiC, oAiC],\n",
    "[iAiBoC, iAoBoC, iAoC],\n",
    "[oAiBoC, oAoBoC, oAoC],\n",
    "[iAiBiC, oAiBiC, iBiC],\n",
    "[iAoBiC, oAoBiC, oBiC],\n",
    "[iAiBoC, oAiBoC, iBoC],\n",
    "[iAoBoC, oAoBoC, oBoC]]"
   ]
  },
  {
   "cell_type": "code",
   "execution_count": 11,
   "metadata": {
    "colab": {
     "base_uri": "https://localhost:8080/"
    },
    "id": "Dq6nh3oO655_",
    "outputId": "842db337-cd73-4570-deed-67734b14eaa0"
   },
   "outputs": [
    {
     "data": {
      "text/plain": [
       "[[-1, -1, -1],\n",
       " [-1, -1, -1],\n",
       " [-1, -1, -1],\n",
       " [-1, -1, -1],\n",
       " [-1, -1, -1],\n",
       " [-1, -1, -1],\n",
       " [-1, -1, -1],\n",
       " [-1, -1, -1],\n",
       " [-1, -1, -1],\n",
       " [-1, -1, -1],\n",
       " [-1, -1, -1],\n",
       " [-1, -1, -1],\n",
       " [-1, -1, -1],\n",
       " [-1, -1, -1],\n",
       " [-1, -1, -1],\n",
       " [-1, -1, -1],\n",
       " [-1, -1, -1],\n",
       " [-1, -1, -1],\n",
       " [-1, -1, -1],\n",
       " [-1, -1, -1],\n",
       " [-1, -1, -1],\n",
       " [-1, -1, -1],\n",
       " [-1, -1, -1],\n",
       " [-1, -1, -1],\n",
       " [-1, -1, -1],\n",
       " [-1, -1, -1],\n",
       " [-1, -1, -1]]"
      ]
     },
     "execution_count": 11,
     "metadata": {},
     "output_type": "execute_result"
    }
   ],
   "source": [
    "allSet"
   ]
  },
  {
   "cell_type": "code",
   "execution_count": 12,
   "metadata": {
    "id": "TI3VUlK9jV8U"
   },
   "outputs": [],
   "source": [
    "allSet=[[iA, oA, iG],\n",
    "[iB, oB, iG],\n",
    "[iC, oC, iG],\n",
    "[iAiB, iAoB, iA],\n",
    "[iAiC, iAoC, iA],\n",
    "[iAiB, oAiB, iB],\n",
    "[iBiC, iBoC, iB],\n",
    "[iAiC, oAiC, iC],\n",
    "[iBiC, oBiC, iC],\n",
    "[oAiB, oAoB, oA],\n",
    "[oAiC, oAoC, oA],\n",
    "[iAoB, oAoB, oB],\n",
    "[oBiC, oBoC, oB],\n",
    "[iAoC, oAoC, oC],\n",
    "[iBoC, oBoC, oC],\n",
    "[iAiBiC, iAiBoC, iAiB],\n",
    "[oAiBiC, oAiBoC, oAiB],\n",
    "[iAoBiC, iAoBoC, iAoB],\n",
    "[oAoBiC, oAoBoC, oAoB],\n",
    "[iAiBiC, iAoBiC, iAiC],\n",
    "[oAiBiC, oAoBiC, oAiC],\n",
    "[iAiBoC, iAoBoC, iAoC],\n",
    "[oAiBoC, oAoBoC, oAoC],\n",
    "[iAiBiC, oAiBiC, iBiC],\n",
    "[iAoBiC, oAoBiC, oBiC],\n",
    "[iAiBoC, oAiBoC, iBoC],\n",
    "[iAoBoC, oAoBoC, oBoC]]"
   ]
  },
  {
   "cell_type": "code",
   "execution_count": 13,
   "metadata": {
    "id": "yf23eDarjpiP"
   },
   "outputs": [],
   "source": [
    "allSetLabel=[['iA','oA','iG'],\n",
    "['iB','oB','iG'],\n",
    "['iC','oC','iG'],\n",
    "['iAiB','iAoB','iA'],\n",
    "['iAiC','iAoC','iA'],\n",
    "['iAiB','oAiB','iB'],\n",
    "['iBiC','iBoC','iB'],\n",
    "['iAiC','oAiC','iC'],\n",
    "['iBiC','oBiC','iC'],\n",
    "['oAiB','oAoB','oA'],\n",
    "['oAiC','oAoC','oA'],\n",
    "['iAoB','oAoB','oB'],\n",
    "['oBiC','oBoC','oB'],\n",
    "['iAoC','oAoC','oC'],\n",
    "['iBoC','oBoC','oC'],\n",
    "['iAiBiC','iAiBoC','iAiB'],\n",
    "['oAiBiC','oAiBoC','oAiB'],\n",
    "['iAoBiC','iAoBoC','iAoB'],\n",
    "['oAoBiC','oAoBoC','oAoB'],\n",
    "['iAiBiC','iAoBiC','iAiC'],\n",
    "['oAiBiC','oAoBiC','oAiC'],\n",
    "['iAiBoC','iAoBoC','iAoC'],\n",
    "['oAiBoC','oAoBoC','oAoC'],\n",
    "['iAiBiC','oAiBiC','iBiC'],\n",
    "['iAoBiC','oAoBiC','oBiC'],\n",
    "['iAiBoC','oAiBoC','iBoC'],\n",
    "['iAoBoC','oAoBoC','oBoC']]"
   ]
  },
  {
   "cell_type": "code",
   "execution_count": 14,
   "metadata": {
    "colab": {
     "base_uri": "https://localhost:8080/"
    },
    "id": "oo5kR7ZvjvzB",
    "outputId": "42c6a432-e8bc-4c75-c5db-58485f2e0479"
   },
   "outputs": [
    {
     "data": {
      "text/plain": [
       "[['iA', 'oA', 'iG'],\n",
       " ['iB', 'oB', 'iG'],\n",
       " ['iC', 'oC', 'iG'],\n",
       " ['iAiB', 'iAoB', 'iA'],\n",
       " ['iAiC', 'iAoC', 'iA'],\n",
       " ['iAiB', 'oAiB', 'iB'],\n",
       " ['iBiC', 'iBoC', 'iB'],\n",
       " ['iAiC', 'oAiC', 'iC'],\n",
       " ['iBiC', 'oBiC', 'iC'],\n",
       " ['oAiB', 'oAoB', 'oA'],\n",
       " ['oAiC', 'oAoC', 'oA'],\n",
       " ['iAoB', 'oAoB', 'oB'],\n",
       " ['oBiC', 'oBoC', 'oB'],\n",
       " ['iAoC', 'oAoC', 'oC'],\n",
       " ['iBoC', 'oBoC', 'oC'],\n",
       " ['iAiBiC', 'iAiBoC', 'iAiB'],\n",
       " ['oAiBiC', 'oAiBoC', 'oAiB'],\n",
       " ['iAoBiC', 'iAoBoC', 'iAoB'],\n",
       " ['oAoBiC', 'oAoBoC', 'oAoB'],\n",
       " ['iAiBiC', 'iAoBiC', 'iAiC'],\n",
       " ['oAiBiC', 'oAoBiC', 'oAiC'],\n",
       " ['iAiBoC', 'iAoBoC', 'iAoC'],\n",
       " ['oAiBoC', 'oAoBoC', 'oAoC'],\n",
       " ['iAiBiC', 'oAiBiC', 'iBiC'],\n",
       " ['iAoBiC', 'oAoBiC', 'oBiC'],\n",
       " ['iAiBoC', 'oAiBoC', 'iBoC'],\n",
       " ['iAoBoC', 'oAoBoC', 'oBoC']]"
      ]
     },
     "execution_count": 14,
     "metadata": {},
     "output_type": "execute_result"
    }
   ],
   "source": [
    "allSetLabel"
   ]
  },
  {
   "cell_type": "code",
   "execution_count": 15,
   "metadata": {
    "id": "9PgUGIPa658U"
   },
   "outputs": [],
   "source": [
    "iA=4\n",
    "iAiC=1\n",
    "iC=3\n",
    "oAoBoC=1\n",
    "iAiBiC=1\n",
    "iB=5\n",
    "iBiC=2\n",
    "iG=8"
   ]
  },
  {
   "cell_type": "code",
   "execution_count": 18,
   "metadata": {
    "id": "EiUGM9AZ65-q"
   },
   "outputs": [],
   "source": [
    "allSet=[[iA, oA, iG],\n",
    "[iB, oB, iG],\n",
    "[iC, oC, iG],\n",
    "[iAiB, iAoB, iA],\n",
    "[iAiC, iAoC, iA],\n",
    "[iAiB, oAiB, iB],\n",
    "[iBiC, iBoC, iB],\n",
    "[iAiC, oAiC, iC],\n",
    "[iBiC, oBiC, iC],\n",
    "[oAiB, oAoB, oA],\n",
    "[oAiC, oAoC, oA],\n",
    "[iAoB, oAoB, oB],\n",
    "[oBiC, oBoC, oB],\n",
    "[iAoC, oAoC, oC],\n",
    "[iBoC, oBoC, oC],\n",
    "[iAiBiC, iAiBoC, iAiB],\n",
    "[oAiBiC, oAiBoC, oAiB],\n",
    "[iAoBiC, iAoBoC, iAoB],\n",
    "[oAoBiC, oAoBoC, oAoB],\n",
    "[iAiBiC, iAoBiC, iAiC],\n",
    "[oAiBiC, oAoBiC, oAiC],\n",
    "[iAiBoC, iAoBoC, iAoC],\n",
    "[oAiBoC, oAoBoC, oAoC],\n",
    "[iAiBiC, oAiBiC, iBiC],\n",
    "[iAoBiC, oAoBiC, oBiC],\n",
    "[iAiBoC, oAiBoC, iBoC],\n",
    "[iAoBoC, oAoBoC, oBoC]]"
   ]
  },
  {
   "cell_type": "code",
   "execution_count": 19,
   "metadata": {
    "colab": {
     "base_uri": "https://localhost:8080/"
    },
    "id": "DgLue2Jq66BZ",
    "outputId": "eb092540-6c2a-4367-a876-4f4b49a99de7"
   },
   "outputs": [
    {
     "data": {
      "text/plain": [
       "[[4, -1, 8],\n",
       " [5, -1, 8],\n",
       " [3, -1, 8],\n",
       " [-1, -1, 4],\n",
       " [1, -1, 4],\n",
       " [-1, -1, 5],\n",
       " [2, -1, 5],\n",
       " [1, -1, 3],\n",
       " [2, -1, 3],\n",
       " [-1, -1, -1],\n",
       " [-1, -1, -1],\n",
       " [-1, -1, -1],\n",
       " [-1, -1, -1],\n",
       " [-1, -1, -1],\n",
       " [-1, -1, -1],\n",
       " [1, -1, -1],\n",
       " [-1, -1, -1],\n",
       " [-1, -1, -1],\n",
       " [-1, 1, -1],\n",
       " [1, -1, 1],\n",
       " [-1, -1, -1],\n",
       " [-1, -1, -1],\n",
       " [-1, 1, -1],\n",
       " [1, -1, 2],\n",
       " [-1, -1, -1],\n",
       " [-1, -1, -1],\n",
       " [-1, 1, -1]]"
      ]
     },
     "execution_count": 19,
     "metadata": {},
     "output_type": "execute_result"
    }
   ],
   "source": [
    "allSet"
   ]
  },
  {
   "cell_type": "code",
   "execution_count": 27,
   "metadata": {
    "colab": {
     "base_uri": "https://localhost:8080/"
    },
    "id": "Y-bMz5DOhGH9",
    "outputId": "dd667180-b1a9-41e9-bd7c-7b4298f71bd8"
   },
   "outputs": [
    {
     "data": {
      "text/plain": [
       "[[4, 4, 8],\n",
       " [5, 3, 8],\n",
       " [3, 5, 8],\n",
       " [-1, -1, 4],\n",
       " [1, 3, 4],\n",
       " [-1, -1, 5],\n",
       " [2, 3, 5],\n",
       " [1, 2, 3],\n",
       " [2, 1, 3],\n",
       " [-1, -1, -1],\n",
       " [-1, -1, -1],\n",
       " [-1, -1, -1],\n",
       " [-1, -1, -1],\n",
       " [-1, -1, -1],\n",
       " [-1, -1, -1],\n",
       " [1, -1, -1],\n",
       " [-1, -1, -1],\n",
       " [-1, -1, -1],\n",
       " [-1, 1, -1],\n",
       " [1, 0, 1],\n",
       " [-1, -1, -1],\n",
       " [-1, -1, -1],\n",
       " [-1, 1, -1],\n",
       " [1, 1, 2],\n",
       " [-1, -1, -1],\n",
       " [-1, -1, -1],\n",
       " [-1, 1, -1]]"
      ]
     },
     "execution_count": 27,
     "metadata": {},
     "output_type": "execute_result"
    }
   ],
   "source": [
    "[funcD(x0) for x0 in allSet]"
   ]
  },
  {
   "cell_type": "code",
   "execution_count": 28,
   "metadata": {
    "colab": {
     "base_uri": "https://localhost:8080/"
    },
    "id": "xgrFwo4Bho9q",
    "outputId": "64289ab3-ab1a-4e50-a3e1-137f8be4d219"
   },
   "outputs": [
    {
     "name": "stdout",
     "output_type": "stream",
     "text": [
      "[4, -1, 8] [4, 4, 8]\n",
      "[5, -1, 8] [5, 3, 8]\n",
      "[3, -1, 8] [3, 5, 8]\n",
      "[1, -1, 4] [1, 3, 4]\n",
      "[2, -1, 5] [2, 3, 5]\n",
      "[1, -1, 3] [1, 2, 3]\n",
      "[2, -1, 3] [2, 1, 3]\n",
      "[1, -1, 1] [1, 0, 1]\n",
      "[1, -1, 2] [1, 1, 2]\n"
     ]
    }
   ],
   "source": [
    "for x0 in allSet:\n",
    "   if x0!=funcD(x0):\n",
    "     print(x0,funcD(x0))"
   ]
  },
  {
   "cell_type": "code",
   "execution_count": null,
   "metadata": {
    "colab": {
     "base_uri": "https://localhost:8080/"
    },
    "id": "WLzPxLYWhGO7",
    "outputId": "b9be5eed-4a4a-4fb2-8c56-f98e3e3269a7"
   },
   "outputs": [
    {
     "name": "stdout",
     "output_type": "stream",
     "text": [
      "[4, -1, 8] [4, 4, 8] 1 ['iA', 'oA', 'iG'] oA=4\n",
      "[5, -1, 8] [5, 3, 8] 1 ['iB', 'oB', 'iG'] oB=3\n",
      "[3, -1, 8] [3, 5, 8] 1 ['iC', 'oC', 'iG'] oC=5\n",
      "[1, -1, 4] [1, 3, 4] 1 ['iAiC', 'iAoC', 'iA'] iAoC=3\n",
      "[2, -1, 5] [2, 3, 5] 1 ['iBiC', 'iBoC', 'iB'] iBoC=3\n",
      "[1, -1, 3] [1, 2, 3] 1 ['iAiC', 'oAiC', 'iC'] oAiC=2\n",
      "[2, -1, 3] [2, 1, 3] 1 ['iBiC', 'oBiC', 'iC'] oBiC=1\n",
      "[1, -1, 1] [1, 0, 1] 1 ['iAiBiC', 'iAoBiC', 'iAiC'] iAoBiC=0\n",
      "[1, -1, 2] [1, 1, 2] 1 ['iAiBiC', 'oAiBiC', 'iBiC'] oAiBiC=1\n"
     ]
    }
   ],
   "source": [
    "for x0,L0 in zip(allSet,allSetLabel):\n",
    "   if x0!=funcD(x0):\n",
    "     print(x0,funcD(x0),funcE(x0),L0,L0[funcE(x0)]+'='+str(funcD(x0)[funcE(x0)]))"
   ]
  },
  {
   "cell_type": "code",
   "execution_count": null,
   "metadata": {
    "colab": {
     "base_uri": "https://localhost:8080/",
     "height": 35
    },
    "id": "u8LlrhSPoIHf",
    "outputId": "ed2ce1bf-9494-4933-e664-d0bf9a8c7680"
   },
   "outputs": [
    {
     "data": {
      "application/vnd.google.colaboratory.intrinsic+json": {
       "type": "string"
      },
      "text/plain": [
       "'a=1'"
      ]
     },
     "execution_count": 47,
     "metadata": {},
     "output_type": "execute_result"
    }
   ],
   "source": [
    "'a'+'='+'1'"
   ]
  },
  {
   "cell_type": "code",
   "execution_count": null,
   "metadata": {
    "colab": {
     "base_uri": "https://localhost:8080/"
    },
    "id": "dsR91SsWohzO",
    "outputId": "97834648-eaf8-49cb-915c-c3f93c448f2b"
   },
   "outputs": [
    {
     "name": "stdout",
     "output_type": "stream",
     "text": [
      "[4, -1, 8] [4, 4, 8] 1 ['iA', 'oA', 'iG'] oA=4\n",
      "[5, -1, 8] [5, 3, 8] 1 ['iB', 'oB', 'iG'] oB=3\n",
      "[3, -1, 8] [3, 5, 8] 1 ['iC', 'oC', 'iG'] oC=5\n",
      "[1, -1, 4] [1, 3, 4] 1 ['iAiC', 'iAoC', 'iA'] iAoC=3\n",
      "[2, -1, 5] [2, 3, 5] 1 ['iBiC', 'iBoC', 'iB'] iBoC=3\n",
      "[1, -1, 3] [1, 2, 3] 1 ['iAiC', 'oAiC', 'iC'] oAiC=2\n",
      "[2, -1, 3] [2, 1, 3] 1 ['iBiC', 'oBiC', 'iC'] oBiC=1\n",
      "[1, -1, 1] [1, 0, 1] 1 ['iAiBiC', 'iAoBiC', 'iAiC'] iAoBiC=0\n",
      "[1, -1, 2] [1, 1, 2] 1 ['iAiBiC', 'oAiBiC', 'iBiC'] oAiBiC=1\n"
     ]
    }
   ],
   "source": [
    "for x0,L0 in zip(allSet,allSetLabel):\n",
    "   if x0!=funcD(x0):\n",
    "     print(x0,funcD(x0),funcE(x0),L0,L0[funcE(x0)]+'='+str(funcD(x0)[funcE(x0)]))\n",
    "     exec(L0[funcE(x0)]+'='+str(funcD(x0)[funcE(x0)]))\n",
    "     allSet=[[iA, oA, iG],[iB, oB, iG],[iC, oC, iG],[iAiB, iAoB, iA],[iAiC, iAoC, iA],[iAiB, oAiB, iB],[iBiC, iBoC, iB],[iAiC, oAiC, iC],[iBiC, oBiC, iC],[oAiB, oAoB, oA],[oAiC, oAoC, oA],[iAoB, oAoB, oB],[oBiC, oBoC, oB],[iAoC, oAoC, oC],[iBoC, oBoC, oC],[iAiBiC, iAiBoC, iAiB],[oAiBiC, oAiBoC, oAiB],[iAoBiC, iAoBoC, iAoB],[oAoBiC, oAoBoC, oAoB],[iAiBiC, iAoBiC, iAiC],[oAiBiC, oAoBiC, oAiC],[iAiBoC, iAoBoC, iAoC],[oAiBoC, oAoBoC, oAoC],[iAiBiC, oAiBiC, iBiC],[iAoBiC, oAoBiC, oBiC],[iAiBoC, oAiBoC, iBoC],[iAoBoC, oAoBoC, oBoC]]\n"
   ]
  },
  {
   "cell_type": "code",
   "execution_count": 34,
   "metadata": {
    "colab": {
     "base_uri": "https://localhost:8080/"
    },
    "id": "zXAE5jQYcsjZ",
    "outputId": "abbe9b6d-15ff-47be-ef9b-c2bd287dd1a9"
   },
   "outputs": [
    {
     "name": "stdout",
     "output_type": "stream",
     "text": [
      "[4, -1, 8] [4, 4, 8] 1 ['iA', 'oA', 'iG'] oA=4\n",
      "[5, -1, 8] [5, 3, 8] 1 ['iB', 'oB', 'iG'] oB=3\n",
      "[3, -1, 8] [3, 5, 8] 1 ['iC', 'oC', 'iG'] oC=5\n",
      "[1, -1, 4] [1, 3, 4] 1 ['iAiC', 'iAoC', 'iA'] iAoC=3\n",
      "[2, -1, 5] [2, 3, 5] 1 ['iBiC', 'iBoC', 'iB'] iBoC=3\n",
      "[1, -1, 3] [1, 2, 3] 1 ['iAiC', 'oAiC', 'iC'] oAiC=2\n",
      "[2, -1, 3] [2, 1, 3] 1 ['iBiC', 'oBiC', 'iC'] oBiC=1\n",
      "[1, -1, 1] [1, 0, 1] 1 ['iAiBiC', 'iAoBiC', 'iAiC'] iAoBiC=0\n",
      "[1, -1, 2] [1, 1, 2] 1 ['iAiBiC', 'oAiBiC', 'iBiC'] oAiBiC=1\n"
     ]
    }
   ],
   "source": [
    "for x0,L0 in zip(allSet,allSetLabel):\n",
    "   if x0!=funcD(x0):\n",
    "     print(x0,funcD(x0),funcE(x0),L0,L0[funcE(x0)]+'='+str(funcD(x0)[funcE(x0)]))\n",
    "     exec(L0[funcE(x0)]+'='+str(funcD(x0)[funcE(x0)]))\n",
    "     allSet=[[iA, oA, iG],[iB, oB, iG],[iC, oC, iG],[iAiB, iAoB, iA],\\\n",
    "      [iAiC, iAoC, iA],[iAiB, oAiB, iB],[iBiC, iBoC, iB],[iAiC, oAiC, iC],\\\n",
    "       [iBiC, oBiC, iC],[oAiB, oAoB, oA],[oAiC, oAoC, oA],[iAoB, oAoB, oB],\\\n",
    "        [oBiC, oBoC, oB],[iAoC, oAoC, oC],[iBoC, oBoC, oC],[iAiBiC, iAiBoC, iAiB],\\\n",
    "         [oAiBiC, oAiBoC, oAiB],[iAoBiC, iAoBoC, iAoB],[oAoBiC, oAoBoC, oAoB],\\\n",
    "          [iAiBiC, iAoBiC, iAiC],[oAiBiC, oAoBiC, oAiC],[iAiBoC, iAoBoC, iAoC],\\\n",
    "           [oAiBoC, oAoBoC, oAoC],[iAiBiC, oAiBiC, iBiC],[iAoBiC, oAoBiC, oBiC],\\\n",
    "            [iAiBoC, oAiBoC, iBoC],[iAoBoC, oAoBoC, oBoC]]\n"
   ]
  },
  {
   "cell_type": "code",
   "execution_count": null,
   "metadata": {
    "colab": {
     "base_uri": "https://localhost:8080/"
    },
    "id": "jJ9kLP_tpfB3",
    "outputId": "05d5f4e6-f25c-4291-bb63-cb71e499d158"
   },
   "outputs": [
    {
     "data": {
      "text/plain": [
       "[[4, 4, 8],\n",
       " [5, 3, 8],\n",
       " [3, 5, 8],\n",
       " [-1, -1, 4],\n",
       " [1, 3, 4],\n",
       " [-1, -1, 5],\n",
       " [2, 3, 5],\n",
       " [1, 2, 3],\n",
       " [2, 1, 3],\n",
       " [-1, -1, 4],\n",
       " [2, -1, 4],\n",
       " [-1, -1, 3],\n",
       " [1, -1, 3],\n",
       " [3, -1, 5],\n",
       " [3, -1, 5],\n",
       " [1, -1, -1],\n",
       " [1, -1, -1],\n",
       " [0, -1, -1],\n",
       " [-1, 1, -1],\n",
       " [1, 0, 1],\n",
       " [1, -1, 2],\n",
       " [-1, -1, 3],\n",
       " [-1, 1, -1],\n",
       " [1, 1, 2],\n",
       " [0, -1, 1],\n",
       " [-1, -1, 3],\n",
       " [-1, 1, -1]]"
      ]
     },
     "execution_count": 53,
     "metadata": {},
     "output_type": "execute_result"
    }
   ],
   "source": [
    "allSet"
   ]
  },
  {
   "cell_type": "code",
   "execution_count": null,
   "metadata": {
    "colab": {
     "base_uri": "https://localhost:8080/"
    },
    "id": "svUzu8oapr2K",
    "outputId": "50f682d4-4ce5-4b5d-99bf-d66068787127"
   },
   "outputs": [
    {
     "data": {
      "text/plain": [
       "(4,\n",
       " -1,\n",
       " 1,\n",
       " -1,\n",
       " 1,\n",
       " -1,\n",
       " 0,\n",
       " -1,\n",
       " 3,\n",
       " 5,\n",
       " 2,\n",
       " 3,\n",
       " 3,\n",
       " 8,\n",
       " 4,\n",
       " -1,\n",
       " 1,\n",
       " -1,\n",
       " 2,\n",
       " -1,\n",
       " -1,\n",
       " 1,\n",
       " -1,\n",
       " 3,\n",
       " 1,\n",
       " -1,\n",
       " 5)"
      ]
     },
     "execution_count": 54,
     "metadata": {},
     "output_type": "execute_result"
    }
   ],
   "source": [
    "(iA, iAiB, iAiBiC, iAiBoC, iAiC, iAoB, iAoBiC, iAoBoC, iAoC, iB, iBiC, iBoC, iC, iG, oA, oAiB, oAiBiC, oAiBoC, oAiC, oAoB, oAoBiC, oAoBoC, oAoC, oB, oBiC, oBoC, oC)"
   ]
  },
  {
   "cell_type": "code",
   "execution_count": null,
   "metadata": {
    "colab": {
     "base_uri": "https://localhost:8080/"
    },
    "id": "52wz7mB_qN7E",
    "outputId": "69743af1-64e3-4eca-a366-144ebfc4c966"
   },
   "outputs": [
    {
     "data": {
      "text/plain": [
       "10"
      ]
     },
     "execution_count": 55,
     "metadata": {},
     "output_type": "execute_result"
    }
   ],
   "source": [
    "x=(iA, iAiB, iAiBiC, iAiBoC, iAiC, iAoB, iAoBiC, iAoBoC, iAoC, iB, iBiC, iBoC, iC, iG, oA, oAiB, oAiBiC, oAiBoC, oAiC, oAoB, oAoBiC, oAoBoC, oAoC, oB, oBiC, oBoC, oC)\n",
    "sum(map(p,x))"
   ]
  },
  {
   "cell_type": "code",
   "execution_count": null,
   "metadata": {
    "colab": {
     "base_uri": "https://localhost:8080/"
    },
    "id": "P4MORZbJqBnY",
    "outputId": "6b21bb6f-88d1-4b23-88ab-af46d9882c8c"
   },
   "outputs": [
    {
     "name": "stdout",
     "output_type": "stream",
     "text": [
      "[2, -1, 4] [2, 2, 4] 1 ['oAiC', 'oAoC', 'oA'] oAoC=2\n",
      "[1, -1, 3] [1, 2, 3] 1 ['oBiC', 'oBoC', 'oB'] oBoC=2\n",
      "[3, -1, 5] [3, 2, 5] 1 ['iAoC', 'oAoC', 'oC'] oAoC=2\n",
      "[3, -1, 5] [3, 2, 5] 1 ['iBoC', 'oBoC', 'oC'] oBoC=2\n",
      "[1, -1, 2] [1, 1, 2] 1 ['oAiBiC', 'oAoBiC', 'oAiC'] oAoBiC=1\n",
      "[0, -1, 1] [0, 1, 1] 1 ['iAoBiC', 'oAoBiC', 'oBiC'] oAoBiC=1\n"
     ]
    }
   ],
   "source": [
    "for x0,L0 in zip(allSet,allSetLabel):\n",
    "   if x0!=funcD(x0):\n",
    "     print(x0,funcD(x0),funcE(x0),L0,L0[funcE(x0)]+'='+str(funcD(x0)[funcE(x0)]))\n",
    "     exec(L0[funcE(x0)]+'='+str(funcD(x0)[funcE(x0)]))\n",
    "     allSet=[[iA, oA, iG],[iB, oB, iG],[iC, oC, iG],[iAiB, iAoB, iA],[iAiC, iAoC, iA],[iAiB, oAiB, iB],[iBiC, iBoC, iB],[iAiC, oAiC, iC],[iBiC, oBiC, iC],[oAiB, oAoB, oA],[oAiC, oAoC, oA],[iAoB, oAoB, oB],[oBiC, oBoC, oB],[iAoC, oAoC, oC],[iBoC, oBoC, oC],[iAiBiC, iAiBoC, iAiB],[oAiBiC, oAiBoC, oAiB],[iAoBiC, iAoBoC, iAoB],[oAoBiC, oAoBoC, oAoB],[iAiBiC, iAoBiC, iAiC],[oAiBiC, oAoBiC, oAiC],[iAiBoC, iAoBoC, iAoC],[oAiBoC, oAoBoC, oAoC],[iAiBiC, oAiBiC, iBiC],[iAoBiC, oAoBiC, oBiC],[iAiBoC, oAiBoC, iBoC],[iAoBoC, oAoBoC, oBoC]]\n"
   ]
  },
  {
   "cell_type": "code",
   "execution_count": null,
   "metadata": {
    "colab": {
     "base_uri": "https://localhost:8080/"
    },
    "id": "Re4a0j9-qY4l",
    "outputId": "86d48d43-0d2b-4c58-add0-1ebab1f1b77e"
   },
   "outputs": [
    {
     "data": {
      "text/plain": [
       "7"
      ]
     },
     "execution_count": 57,
     "metadata": {},
     "output_type": "execute_result"
    }
   ],
   "source": [
    "x=(iA, iAiB, iAiBiC, iAiBoC, iAiC, iAoB, iAoBiC, iAoBoC, iAoC, iB, iBiC, iBoC, iC, iG, oA, oAiB, oAiBiC, oAiBoC, oAiC, oAoB, oAoBiC, oAoBoC, oAoC, oB, oBiC, oBoC, oC)\n",
    "sum(map(p,x))"
   ]
  },
  {
   "cell_type": "code",
   "execution_count": null,
   "metadata": {
    "colab": {
     "base_uri": "https://localhost:8080/"
    },
    "id": "GOik2IkWqY7d",
    "outputId": "c4f288c9-2eed-4c7c-b20b-bf9e699d37cb"
   },
   "outputs": [
    {
     "name": "stdout",
     "output_type": "stream",
     "text": [
      "[1, 1, -1] [1, 1, 2] 2 ['oAoBiC', 'oAoBoC', 'oAoB'] oAoB=2\n",
      "[-1, 1, 2] [1, 1, 2] 0 ['oAiBoC', 'oAoBoC', 'oAoC'] oAiBoC=1\n",
      "[-1, 1, 2] [1, 1, 2] 0 ['iAoBoC', 'oAoBoC', 'oBoC'] iAoBoC=1\n"
     ]
    }
   ],
   "source": [
    "for x0,L0 in zip(allSet,allSetLabel):\n",
    "   if x0!=funcD(x0):\n",
    "     print(x0,funcD(x0),funcE(x0),L0,L0[funcE(x0)]+'='+str(funcD(x0)[funcE(x0)]))\n",
    "     exec(L0[funcE(x0)]+'='+str(funcD(x0)[funcE(x0)]))\n",
    "     allSet=[[iA, oA, iG],[iB, oB, iG],[iC, oC, iG],[iAiB, iAoB, iA],[iAiC, iAoC, iA],[iAiB, oAiB, iB],[iBiC, iBoC, iB],[iAiC, oAiC, iC],[iBiC, oBiC, iC],[oAiB, oAoB, oA],[oAiC, oAoC, oA],[iAoB, oAoB, oB],[oBiC, oBoC, oB],[iAoC, oAoC, oC],[iBoC, oBoC, oC],[iAiBiC, iAiBoC, iAiB],[oAiBiC, oAiBoC, oAiB],[iAoBiC, iAoBoC, iAoB],[oAoBiC, oAoBoC, oAoB],[iAiBiC, iAoBiC, iAiC],[oAiBiC, oAoBiC, oAiC],[iAiBoC, iAoBoC, iAoC],[oAiBoC, oAoBoC, oAoC],[iAiBiC, oAiBiC, iBiC],[iAoBiC, oAoBiC, oBiC],[iAiBoC, oAiBoC, iBoC],[iAoBoC, oAoBoC, oBoC]]\n"
   ]
  },
  {
   "cell_type": "code",
   "execution_count": null,
   "metadata": {
    "colab": {
     "base_uri": "https://localhost:8080/"
    },
    "id": "XmTCTPupqY-O",
    "outputId": "79eee695-e01c-4e8b-a3e3-0da531875ae8"
   },
   "outputs": [
    {
     "data": {
      "text/plain": [
       "4"
      ]
     },
     "execution_count": 60,
     "metadata": {},
     "output_type": "execute_result"
    }
   ],
   "source": [
    "x=(iA, iAiB, iAiBiC, iAiBoC, iAiC, iAoB, iAoBiC, iAoBoC, iAoC, iB, iBiC, iBoC, iC, iG, oA, oAiB, oAiBiC, oAiBoC, oAiC, oAoB, oAoBiC, oAoBoC, oAoC, oB, oBiC, oBoC, oC)\n",
    "sum(map(p,x))"
   ]
  },
  {
   "cell_type": "code",
   "execution_count": null,
   "metadata": {
    "colab": {
     "base_uri": "https://localhost:8080/"
    },
    "id": "5dBqiAlxqgJE",
    "outputId": "f0afed28-a4b0-4741-d9b9-ac81a1cca2ed"
   },
   "outputs": [
    {
     "name": "stdout",
     "output_type": "stream",
     "text": [
      "[-1, 2, 4] [2, 2, 4] 0 ['oAiB', 'oAoB', 'oA'] oAiB=2\n",
      "[-1, 2, 3] [1, 2, 3] 0 ['iAoB', 'oAoB', 'oB'] iAoB=1\n",
      "[1, 1, -1] [1, 1, 2] 2 ['oAiBiC', 'oAiBoC', 'oAiB'] oAiB=2\n",
      "[0, 1, -1] [0, 1, 1] 2 ['iAoBiC', 'iAoBoC', 'iAoB'] iAoB=1\n",
      "[-1, 1, 3] [2, 1, 3] 0 ['iAiBoC', 'iAoBoC', 'iAoC'] iAiBoC=2\n",
      "[-1, 1, 3] [2, 1, 3] 0 ['iAiBoC', 'oAiBoC', 'iBoC'] iAiBoC=2\n"
     ]
    }
   ],
   "source": [
    "for x0,L0 in zip(allSet,allSetLabel):\n",
    "   if x0!=funcD(x0):\n",
    "     print(x0,funcD(x0),funcE(x0),L0,L0[funcE(x0)]+'='+str(funcD(x0)[funcE(x0)]))\n",
    "     exec(L0[funcE(x0)]+'='+str(funcD(x0)[funcE(x0)]))\n",
    "     allSet=[[iA, oA, iG],[iB, oB, iG],[iC, oC, iG],[iAiB, iAoB, iA],[iAiC, iAoC, iA],[iAiB, oAiB, iB],[iBiC, iBoC, iB],[iAiC, oAiC, iC],[iBiC, oBiC, iC],[oAiB, oAoB, oA],[oAiC, oAoC, oA],[iAoB, oAoB, oB],[oBiC, oBoC, oB],[iAoC, oAoC, oC],[iBoC, oBoC, oC],[iAiBiC, iAiBoC, iAiB],[oAiBiC, oAiBoC, oAiB],[iAoBiC, iAoBoC, iAoB],[oAoBiC, oAoBoC, oAoB],[iAiBiC, iAoBiC, iAiC],[oAiBiC, oAoBiC, oAiC],[iAiBoC, iAoBoC, iAoC],[oAiBoC, oAoBoC, oAoC],[iAiBiC, oAiBiC, iBiC],[iAoBiC, oAoBiC, oBiC],[iAiBoC, oAiBoC, iBoC],[iAoBoC, oAoBoC, oBoC]]\n"
   ]
  },
  {
   "cell_type": "code",
   "execution_count": null,
   "metadata": {
    "colab": {
     "base_uri": "https://localhost:8080/"
    },
    "id": "rnsLiHEyqgNG",
    "outputId": "5a85ba09-43db-41d2-a4cf-a5160d5d0330"
   },
   "outputs": [
    {
     "data": {
      "text/plain": [
       "1"
      ]
     },
     "execution_count": 63,
     "metadata": {},
     "output_type": "execute_result"
    }
   ],
   "source": [
    "x=(iA, iAiB, iAiBiC, iAiBoC, iAiC, iAoB, iAoBiC, iAoBoC, iAoC, iB, iBiC, iBoC, iC, iG, oA, oAiB, oAiBiC, oAiBoC, oAiC, oAoB, oAoBiC, oAoBoC, oAoC, oB, oBiC, oBoC, oC)\n",
    "sum(map(p,x))"
   ]
  },
  {
   "cell_type": "code",
   "execution_count": null,
   "metadata": {
    "colab": {
     "base_uri": "https://localhost:8080/"
    },
    "id": "hB5mcTayqlQx",
    "outputId": "414532c9-788f-46d9-d75c-34be1144bab0"
   },
   "outputs": [
    {
     "name": "stdout",
     "output_type": "stream",
     "text": [
      "[-1, 1, 4] [3, 1, 4] 0 ['iAiB', 'iAoB', 'iA'] iAiB=3\n",
      "[-1, 2, 5] [3, 2, 5] 0 ['iAiB', 'oAiB', 'iB'] iAiB=3\n",
      "[1, 2, -1] [1, 2, 3] 2 ['iAiBiC', 'iAiBoC', 'iAiB'] iAiB=3\n"
     ]
    }
   ],
   "source": [
    "for x0,L0 in zip(allSet,allSetLabel):\n",
    "   if x0!=funcD(x0):\n",
    "     print(x0,funcD(x0),funcE(x0),L0,L0[funcE(x0)]+'='+str(funcD(x0)[funcE(x0)]))\n",
    "     exec(L0[funcE(x0)]+'='+str(funcD(x0)[funcE(x0)]))\n",
    "     allSet=[[iA, oA, iG],[iB, oB, iG],[iC, oC, iG],[iAiB, iAoB, iA],[iAiC, iAoC, iA],[iAiB, oAiB, iB],[iBiC, iBoC, iB],[iAiC, oAiC, iC],[iBiC, oBiC, iC],[oAiB, oAoB, oA],[oAiC, oAoC, oA],[iAoB, oAoB, oB],[oBiC, oBoC, oB],[iAoC, oAoC, oC],[iBoC, oBoC, oC],[iAiBiC, iAiBoC, iAiB],[oAiBiC, oAiBoC, oAiB],[iAoBiC, iAoBoC, iAoB],[oAoBiC, oAoBoC, oAoB],[iAiBiC, iAoBiC, iAiC],[oAiBiC, oAoBiC, oAiC],[iAiBoC, iAoBoC, iAoC],[oAiBoC, oAoBoC, oAoC],[iAiBiC, oAiBiC, iBiC],[iAoBiC, oAoBiC, oBiC],[iAiBoC, oAiBoC, iBoC],[iAoBoC, oAoBoC, oBoC]]\n"
   ]
  },
  {
   "cell_type": "code",
   "execution_count": null,
   "metadata": {
    "colab": {
     "base_uri": "https://localhost:8080/"
    },
    "id": "Iv4Yn64FqmXn",
    "outputId": "be76eb13-f2fb-4635-e85e-555edacad35d"
   },
   "outputs": [
    {
     "data": {
      "text/plain": [
       "0"
      ]
     },
     "execution_count": 65,
     "metadata": {},
     "output_type": "execute_result"
    }
   ],
   "source": [
    "x=(iA, iAiB, iAiBiC, iAiBoC, iAiC, iAoB, iAoBiC, iAoBoC, iAoC, iB, iBiC, iBoC, iC, iG, oA, oAiB, oAiBiC, oAiBoC, oAiC, oAoB, oAoBiC, oAoBoC, oAoC, oB, oBiC, oBoC, oC)\n",
    "sum(map(p,x))"
   ]
  },
  {
   "cell_type": "code",
   "execution_count": null,
   "metadata": {
    "colab": {
     "base_uri": "https://localhost:8080/"
    },
    "id": "5Y1kElRPiAfR",
    "outputId": "5ea4e824-4ac1-4347-809e-eeaf21e4aff0"
   },
   "outputs": [
    {
     "data": {
      "text/plain": [
       "[[4, 4, 8],\n",
       " [5, 3, 8],\n",
       " [3, 5, 8],\n",
       " [3, 1, 4],\n",
       " [1, 3, 4],\n",
       " [3, 2, 5],\n",
       " [2, 3, 5],\n",
       " [1, 2, 3],\n",
       " [2, 1, 3],\n",
       " [2, 2, 4],\n",
       " [2, 2, 4],\n",
       " [1, 2, 3],\n",
       " [1, 2, 3],\n",
       " [3, 2, 5],\n",
       " [3, 2, 5],\n",
       " [1, 2, 3],\n",
       " [1, 1, 2],\n",
       " [0, 1, 1],\n",
       " [1, 1, 2],\n",
       " [1, 0, 1],\n",
       " [1, 1, 2],\n",
       " [2, 1, 3],\n",
       " [1, 1, 2],\n",
       " [1, 1, 2],\n",
       " [0, 1, 1],\n",
       " [2, 1, 3],\n",
       " [1, 1, 2]]"
      ]
     },
     "execution_count": 66,
     "metadata": {},
     "output_type": "execute_result"
    }
   ],
   "source": [
    "allSet"
   ]
  },
  {
   "cell_type": "code",
   "execution_count": null,
   "metadata": {
    "colab": {
     "base_uri": "https://localhost:8080/"
    },
    "id": "aspF-fgtq7OP",
    "outputId": "170b2a5c-20dd-4e94-ef44-30a73cdae801"
   },
   "outputs": [
    {
     "data": {
      "text/plain": [
       "3"
      ]
     },
     "execution_count": 67,
     "metadata": {},
     "output_type": "execute_result"
    }
   ],
   "source": [
    "iAiB"
   ]
  },
  {
   "cell_type": "code",
   "execution_count": null,
   "metadata": {
    "id": "y6OzUXZ-rvp9"
   },
   "outputs": [],
   "source": []
  },
  {
   "cell_type": "code",
   "execution_count": null,
   "metadata": {
    "colab": {
     "base_uri": "https://localhost:8080/"
    },
    "id": "wBNoGGtrrvvT",
    "outputId": "e9cf702c-3b7e-4662-b3ed-a324b4ad7872"
   },
   "outputs": [
    {
     "data": {
      "text/plain": [
       "1"
      ]
     },
     "execution_count": 69,
     "metadata": {},
     "output_type": "execute_result"
    }
   ],
   "source": [
    "fn=0\n",
    "fn+=1\n",
    "fn"
   ]
  },
  {
   "cell_type": "code",
   "execution_count": null,
   "metadata": {
    "colab": {
     "base_uri": "https://localhost:8080/"
    },
    "id": "bSw4hEL9r_M_",
    "outputId": "4bc879e9-b06b-40c2-91b5-412822bef2f4"
   },
   "outputs": [
    {
     "name": "stdout",
     "output_type": "stream",
     "text": [
      "[4, -1, 8] [4, 4, 8] 1 ['iA', 'oA', 'iG'] oA=4\n",
      "[5, -1, 8] [5, 3, 8] 1 ['iB', 'oB', 'iG'] oB=3\n",
      "[3, -1, 8] [3, 5, 8] 1 ['iC', 'oC', 'iG'] oC=5\n",
      "[1, -1, 4] [1, 3, 4] 1 ['iAiC', 'iAoC', 'iA'] iAoC=3\n",
      "[2, -1, 5] [2, 3, 5] 1 ['iBiC', 'iBoC', 'iB'] iBoC=3\n",
      "[1, -1, 3] [1, 2, 3] 1 ['iAiC', 'oAiC', 'iC'] oAiC=2\n",
      "[2, -1, 3] [2, 1, 3] 1 ['iBiC', 'oBiC', 'iC'] oBiC=1\n",
      "[1, -1, 1] [1, 0, 1] 1 ['iAiBiC', 'iAoBiC', 'iAiC'] iAoBiC=0\n",
      "[1, -1, 2] [1, 1, 2] 1 ['iAiBiC', 'oAiBiC', 'iBiC'] oAiBiC=1\n",
      "9\n",
      "[2, -1, 4] [2, 2, 4] 1 ['oAiC', 'oAoC', 'oA'] oAoC=2\n",
      "[1, -1, 3] [1, 2, 3] 1 ['oBiC', 'oBoC', 'oB'] oBoC=2\n",
      "[3, -1, 5] [3, 2, 5] 1 ['iAoC', 'oAoC', 'oC'] oAoC=2\n",
      "[3, -1, 5] [3, 2, 5] 1 ['iBoC', 'oBoC', 'oC'] oBoC=2\n",
      "[1, -1, 2] [1, 1, 2] 1 ['oAiBiC', 'oAoBiC', 'oAiC'] oAoBiC=1\n",
      "[0, -1, 1] [0, 1, 1] 1 ['iAoBiC', 'oAoBiC', 'oBiC'] oAoBiC=1\n",
      "6\n",
      "[1, 1, -1] [1, 1, 2] 2 ['oAoBiC', 'oAoBoC', 'oAoB'] oAoB=2\n",
      "[-1, 1, 2] [1, 1, 2] 0 ['oAiBoC', 'oAoBoC', 'oAoC'] oAiBoC=1\n",
      "[-1, 1, 2] [1, 1, 2] 0 ['iAoBoC', 'oAoBoC', 'oBoC'] iAoBoC=1\n",
      "3\n",
      "[-1, 2, 4] [2, 2, 4] 0 ['oAiB', 'oAoB', 'oA'] oAiB=2\n",
      "[-1, 2, 3] [1, 2, 3] 0 ['iAoB', 'oAoB', 'oB'] iAoB=1\n",
      "[1, 1, -1] [1, 1, 2] 2 ['oAiBiC', 'oAiBoC', 'oAiB'] oAiB=2\n",
      "[0, 1, -1] [0, 1, 1] 2 ['iAoBiC', 'iAoBoC', 'iAoB'] iAoB=1\n",
      "[-1, 1, 3] [2, 1, 3] 0 ['iAiBoC', 'iAoBoC', 'iAoC'] iAiBoC=2\n",
      "[-1, 1, 3] [2, 1, 3] 0 ['iAiBoC', 'oAiBoC', 'iBoC'] iAiBoC=2\n",
      "6\n",
      "[-1, 1, 4] [3, 1, 4] 0 ['iAiB', 'iAoB', 'iA'] iAiB=3\n",
      "[-1, 2, 5] [3, 2, 5] 0 ['iAiB', 'oAiB', 'iB'] iAiB=3\n",
      "[1, 2, -1] [1, 2, 3] 2 ['iAiBiC', 'iAiBoC', 'iAiB'] iAiB=3\n",
      "3\n",
      "0\n"
     ]
    },
    {
     "data": {
      "text/plain": [
       "[[4, 4, 8],\n",
       " [5, 3, 8],\n",
       " [3, 5, 8],\n",
       " [3, 1, 4],\n",
       " [1, 3, 4],\n",
       " [3, 2, 5],\n",
       " [2, 3, 5],\n",
       " [1, 2, 3],\n",
       " [2, 1, 3],\n",
       " [2, 2, 4],\n",
       " [2, 2, 4],\n",
       " [1, 2, 3],\n",
       " [1, 2, 3],\n",
       " [3, 2, 5],\n",
       " [3, 2, 5],\n",
       " [1, 2, 3],\n",
       " [1, 1, 2],\n",
       " [0, 1, 1],\n",
       " [1, 1, 2],\n",
       " [1, 0, 1],\n",
       " [1, 1, 2],\n",
       " [2, 1, 3],\n",
       " [1, 1, 2],\n",
       " [1, 1, 2],\n",
       " [0, 1, 1],\n",
       " [2, 1, 3],\n",
       " [1, 1, 2]]"
      ]
     },
     "execution_count": 81,
     "metadata": {},
     "output_type": "execute_result"
    }
   ],
   "source": [
    "(iA, iAiB, iAiBiC, iAiBoC, iAiC, iAoB, iAoBiC, iAoBoC, iAoC, iB, iBiC, iBoC, iC, iG, oA, oAiB, oAiBiC, oAiBoC, oAiC, oAoB, oAoBiC, oAoBoC, oAoC, oB, oBiC, oBoC, oC)=[-1]*27\n",
    "iA,iAiC,iC,oAoBoC,iAiBiC,iB,iBiC,iG =4,1,3,1,1,5,2,8\n",
    "allSet=[[iA, oA, iG],[iB, oB, iG],[iC, oC, iG],[iAiB, iAoB, iA],[iAiC, iAoC, iA],[iAiB, oAiB, iB],[iBiC, iBoC, iB],[iAiC, oAiC, iC],[iBiC, oBiC, iC],[oAiB, oAoB, oA],[oAiC, oAoC, oA],[iAoB, oAoB, oB],[oBiC, oBoC, oB],[iAoC, oAoC, oC],[iBoC, oBoC, oC],[iAiBiC, iAiBoC, iAiB],[oAiBiC, oAiBoC, oAiB],[iAoBiC, iAoBoC, iAoB],[oAoBiC, oAoBoC, oAoB],[iAiBiC, iAoBiC, iAiC],[oAiBiC, oAoBiC, oAiC],[iAiBoC, iAoBoC, iAoC],[oAiBoC, oAoBoC, oAoC],[iAiBiC, oAiBiC, iBiC],[iAoBiC, oAoBiC, oBiC],[iAiBoC, oAiBoC, iBoC],[iAoBoC, oAoBoC, oBoC]]\n",
    "\n",
    "fn=1\n",
    "while fn>0:\n",
    "  fn=0\n",
    "  for x0,L0 in zip(allSet,allSetLabel):\n",
    "    if x0!=funcD(x0):\n",
    "      fn+=1\n",
    "      print(x0,funcD(x0),funcE(x0),L0,L0[funcE(x0)]+'='+str(funcD(x0)[funcE(x0)]))\n",
    "      exec(L0[funcE(x0)]+'='+str(funcD(x0)[funcE(x0)]))\n",
    "      allSet=[[iA, oA, iG],[iB, oB, iG],[iC, oC, iG],[iAiB, iAoB, iA],[iAiC, iAoC, iA],[iAiB, oAiB, iB],[iBiC, iBoC, iB],[iAiC, oAiC, iC],[iBiC, oBiC, iC],[oAiB, oAoB, oA],[oAiC, oAoC, oA],[iAoB, oAoB, oB],[oBiC, oBoC, oB],[iAoC, oAoC, oC],[iBoC, oBoC, oC],[iAiBiC, iAiBoC, iAiB],[oAiBiC, oAiBoC, oAiB],[iAoBiC, iAoBoC, iAoB],[oAoBiC, oAoBoC, oAoB],[iAiBiC, iAoBiC, iAiC],[oAiBiC, oAoBiC, oAiC],[iAiBoC, iAoBoC, iAoC],[oAiBoC, oAoBoC, oAoC],[iAiBiC, oAiBiC, iBiC],[iAoBiC, oAoBiC, oBiC],[iAiBoC, oAiBoC, iBoC],[iAoBoC, oAoBoC, oBoC]]\n",
    "  print(fn)\n",
    "allSet"
   ]
  },
  {
   "cell_type": "code",
   "execution_count": null,
   "metadata": {
    "id": "C2Jn8cVMtuWD"
   },
   "outputs": [],
   "source": []
  },
  {
   "cell_type": "code",
   "execution_count": null,
   "metadata": {
    "colab": {
     "base_uri": "https://localhost:8080/"
    },
    "id": "by5c3ouBsY69",
    "outputId": "f2af8639-6a27-438e-e5dc-f4cbc597e305"
   },
   "outputs": [
    {
     "data": {
      "text/plain": [
       "0"
      ]
     },
     "execution_count": 78,
     "metadata": {},
     "output_type": "execute_result"
    }
   ],
   "source": [
    "x=(iA, iAiB, iAiBiC, iAiBoC, iAiC, iAoB, iAoBiC, iAoBoC, iAoC, iB, iBiC, iBoC, iC, iG, oA, oAiB, oAiBiC, oAiBoC, oAiC, oAoB, oAoBiC, oAoBoC, oAoC, oB, oBiC, oBoC, oC)\n",
    "sum(map(p,x))"
   ]
  },
  {
   "cell_type": "code",
   "execution_count": null,
   "metadata": {
    "colab": {
     "base_uri": "https://localhost:8080/"
    },
    "id": "N6-fN_CqsvCs",
    "outputId": "e10f1b98-9fc3-4808-bf3e-665d0cf98c53"
   },
   "outputs": [
    {
     "data": {
      "text/plain": [
       "3"
      ]
     },
     "execution_count": 79,
     "metadata": {},
     "output_type": "execute_result"
    }
   ],
   "source": [
    "iAiB"
   ]
  }
 ],
 "metadata": {
  "colab": {
   "provenance": []
  },
  "kernelspec": {
   "display_name": "Python 3 (ipykernel)",
   "language": "python",
   "name": "python3"
  },
  "language_info": {
   "codemirror_mode": {
    "name": "ipython",
    "version": 3
   },
   "file_extension": ".py",
   "mimetype": "text/x-python",
   "name": "python",
   "nbconvert_exporter": "python",
   "pygments_lexer": "ipython3",
   "version": "3.10.11"
  }
 },
 "nbformat": 4,
 "nbformat_minor": 4
}
