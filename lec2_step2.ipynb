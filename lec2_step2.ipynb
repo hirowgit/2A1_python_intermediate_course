{
 "cells": [
  {
   "cell_type": "code",
   "execution_count": 15,
   "metadata": {},
   "outputs": [],
   "source": [
    "## Python basics for novice data scientists, supported by Wagatsuma Lab@Kyutech \n",
    "#\n",
    "# The MIT License (MIT): Copyright (c) 2022 Hiroaki Wagatsuma and Wagatsuma Lab@Kyutech\n",
    "# \n",
    "# Permission is hereby granted, free of charge, to any person obtaining a copy of this software and associated documentation files (the \"Software\"), to deal in the Software without restriction, including without limitation the rights to use, copy, modify, merge, publish, distribute, sublicense, and/or sell copies of the Software, and to permit persons to whom the Software is furnished to do so, subject to the following conditions:\n",
    "# The above copyright notice and this permission notice shall be included in all copies or substantial portions of the Software.\n",
    "# THE SOFTWARE IS PROVIDED \"AS IS\", WITHOUT WARRANTY OF ANY KIND, EXPRESS OR IMPLIED, INCLUDING BUT NOT LIMITED TO THE WARRANTIES OF MERCHANTABILITY, FITNESS FOR A PARTICULAR PURPOSE AND NONINFRINGEMENT. IN NO EVENT SHALL THE AUTHORS OR COPYRIGHT HOLDERS BE LIABLE FOR ANY CLAIM, DAMAGES OR OTHER LIABILITY, WHETHER IN AN ACTION OF CONTRACT, TORT OR OTHERWISE, ARISING FROM, OUT OF OR IN CONNECTION WITH THE SOFTWARE OR THE USE OR OTHER DEALINGS IN THE SOFTWARE. */\n",
    "#\n",
    "# # @Time    : 2022-8-10 \n",
    "# # @Author  : Hiroaki Wagatsuma\n",
    "# # @Site    : https://github.com/hirowgit/2A1_python_intermediate_course\n",
    "# # @IDE     : Python 3.9.13 (main, Aug  7 2022, 01:33:23)  [Clang 13.1.6 (clang-1316.0.21.2.5)] on darwin\n",
    "# # @File    : lec2_step2.py "
   ]
  },
  {
   "cell_type": "code",
   "execution_count": 512,
   "metadata": {},
   "outputs": [],
   "source": [
    "import numpy as np\n",
    "import matplotlib.pyplot as plt"
   ]
  },
  {
   "cell_type": "code",
   "execution_count": 163,
   "metadata": {},
   "outputs": [
    {
     "data": {
      "text/plain": [
       "array([[ 9,  7,  3, ...,  4,  1, 10],\n",
       "       [ 6,  4, 10, ...,  5,  1,  2],\n",
       "       [ 4,  3,  6, ..., 10,  1,  8],\n",
       "       ...,\n",
       "       [ 3,  4,  1, ...,  2,  7,  8],\n",
       "       [ 6,  7,  3, ...,  8,  9,  4],\n",
       "       [ 9,  8,  5, ..., 10,  7,  6]])"
      ]
     },
     "execution_count": 163,
     "metadata": {},
     "output_type": "execute_result"
    }
   ],
   "source": [
    "allData = np.loadtxt('allData200.csv', delimiter=',', dtype='int64')\n",
    "allData"
   ]
  },
  {
   "cell_type": "code",
   "execution_count": 158,
   "metadata": {},
   "outputs": [
    {
     "data": {
      "text/plain": [
       "array([1, 1, 2, 2, 3, 4])"
      ]
     },
     "execution_count": 158,
     "metadata": {},
     "output_type": "execute_result"
    }
   ],
   "source": [
    "a = np.array([[1,2,4],[3,2,1]])\n",
    "np.sort(a, axis=None)"
   ]
  },
  {
   "cell_type": "code",
   "execution_count": 160,
   "metadata": {},
   "outputs": [
    {
     "data": {
      "text/plain": [
       "array([[1, 2, 1],\n",
       "       [3, 2, 4]])"
      ]
     },
     "execution_count": 160,
     "metadata": {},
     "output_type": "execute_result"
    }
   ],
   "source": [
    "np.sort(a, axis=0) "
   ]
  },
  {
   "cell_type": "code",
   "execution_count": 394,
   "metadata": {},
   "outputs": [
    {
     "data": {
      "text/plain": [
       "array([[ 1,  1,  2,  1,  1,  1,  1,  1,  1,  1],\n",
       "       [ 2,  2,  2,  1,  1,  1,  1,  2,  1,  2],\n",
       "       [ 2,  3,  3,  2,  1,  2,  1,  2,  1,  2],\n",
       "       [ 2,  3,  3,  2,  1,  3,  1,  2,  1,  5],\n",
       "       [ 3,  3,  3,  3,  2,  3,  2,  2,  2,  6],\n",
       "       [ 3,  4,  3,  4,  3,  4,  2,  3,  2,  6],\n",
       "       [ 4,  4,  4,  5,  3,  4,  3,  3,  3,  7],\n",
       "       [ 4,  4,  4,  5,  5,  4,  3,  3,  4,  7],\n",
       "       [ 5,  4,  4,  5,  5,  4,  4,  4,  5,  7],\n",
       "       [ 6,  4,  5,  6,  6,  4,  5,  4,  5,  7],\n",
       "       [ 6,  5,  5,  7,  6,  5,  5,  5,  5,  7],\n",
       "       [ 7,  6,  6,  7,  6,  6,  5,  5,  6,  7],\n",
       "       [ 8,  6,  6,  8,  7,  6,  6,  5,  7,  7],\n",
       "       [ 8,  6,  6,  8,  7,  7,  7,  6,  7,  8],\n",
       "       [ 8,  7,  7,  8,  9,  8,  8,  6,  8,  9],\n",
       "       [ 9,  7,  7,  9,  9,  8,  8,  8,  9,  9],\n",
       "       [ 9,  8,  8,  9, 10,  9,  8,  8,  9,  9],\n",
       "       [ 9,  8,  9,  9, 10, 10,  8,  8, 10, 10],\n",
       "       [ 9, 10,  9,  9, 10, 10,  9, 10, 10, 10],\n",
       "       [10, 10, 10, 10, 10, 10,  9, 10, 10, 10]])"
      ]
     },
     "execution_count": 394,
     "metadata": {},
     "output_type": "execute_result"
    }
   ],
   "source": [
    "allData_sample=allData[0:20,:]\n",
    "np.sort(allData_sample,axis=0) "
   ]
  },
  {
   "cell_type": "code",
   "execution_count": 170,
   "metadata": {},
   "outputs": [
    {
     "data": {
      "text/plain": [
       "array([[3.  , 0.  , 0.  , 0.24],\n",
       "       [2.  , 1.  , 1.  , 0.63],\n",
       "       [4.  , 1.  , 1.  , 0.41],\n",
       "       [1.  , 1.  , 3.  , 0.38]])"
      ]
     },
     "execution_count": 170,
     "metadata": {},
     "output_type": "execute_result"
    }
   ],
   "source": [
    "data = np.array([[3, 0, 0, .24],\n",
    "                 [4, 1, 1, .41],\n",
    "                 [2, 1, 1, .63],\n",
    "                 [1, 1, 3, .38]]) #imagine rows of a spreadsheet\n",
    "#now do sortrows(data,[3,-4])\n",
    "ix = np.lexsort((data[:, 3][::-1], data[:, 2])) \n",
    "#this yields [0, 2, 1, 3]\n",
    "\n",
    "#note that lexsort sorts first from the last row, so sort keys are in reverse order\n",
    "\n",
    "data[ix]"
   ]
  },
  {
   "cell_type": "code",
   "execution_count": 177,
   "metadata": {},
   "outputs": [
    {
     "name": "stdout",
     "output_type": "stream",
     "text": [
      "[[ 50   4  89]\n",
      " [  5 150  20]\n",
      " [110   8   1]]\n",
      " \n",
      "[  4 150   8]\n",
      " \n",
      "[0 2 1]\n"
     ]
    }
   ],
   "source": [
    "sample_2d = np.array([[50,4, 89], [5, 150, 20], [110, 8, 1]])\n",
    "print(sample_2d)\n",
    "print(' ')\n",
    "\n",
    "col_id = 1\n",
    "print(sample_2d[:, col_id])\n",
    "print(' ')\n",
    "print(np.argsort(a_2d[:, col_id]))"
   ]
  },
  {
   "cell_type": "code",
   "execution_count": 178,
   "metadata": {},
   "outputs": [
    {
     "name": "stdout",
     "output_type": "stream",
     "text": [
      "[[ 50   4  89]\n",
      " [110   8   1]\n",
      " [  5 150  20]]\n"
     ]
    }
   ],
   "source": [
    "sorted_by_col = sample_2d[np.argsort(sample_2d[:, col_id])]\n",
    "print(sorted_by_col)"
   ]
  },
  {
   "cell_type": "code",
   "execution_count": 460,
   "metadata": {},
   "outputs": [
    {
     "data": {
      "text/plain": [
       "array([[ 9,  7,  3,  5,  6,  2,  8,  4,  1, 10],\n",
       "       [ 6,  4, 10,  7,  9,  3,  8,  5,  1,  2],\n",
       "       [ 4,  3,  6,  2,  7,  5,  9, 10,  1,  8],\n",
       "       [ 3,  6,  7,  4,  1,  8,  2,  5,  9, 10],\n",
       "       [ 1, 10,  4,  8,  7,  6,  3,  5,  2,  9],\n",
       "       [ 7,  8,  9,  2,  3,  4,  5, 10,  1,  6],\n",
       "       [ 9,  4,  2,  5, 10,  3,  1,  8,  6,  7],\n",
       "       [ 5,  8,  4,  9,  3,  1,  7,  6,  2, 10],\n",
       "       [ 9, 10,  3,  6,  1,  4,  8,  2,  5,  7],\n",
       "       [ 3,  6,  2, 10,  1,  9,  4,  8,  5,  7],\n",
       "       [ 2,  4,  3,  9,  6, 10,  1,  8,  5,  7],\n",
       "       [ 8,  5,  4,  9,  2,  1,  6,  3, 10,  7],\n",
       "       [ 8,  4,  7,  9,  5, 10,  2,  1,  3,  6],\n",
       "       [ 4,  3,  8,  1, 10,  6,  5,  2,  7,  9],\n",
       "       [10,  2,  5,  1,  6,  4,  8,  3,  9,  7],\n",
       "       [ 6,  4,  9,  8,  1, 10,  5,  3,  7,  2],\n",
       "       [ 9,  6,  3,  5, 10,  4,  1,  2,  8,  7],\n",
       "       [ 2,  1,  5,  8, 10,  7,  3,  6,  4,  9],\n",
       "       [ 2,  7,  6,  3,  5,  8,  9,  4, 10,  1],\n",
       "       [ 8,  3,  6,  7,  9,  4,  1,  2, 10,  5]])"
      ]
     },
     "execution_count": 460,
     "metadata": {},
     "output_type": "execute_result"
    }
   ],
   "source": [
    "allData_sample"
   ]
  },
  {
   "cell_type": "code",
   "execution_count": 461,
   "metadata": {},
   "outputs": [
    {
     "data": {
      "text/plain": [
       "array([[ 1,  1,  2,  1,  1,  1,  1,  1,  1,  1],\n",
       "       [ 2,  2,  2,  1,  1,  1,  1,  2,  1,  2],\n",
       "       [ 2,  3,  3,  2,  1,  2,  1,  2,  1,  2],\n",
       "       [ 2,  3,  3,  2,  1,  3,  1,  2,  1,  5],\n",
       "       [ 3,  3,  3,  3,  2,  3,  2,  2,  2,  6],\n",
       "       [ 3,  4,  3,  4,  3,  4,  2,  3,  2,  6],\n",
       "       [ 4,  4,  4,  5,  3,  4,  3,  3,  3,  7],\n",
       "       [ 4,  4,  4,  5,  5,  4,  3,  3,  4,  7],\n",
       "       [ 5,  4,  4,  5,  5,  4,  4,  4,  5,  7],\n",
       "       [ 6,  4,  5,  6,  6,  4,  5,  4,  5,  7],\n",
       "       [ 6,  5,  5,  7,  6,  5,  5,  5,  5,  7],\n",
       "       [ 7,  6,  6,  7,  6,  6,  5,  5,  6,  7],\n",
       "       [ 8,  6,  6,  8,  7,  6,  6,  5,  7,  7],\n",
       "       [ 8,  6,  6,  8,  7,  7,  7,  6,  7,  8],\n",
       "       [ 8,  7,  7,  8,  9,  8,  8,  6,  8,  9],\n",
       "       [ 9,  7,  7,  9,  9,  8,  8,  8,  9,  9],\n",
       "       [ 9,  8,  8,  9, 10,  9,  8,  8,  9,  9],\n",
       "       [ 9,  8,  9,  9, 10, 10,  8,  8, 10, 10],\n",
       "       [ 9, 10,  9,  9, 10, 10,  9, 10, 10, 10],\n",
       "       [10, 10, 10, 10, 10, 10,  9, 10, 10, 10]])"
      ]
     },
     "execution_count": 461,
     "metadata": {},
     "output_type": "execute_result"
    }
   ],
   "source": [
    "sorted_data=np.sort(allData_sample, axis=0) \n",
    "sorted_data"
   ]
  },
  {
   "cell_type": "code",
   "execution_count": 462,
   "metadata": {},
   "outputs": [
    {
     "data": {
      "text/plain": [
       "array([[1, 1, 0, 0, 0, 0, 0, 1, 0, 1],\n",
       "       [0, 1, 1, 1, 0, 1, 0, 0, 0, 0],\n",
       "       [0, 0, 0, 0, 0, 1, 0, 0, 0, 3],\n",
       "       [1, 0, 0, 1, 1, 0, 1, 0, 1, 1],\n",
       "       [0, 1, 0, 1, 1, 1, 0, 1, 0, 0],\n",
       "       [1, 0, 1, 1, 0, 0, 1, 0, 1, 1],\n",
       "       [0, 0, 0, 0, 2, 0, 0, 0, 1, 0],\n",
       "       [1, 0, 0, 0, 0, 0, 1, 1, 1, 0],\n",
       "       [1, 0, 1, 1, 1, 0, 1, 0, 0, 0],\n",
       "       [0, 1, 0, 1, 0, 1, 0, 1, 0, 0],\n",
       "       [1, 1, 1, 0, 0, 1, 0, 0, 1, 0],\n",
       "       [1, 0, 0, 1, 1, 0, 1, 0, 1, 0],\n",
       "       [0, 0, 0, 0, 0, 1, 1, 1, 0, 1],\n",
       "       [0, 1, 1, 0, 2, 1, 1, 0, 1, 1],\n",
       "       [1, 0, 0, 1, 0, 0, 0, 2, 1, 0],\n",
       "       [0, 1, 1, 0, 1, 1, 0, 0, 0, 0],\n",
       "       [0, 0, 1, 0, 0, 1, 0, 0, 1, 1],\n",
       "       [0, 2, 0, 0, 0, 0, 1, 2, 0, 0],\n",
       "       [1, 0, 1, 1, 0, 0, 0, 0, 0, 0]])"
      ]
     },
     "execution_count": 462,
     "metadata": {},
     "output_type": "execute_result"
    }
   ],
   "source": [
    "diffData=np.diff(sorted_data,axis=0)\n",
    "diffData"
   ]
  },
  {
   "cell_type": "code",
   "execution_count": 464,
   "metadata": {},
   "outputs": [
    {
     "data": {
      "text/plain": [
       "array([[1, 0, 0, 1, 0, 1, 0, 1, 1, 0, 1, 1, 0, 0, 1, 0, 0, 0, 1],\n",
       "       [1, 1, 0, 0, 1, 0, 0, 0, 0, 1, 1, 0, 0, 1, 0, 1, 0, 2, 0],\n",
       "       [0, 1, 0, 0, 0, 1, 0, 0, 1, 0, 1, 0, 0, 1, 0, 1, 1, 0, 1],\n",
       "       [0, 1, 0, 1, 1, 1, 0, 0, 1, 1, 0, 1, 0, 0, 1, 0, 0, 0, 1],\n",
       "       [0, 0, 0, 1, 1, 0, 2, 0, 1, 0, 0, 1, 0, 2, 0, 1, 0, 0, 0],\n",
       "       [0, 1, 1, 0, 1, 0, 0, 0, 0, 1, 1, 0, 1, 1, 0, 1, 1, 0, 0],\n",
       "       [0, 0, 0, 1, 0, 1, 0, 1, 1, 0, 0, 1, 1, 1, 0, 0, 0, 1, 0],\n",
       "       [1, 0, 0, 0, 1, 0, 0, 1, 0, 1, 0, 0, 1, 0, 2, 0, 0, 2, 0],\n",
       "       [0, 0, 0, 1, 0, 1, 1, 1, 0, 0, 1, 1, 0, 1, 1, 0, 1, 0, 0],\n",
       "       [1, 0, 3, 1, 0, 1, 0, 0, 0, 0, 0, 0, 1, 1, 0, 0, 1, 0, 0]])"
      ]
     },
     "execution_count": 464,
     "metadata": {},
     "output_type": "execute_result"
    }
   ],
   "source": []
  },
  {
   "cell_type": "code",
   "execution_count": 465,
   "metadata": {},
   "outputs": [
    {
     "data": {
      "text/plain": [
       "(array([0, 0, 0, 0, 0, 0, 0, 0, 0, 1, 1, 1, 1, 1, 1, 1, 1, 2, 2, 2, 2, 2,\n",
       "        2, 2, 2, 3, 3, 3, 3, 3, 3, 3, 3, 3, 4, 4, 4, 4, 4, 4, 4, 5, 5, 5,\n",
       "        5, 5, 5, 5, 5, 5, 6, 6, 6, 6, 6, 6, 6, 6, 7, 7, 7, 7, 7, 7, 7, 8,\n",
       "        8, 8, 8, 8, 8, 8, 8, 8, 9, 9, 9, 9, 9, 9, 9]),\n",
       " array([ 0,  3,  5,  7,  8, 10, 11, 14, 18,  0,  1,  4,  9, 10, 13, 15, 17,\n",
       "         1,  5,  8, 10, 13, 15, 16, 18,  1,  3,  4,  5,  8,  9, 11, 14, 18,\n",
       "         3,  4,  6,  8, 11, 13, 15,  1,  2,  4,  9, 10, 12, 13, 15, 16,  3,\n",
       "         5,  7,  8, 11, 12, 13, 17,  0,  4,  7,  9, 12, 14, 17,  3,  5,  6,\n",
       "         7, 10, 11, 13, 14, 16,  0,  2,  3,  5, 12, 13, 16]))"
      ]
     },
     "execution_count": 465,
     "metadata": {},
     "output_type": "execute_result"
    }
   ],
   "source": [
    "key=np.where(np.transpose(diffData)>0)\n",
    "key"
   ]
  },
  {
   "cell_type": "code",
   "execution_count": 466,
   "metadata": {},
   "outputs": [
    {
     "data": {
      "text/plain": [
       "array([0, 0, 0, 0, 0, 0, 0, 0, 0, 1, 1, 1, 1, 1, 1, 1, 1, 2, 2, 2, 2, 2,\n",
       "       2, 2, 2, 3, 3, 3, 3, 3, 3, 3, 3, 3, 4, 4, 4, 4, 4, 4, 4, 5, 5, 5,\n",
       "       5, 5, 5, 5, 5, 5, 6, 6, 6, 6, 6, 6, 6, 6, 7, 7, 7, 7, 7, 7, 7, 8,\n",
       "       8, 8, 8, 8, 8, 8, 8, 8, 9, 9, 9, 9, 9, 9, 9])"
      ]
     },
     "execution_count": 466,
     "metadata": {},
     "output_type": "execute_result"
    }
   ],
   "source": [
    "kj=key[0]\n",
    "kj"
   ]
  },
  {
   "cell_type": "code",
   "execution_count": 467,
   "metadata": {},
   "outputs": [
    {
     "data": {
      "text/plain": [
       "array([ 0,  3,  5,  7,  8, 10, 11, 14, 18,  0,  1,  4,  9, 10, 13, 15, 17,\n",
       "        1,  5,  8, 10, 13, 15, 16, 18,  1,  3,  4,  5,  8,  9, 11, 14, 18,\n",
       "        3,  4,  6,  8, 11, 13, 15,  1,  2,  4,  9, 10, 12, 13, 15, 16,  3,\n",
       "        5,  7,  8, 11, 12, 13, 17,  0,  4,  7,  9, 12, 14, 17,  3,  5,  6,\n",
       "        7, 10, 11, 13, 14, 16,  0,  2,  3,  5, 12, 13, 16])"
      ]
     },
     "execution_count": 467,
     "metadata": {},
     "output_type": "execute_result"
    }
   ],
   "source": [
    "ki=key[1]\n",
    "ki"
   ]
  },
  {
   "cell_type": "code",
   "execution_count": 468,
   "metadata": {},
   "outputs": [
    {
     "data": {
      "text/plain": [
       "(array([ 8, 16, 24, 33, 40, 49, 57, 64, 73]),)"
      ]
     },
     "execution_count": 468,
     "metadata": {},
     "output_type": "execute_result"
    }
   ],
   "source": [
    "bodyK=np.where(np.diff(kj)>0)\n",
    "bodyK"
   ]
  },
  {
   "cell_type": "code",
   "execution_count": 403,
   "metadata": {},
   "outputs": [
    {
     "data": {
      "text/plain": [
       "(20, 10)"
      ]
     },
     "execution_count": 403,
     "metadata": {},
     "output_type": "execute_result"
    }
   ],
   "source": [
    "sizeD=np.shape(allData_sample)\n",
    "sizeD"
   ]
  },
  {
   "cell_type": "code",
   "execution_count": 469,
   "metadata": {},
   "outputs": [
    {
     "data": {
      "text/plain": [
       "array([[ 8, 16, 24, 33, 40, 49, 57, 64, 73,  8, 16, 24, 33, 40, 49, 57,\n",
       "        64, 73]])"
      ]
     },
     "execution_count": 469,
     "metadata": {},
     "output_type": "execute_result"
    }
   ],
   "source": [
    "# n0=np.array([0],dtype=int)\n",
    "np.concatenate([bodyK, bodyK],axis=1)"
   ]
  },
  {
   "cell_type": "code",
   "execution_count": 234,
   "metadata": {},
   "outputs": [
    {
     "data": {
      "text/plain": [
       "array([0])"
      ]
     },
     "execution_count": 234,
     "metadata": {},
     "output_type": "execute_result"
    }
   ],
   "source": [
    "np.array([0])"
   ]
  },
  {
   "cell_type": "code",
   "execution_count": 237,
   "metadata": {},
   "outputs": [
    {
     "data": {
      "text/plain": [
       "(array([ 5, 11, 16, 21, 28, 38, 43, 50]),)"
      ]
     },
     "execution_count": 237,
     "metadata": {},
     "output_type": "execute_result"
    }
   ],
   "source": [
    "bodyK"
   ]
  },
  {
   "cell_type": "code",
   "execution_count": 247,
   "metadata": {},
   "outputs": [
    {
     "data": {
      "text/plain": [
       "(array([ 5, 11, 16, 21, 28, 38, 43, 50]),)"
      ]
     },
     "execution_count": 247,
     "metadata": {},
     "output_type": "execute_result"
    }
   ],
   "source": [
    "bodyK"
   ]
  },
  {
   "cell_type": "code",
   "execution_count": 277,
   "metadata": {},
   "outputs": [
    {
     "data": {
      "text/plain": [
       "array([[1, 1, 1, 1, 1, 1]])"
      ]
     },
     "execution_count": 277,
     "metadata": {},
     "output_type": "execute_result"
    }
   ],
   "source": [
    "a1 = np.ones((1,3), int)\n",
    "a2 = np.ones((1,3), int)\n",
    "np.concatenate([a1, a2],axis=1)"
   ]
  },
  {
   "cell_type": "code",
   "execution_count": 270,
   "metadata": {},
   "outputs": [],
   "source": [
    "a1 = np.ones((1,3), int)"
   ]
  },
  {
   "cell_type": "code",
   "execution_count": 299,
   "metadata": {},
   "outputs": [
    {
     "data": {
      "text/plain": [
       "[0, [array([ 5, 11, 16, 21, 28, 38, 43, 50])], 57]"
      ]
     },
     "execution_count": 299,
     "metadata": {},
     "output_type": "execute_result"
    }
   ],
   "source": [
    "[0,list(bodyK), len(kj)]"
   ]
  },
  {
   "cell_type": "code",
   "execution_count": 266,
   "metadata": {},
   "outputs": [
    {
     "data": {
      "text/plain": [
       "(1, 8)"
      ]
     },
     "execution_count": 266,
     "metadata": {},
     "output_type": "execute_result"
    }
   ],
   "source": [
    "np.shape(bodyK)"
   ]
  },
  {
   "cell_type": "code",
   "execution_count": 281,
   "metadata": {},
   "outputs": [
    {
     "data": {
      "text/plain": [
       "57"
      ]
     },
     "execution_count": 281,
     "metadata": {},
     "output_type": "execute_result"
    }
   ],
   "source": [
    "len(kj)"
   ]
  },
  {
   "cell_type": "code",
   "execution_count": 284,
   "metadata": {},
   "outputs": [
    {
     "data": {
      "text/plain": [
       "array([[57]])"
      ]
     },
     "execution_count": 284,
     "metadata": {},
     "output_type": "execute_result"
    }
   ],
   "source": [
    " len(kj)*np.ones((1,1), int)"
   ]
  },
  {
   "cell_type": "code",
   "execution_count": 285,
   "metadata": {},
   "outputs": [
    {
     "data": {
      "text/plain": [
       "[[57]]"
      ]
     },
     "execution_count": 285,
     "metadata": {},
     "output_type": "execute_result"
    }
   ],
   "source": [
    "[[ len(kj)]]"
   ]
  },
  {
   "cell_type": "code",
   "execution_count": 294,
   "metadata": {},
   "outputs": [
    {
     "data": {
      "text/plain": [
       "(array([ 5, 11, 16, 21, 28, 38, 43, 50]),)"
      ]
     },
     "execution_count": 294,
     "metadata": {},
     "output_type": "execute_result"
    }
   ],
   "source": [
    "bodyK"
   ]
  },
  {
   "cell_type": "code",
   "execution_count": 296,
   "metadata": {},
   "outputs": [
    {
     "data": {
      "text/plain": [
       "[array([ 5, 11, 16, 21, 28, 38, 43, 50])]"
      ]
     },
     "execution_count": 296,
     "metadata": {},
     "output_type": "execute_result"
    }
   ],
   "source": [
    "list(bodyK)"
   ]
  },
  {
   "cell_type": "code",
   "execution_count": 302,
   "metadata": {},
   "outputs": [
    {
     "ename": "AttributeError",
     "evalue": "'tuple' object has no attribute 'tolist'",
     "output_type": "error",
     "traceback": [
      "\u001b[0;31m---------------------------------------------------------------------------\u001b[0m",
      "\u001b[0;31mAttributeError\u001b[0m                            Traceback (most recent call last)",
      "\u001b[0;32m/var/folders/mg/w5t8lkhc8xj79f001s7kzpfh0000gp/T/ipykernel_46672/3209845136.py\u001b[0m in \u001b[0;36m<module>\u001b[0;34m\u001b[0m\n\u001b[1;32m      1\u001b[0m \u001b[0marr_1d\u001b[0m\u001b[0;34m=\u001b[0m\u001b[0mlist\u001b[0m\u001b[0;34m(\u001b[0m\u001b[0mbodyK\u001b[0m\u001b[0;34m)\u001b[0m\u001b[0;34m\u001b[0m\u001b[0;34m\u001b[0m\u001b[0m\n\u001b[0;32m----> 2\u001b[0;31m \u001b[0mbodyK\u001b[0m\u001b[0;34m.\u001b[0m\u001b[0mtolist\u001b[0m\u001b[0;34m(\u001b[0m\u001b[0;34m)\u001b[0m\u001b[0;34m\u001b[0m\u001b[0;34m\u001b[0m\u001b[0m\n\u001b[0m",
      "\u001b[0;31mAttributeError\u001b[0m: 'tuple' object has no attribute 'tolist'"
     ]
    }
   ],
   "source": [
    "arr_1d=list(bodyK)\n",
    "bodyK.tolist()"
   ]
  },
  {
   "cell_type": "code",
   "execution_count": 303,
   "metadata": {},
   "outputs": [
    {
     "data": {
      "text/plain": [
       "(array([ 5, 11, 16, 21, 28, 38, 43, 50]),)"
      ]
     },
     "execution_count": 303,
     "metadata": {},
     "output_type": "execute_result"
    }
   ],
   "source": [
    "bodyK"
   ]
  },
  {
   "cell_type": "code",
   "execution_count": 307,
   "metadata": {},
   "outputs": [
    {
     "data": {
      "text/plain": [
       "(array([ 5, 11, 16, 21, 28, 38, 43, 50]),)"
      ]
     },
     "execution_count": 307,
     "metadata": {},
     "output_type": "execute_result"
    }
   ],
   "source": [
    "bodyK"
   ]
  },
  {
   "cell_type": "code",
   "execution_count": 308,
   "metadata": {},
   "outputs": [
    {
     "data": {
      "text/plain": [
       "array([0, 0, 0, 0, 0, 0, 1, 1, 1, 1, 1, 1, 2, 2, 2, 2, 2, 3, 3, 3, 3, 3,\n",
       "       4, 4, 4, 4, 4, 4, 4, 5, 5, 5, 5, 5, 5, 5, 5, 5, 5, 6, 6, 6, 6, 6,\n",
       "       7, 7, 7, 7, 7, 7, 7, 8, 8, 8, 8, 8, 8])"
      ]
     },
     "execution_count": 308,
     "metadata": {},
     "output_type": "execute_result"
    }
   ],
   "source": [
    "kj"
   ]
  },
  {
   "cell_type": "code",
   "execution_count": 313,
   "metadata": {},
   "outputs": [
    {
     "data": {
      "text/plain": [
       "array([0, 1, 2, 3, 4, 5, 6, 7])"
      ]
     },
     "execution_count": 313,
     "metadata": {},
     "output_type": "execute_result"
    }
   ],
   "source": [
    "kj[bodyK]"
   ]
  },
  {
   "cell_type": "code",
   "execution_count": 314,
   "metadata": {},
   "outputs": [
    {
     "data": {
      "text/plain": [
       "array([[ 0,  5, 11, 16, 21, 28, 38, 43, 50]])"
      ]
     },
     "execution_count": 314,
     "metadata": {},
     "output_type": "execute_result"
    }
   ],
   "source": [
    "ab=np.concatenate([[[0]], bodyK],axis=1)"
   ]
  },
  {
   "cell_type": "code",
   "execution_count": 315,
   "metadata": {},
   "outputs": [
    {
     "ename": "NameError",
     "evalue": "name 'ab' is not defined",
     "output_type": "error",
     "traceback": [
      "\u001b[0;31m---------------------------------------------------------------------------\u001b[0m",
      "\u001b[0;31mNameError\u001b[0m                                 Traceback (most recent call last)",
      "\u001b[0;32m/var/folders/mg/w5t8lkhc8xj79f001s7kzpfh0000gp/T/ipykernel_46672/942133995.py\u001b[0m in \u001b[0;36m<module>\u001b[0;34m\u001b[0m\n\u001b[0;32m----> 1\u001b[0;31m \u001b[0mkj\u001b[0m\u001b[0;34m[\u001b[0m\u001b[0mab\u001b[0m\u001b[0;34m]\u001b[0m\u001b[0;34m\u001b[0m\u001b[0;34m\u001b[0m\u001b[0m\n\u001b[0m",
      "\u001b[0;31mNameError\u001b[0m: name 'ab' is not defined"
     ]
    }
   ],
   "source": [
    "kj[ab]"
   ]
  },
  {
   "cell_type": "code",
   "execution_count": 496,
   "metadata": {},
   "outputs": [
    {
     "data": {
      "text/plain": [
       "array([ 0,  9, 17, 25, 34, 41, 50, 58, 65, 74, 81])"
      ]
     },
     "execution_count": 496,
     "metadata": {},
     "output_type": "execute_result"
    }
   ],
   "source": [
    "bodyK2=bodyK+np.array([[1]])\n",
    "sect_id=np.insert(bodyK2, 0,0)\n",
    "sect_id=np.append(sect_id, len(kj))\n",
    "sect_id"
   ]
  },
  {
   "cell_type": "code",
   "execution_count": 497,
   "metadata": {},
   "outputs": [
    {
     "data": {
      "text/plain": [
       "array([0, 0, 0, 0, 0, 0, 0, 0, 0, 1, 1, 1, 1, 1, 1, 1, 1, 2, 2, 2, 2, 2,\n",
       "       2, 2, 2, 3, 3, 3, 3, 3, 3, 3, 3, 3, 4, 4, 4, 4, 4, 4, 4, 5, 5, 5,\n",
       "       5, 5, 5, 5, 5, 5, 6, 6, 6, 6, 6, 6, 6, 6, 7, 7, 7, 7, 7, 7, 7, 8,\n",
       "       8, 8, 8, 8, 8, 8, 8, 8, 9, 9, 9, 9, 9, 9, 9])"
      ]
     },
     "execution_count": 497,
     "metadata": {},
     "output_type": "execute_result"
    }
   ],
   "source": [
    "kj"
   ]
  },
  {
   "cell_type": "code",
   "execution_count": 498,
   "metadata": {},
   "outputs": [
    {
     "data": {
      "text/plain": [
       "array([ 0,  3,  5,  7,  8, 10, 11, 14, 18,  0,  1,  4,  9, 10, 13, 15, 17,\n",
       "        1,  5,  8, 10, 13, 15, 16, 18,  1,  3,  4,  5,  8,  9, 11, 14, 18,\n",
       "        3,  4,  6,  8, 11, 13, 15,  1,  2,  4,  9, 10, 12, 13, 15, 16,  3,\n",
       "        5,  7,  8, 11, 12, 13, 17,  0,  4,  7,  9, 12, 14, 17,  3,  5,  6,\n",
       "        7, 10, 11, 13, 14, 16,  0,  2,  3,  5, 12, 13, 16])"
      ]
     },
     "execution_count": 498,
     "metadata": {},
     "output_type": "execute_result"
    }
   ],
   "source": [
    "ki"
   ]
  },
  {
   "cell_type": "code",
   "execution_count": 339,
   "metadata": {},
   "outputs": [
    {
     "data": {
      "text/plain": [
       "array([0, 1, 2, 3, 4, 5, 6, 7, 8, 8])"
      ]
     },
     "execution_count": 339,
     "metadata": {},
     "output_type": "execute_result"
    }
   ],
   "source": [
    "kj[sect_id]"
   ]
  },
  {
   "cell_type": "code",
   "execution_count": 363,
   "metadata": {},
   "outputs": [
    {
     "data": {
      "text/plain": [
       "array([0, 0, 0, 0, 0, 0, 1])"
      ]
     },
     "execution_count": 363,
     "metadata": {},
     "output_type": "execute_result"
    }
   ],
   "source": [
    "kj[sect_id[0]:sect_id[1]]"
   ]
  },
  {
   "cell_type": "code",
   "execution_count": 368,
   "metadata": {},
   "outputs": [
    {
     "data": {
      "text/plain": [
       "6"
      ]
     },
     "execution_count": 368,
     "metadata": {},
     "output_type": "execute_result"
    }
   ],
   "source": [
    "sect_id[1]"
   ]
  },
  {
   "cell_type": "code",
   "execution_count": 499,
   "metadata": {},
   "outputs": [
    {
     "data": {
      "text/plain": [
       "array([0, 1, 2, 3, 4, 5, 6, 7, 8])"
      ]
     },
     "execution_count": 499,
     "metadata": {},
     "output_type": "execute_result"
    }
   ],
   "source": [
    "g2=np.arange(sect_id[0],sect_id[1])\n",
    "g2"
   ]
  },
  {
   "cell_type": "code",
   "execution_count": 347,
   "metadata": {},
   "outputs": [
    {
     "data": {
      "text/plain": [
       "array([1, 1, 1, 1, 1, 1])"
      ]
     },
     "execution_count": 347,
     "metadata": {},
     "output_type": "execute_result"
    }
   ],
   "source": [
    "kj[sect_id[1]:sect_id[2]]"
   ]
  },
  {
   "cell_type": "code",
   "execution_count": 367,
   "metadata": {},
   "outputs": [
    {
     "data": {
      "text/plain": [
       "array([0, 0, 0, 0, 0, 0])"
      ]
     },
     "execution_count": 367,
     "metadata": {},
     "output_type": "execute_result"
    }
   ],
   "source": [
    "kj[g2]"
   ]
  },
  {
   "cell_type": "code",
   "execution_count": 350,
   "metadata": {},
   "outputs": [
    {
     "data": {
      "text/plain": [
       "array([ 0,  6, 12, 17, 22, 29, 39, 44, 51, 56])"
      ]
     },
     "execution_count": 350,
     "metadata": {},
     "output_type": "execute_result"
    }
   ],
   "source": [
    "sect_id"
   ]
  },
  {
   "cell_type": "code",
   "execution_count": 501,
   "metadata": {},
   "outputs": [],
   "source": [
    "setN=sizeD[0]\n",
    "NofD=sizeD[1]"
   ]
  },
  {
   "cell_type": "code",
   "execution_count": 500,
   "metadata": {},
   "outputs": [
    {
     "data": {
      "text/plain": [
       "array([[ 0,  9, 17, 25, 34, 41, 50, 58, 65, 74],\n",
       "       [ 9, 17, 25, 34, 41, 50, 58, 65, 74, 81]])"
      ]
     },
     "execution_count": 500,
     "metadata": {},
     "output_type": "execute_result"
    }
   ],
   "source": [
    "sect_eg=np.vstack([sect_id[0:-1],sect_id[1:]])\n",
    "sect_eg"
   ]
  },
  {
   "cell_type": "code",
   "execution_count": 502,
   "metadata": {},
   "outputs": [
    {
     "data": {
      "text/plain": [
       "array([[ 0,  9],\n",
       "       [ 9, 17],\n",
       "       [17, 25],\n",
       "       [25, 34],\n",
       "       [34, 41],\n",
       "       [41, 50],\n",
       "       [50, 58],\n",
       "       [58, 65],\n",
       "       [65, 74],\n",
       "       [74, 81]])"
      ]
     },
     "execution_count": 502,
     "metadata": {},
     "output_type": "execute_result"
    }
   ],
   "source": [
    "sect_egT=np.transpose(sect_eg)\n",
    "sect_egT"
   ]
  },
  {
   "cell_type": "code",
   "execution_count": 492,
   "metadata": {},
   "outputs": [
    {
     "data": {
      "text/plain": [
       "[array([0, 9]),\n",
       " array([ 9, 17]),\n",
       " array([17, 25]),\n",
       " array([25, 34]),\n",
       " array([34, 41])]"
      ]
     },
     "execution_count": 492,
     "metadata": {},
     "output_type": "execute_result"
    }
   ],
   "source": [
    "[sect_egT[i]  for i in range(0,5)]\n"
   ]
  },
  {
   "cell_type": "code",
   "execution_count": 439,
   "metadata": {},
   "outputs": [
    {
     "data": {
      "text/plain": [
       "4"
      ]
     },
     "execution_count": 439,
     "metadata": {},
     "output_type": "execute_result"
    }
   ],
   "source": [
    "sect_egT[0][1]"
   ]
  },
  {
   "cell_type": "code",
   "execution_count": 440,
   "metadata": {},
   "outputs": [
    {
     "data": {
      "text/plain": [
       "19"
      ]
     },
     "execution_count": 440,
     "metadata": {},
     "output_type": "execute_result"
    }
   ],
   "source": [
    "len(sect_egT)"
   ]
  },
  {
   "cell_type": "code",
   "execution_count": 503,
   "metadata": {},
   "outputs": [
    {
     "data": {
      "text/plain": [
       "[array([0, 0, 0, 0, 0, 0, 0, 0, 0]),\n",
       " array([1, 1, 1, 1, 1, 1, 1, 1]),\n",
       " array([2, 2, 2, 2, 2, 2, 2, 2]),\n",
       " array([3, 3, 3, 3, 3, 3, 3, 3, 3]),\n",
       " array([4, 4, 4, 4, 4, 4, 4]),\n",
       " array([5, 5, 5, 5, 5, 5, 5, 5, 5]),\n",
       " array([6, 6, 6, 6, 6, 6, 6, 6]),\n",
       " array([7, 7, 7, 7, 7, 7, 7]),\n",
       " array([8, 8, 8, 8, 8, 8, 8, 8, 8]),\n",
       " array([9, 9, 9, 9, 9, 9, 9])]"
      ]
     },
     "execution_count": 503,
     "metadata": {},
     "output_type": "execute_result"
    }
   ],
   "source": [
    "[kj[sect_egT[i][0]:sect_egT[i][1]]  for i in range(0,len(sect_egT))]"
   ]
  },
  {
   "cell_type": "code",
   "execution_count": 518,
   "metadata": {},
   "outputs": [
    {
     "data": {
      "text/plain": [
       "[array([ 0,  3,  5,  7,  8, 10, 11, 14, 18]),\n",
       " array([ 0,  1,  4,  9, 10, 13, 15, 17]),\n",
       " array([ 1,  5,  8, 10, 13, 15, 16, 18]),\n",
       " array([ 1,  3,  4,  5,  8,  9, 11, 14, 18]),\n",
       " array([ 3,  4,  6,  8, 11, 13, 15]),\n",
       " array([ 1,  2,  4,  9, 10, 12, 13, 15, 16]),\n",
       " array([ 3,  5,  7,  8, 11, 12, 13, 17]),\n",
       " array([ 0,  4,  7,  9, 12, 14, 17]),\n",
       " array([ 3,  5,  6,  7, 10, 11, 13, 14, 16]),\n",
       " array([ 0,  2,  3,  5, 12, 13, 16])]"
      ]
     },
     "execution_count": 518,
     "metadata": {},
     "output_type": "execute_result"
    }
   ],
   "source": [
    "sect_range=[ki[sect_egT[i][0]:sect_egT[i][1]]  for i in range(0,len(sect_egT))]\n",
    "sect_range"
   ]
  },
  {
   "cell_type": "code",
   "execution_count": 505,
   "metadata": {},
   "outputs": [
    {
     "data": {
      "text/plain": [
       "[array([1, 3, 2, 2, 1, 2, 1, 3, 4, 1]),\n",
       " array([1, 1, 3, 5, 1, 3, 2, 2, 2]),\n",
       " array([2, 4, 3, 2, 3, 2, 1, 2, 1]),\n",
       " array([2, 2, 1, 1, 3, 1, 2, 3, 4, 1]),\n",
       " array([4, 1, 2, 2, 3, 2, 2, 4]),\n",
       " array([2, 1, 2, 5, 1, 2, 1, 2, 1, 3]),\n",
       " array([4, 2, 2, 1, 3, 1, 1, 4, 2]),\n",
       " array([1, 4, 3, 2, 3, 2, 3, 2]),\n",
       " array([4, 2, 1, 1, 3, 1, 2, 1, 2, 3]),\n",
       " array([1, 2, 1, 2, 7, 1, 3, 3])]"
      ]
     },
     "execution_count": 505,
     "metadata": {},
     "output_type": "execute_result"
    }
   ],
   "source": [
    "[np.diff(np.hstack([-1,d,setN-1])) for d in sect_range]"
   ]
  },
  {
   "cell_type": "code",
   "execution_count": 508,
   "metadata": {},
   "outputs": [
    {
     "data": {
      "text/plain": [
       "[array([0.05, 0.15, 0.1 , 0.1 , 0.05, 0.1 , 0.05, 0.15, 0.2 , 0.05]),\n",
       " array([0.05, 0.05, 0.15, 0.25, 0.05, 0.15, 0.1 , 0.1 , 0.1 ]),\n",
       " array([0.1 , 0.2 , 0.15, 0.1 , 0.15, 0.1 , 0.05, 0.1 , 0.05]),\n",
       " array([0.1 , 0.1 , 0.05, 0.05, 0.15, 0.05, 0.1 , 0.15, 0.2 , 0.05]),\n",
       " array([0.2 , 0.05, 0.1 , 0.1 , 0.15, 0.1 , 0.1 , 0.2 ]),\n",
       " array([0.1 , 0.05, 0.1 , 0.25, 0.05, 0.1 , 0.05, 0.1 , 0.05, 0.15]),\n",
       " array([0.2 , 0.1 , 0.1 , 0.05, 0.15, 0.05, 0.05, 0.2 , 0.1 ]),\n",
       " array([0.05, 0.2 , 0.15, 0.1 , 0.15, 0.1 , 0.15, 0.1 ]),\n",
       " array([0.2 , 0.1 , 0.05, 0.05, 0.15, 0.05, 0.1 , 0.05, 0.1 , 0.15]),\n",
       " array([0.05, 0.1 , 0.05, 0.1 , 0.35, 0.05, 0.15, 0.15])]"
      ]
     },
     "execution_count": 508,
     "metadata": {},
     "output_type": "execute_result"
    }
   ],
   "source": [
    "[np.diff(np.hstack([-1,d,setN-1]))/setN for d in sect_range]"
   ]
  },
  {
   "cell_type": "code",
   "execution_count": 519,
   "metadata": {},
   "outputs": [
    {
     "data": {
      "text/plain": [
       "[array([1, 3, 2, 2, 1, 2, 1, 3, 4, 1]),\n",
       " array([1, 1, 3, 5, 1, 3, 2, 2, 2]),\n",
       " array([2, 4, 3, 2, 3, 2, 1, 2, 1]),\n",
       " array([2, 2, 1, 1, 3, 1, 2, 3, 4, 1]),\n",
       " array([4, 1, 2, 2, 3, 2, 2, 4]),\n",
       " array([2, 1, 2, 5, 1, 2, 1, 2, 1, 3]),\n",
       " array([4, 2, 2, 1, 3, 1, 1, 4, 2]),\n",
       " array([1, 4, 3, 2, 3, 2, 3, 2]),\n",
       " array([4, 2, 1, 1, 3, 1, 2, 1, 2, 3]),\n",
       " array([1, 2, 1, 2, 7, 1, 3, 3])]"
      ]
     },
     "execution_count": 519,
     "metadata": {},
     "output_type": "execute_result"
    }
   ],
   "source": [
    "NofE_data=[np.diff(np.hstack([-1,ki[sect_egT[i][0]:sect_egT[i][1]],setN-1]))   for i in range(0,len(sect_egT))]\n",
    "NofE_data"
   ]
  },
  {
   "cell_type": "code",
   "execution_count": 520,
   "metadata": {},
   "outputs": [
    {
     "data": {
      "text/plain": [
       "[array([0.05, 0.15, 0.1 , 0.1 , 0.05, 0.1 , 0.05, 0.15, 0.2 , 0.05]),\n",
       " array([0.05, 0.05, 0.15, 0.25, 0.05, 0.15, 0.1 , 0.1 , 0.1 ]),\n",
       " array([0.1 , 0.2 , 0.15, 0.1 , 0.15, 0.1 , 0.05, 0.1 , 0.05]),\n",
       " array([0.1 , 0.1 , 0.05, 0.05, 0.15, 0.05, 0.1 , 0.15, 0.2 , 0.05]),\n",
       " array([0.2 , 0.05, 0.1 , 0.1 , 0.15, 0.1 , 0.1 , 0.2 ]),\n",
       " array([0.1 , 0.05, 0.1 , 0.25, 0.05, 0.1 , 0.05, 0.1 , 0.05, 0.15]),\n",
       " array([0.2 , 0.1 , 0.1 , 0.05, 0.15, 0.05, 0.05, 0.2 , 0.1 ]),\n",
       " array([0.05, 0.2 , 0.15, 0.1 , 0.15, 0.1 , 0.15, 0.1 ]),\n",
       " array([0.2 , 0.1 , 0.05, 0.05, 0.15, 0.05, 0.1 , 0.05, 0.1 , 0.15]),\n",
       " array([0.05, 0.1 , 0.05, 0.1 , 0.35, 0.05, 0.15, 0.15])]"
      ]
     },
     "execution_count": 520,
     "metadata": {},
     "output_type": "execute_result"
    }
   ],
   "source": [
    "NofE_data_p=[np.diff(np.hstack([-1,ki[sect_egT[i][0]:sect_egT[i][1]],setN-1]))/setN   for i in range(0,len(sect_egT))]\n",
    "NofE_data_p"
   ]
  },
  {
   "cell_type": "code",
   "execution_count": 521,
   "metadata": {},
   "outputs": [
    {
     "data": {
      "text/plain": [
       "array([0.05, 0.05, 0.15, 0.25, 0.05, 0.15, 0.1 , 0.1 , 0.1 ])"
      ]
     },
     "execution_count": 521,
     "metadata": {},
     "output_type": "execute_result"
    }
   ],
   "source": [
    "NofE_data_p[1]"
   ]
  },
  {
   "cell_type": "code",
   "execution_count": 524,
   "metadata": {},
   "outputs": [
    {
     "data": {
      "image/png": "[encoded data removed]",
      "text/plain": [
       "<Figure size 432x288 with 1 Axes>"
      ]
     },
     "metadata": {
      "needs_background": "light"
     },
     "output_type": "display_data"
    }
   ],
   "source": [
    "x=np.arange(0,NofD)\n",
    "y=NofE_data_p[3]\n",
    "plt.plot(x,y)\n",
    "plt.show()"
   ]
  },
  {
   "cell_type": "code",
   "execution_count": null,
   "metadata": {},
   "outputs": [],
   "source": []
  },
  {
   "cell_type": "code",
   "execution_count": 517,
   "metadata": {},
   "outputs": [
    {
     "data": {
      "text/plain": [
       "array([0, 1, 2, 3, 4, 5, 6, 7, 8, 9])"
      ]
     },
     "execution_count": 517,
     "metadata": {},
     "output_type": "execute_result"
    }
   ],
   "source": [
    "np.arange(0,NofD)"
   ]
  },
  {
   "cell_type": "code",
   "execution_count": 454,
   "metadata": {},
   "outputs": [
    {
     "data": {
      "text/plain": [
       "array([[ 1,  1,  2,  1,  1,  1,  1,  1,  1,  1],\n",
       "       [ 2,  2,  2,  1,  1,  1,  1,  2,  1,  2],\n",
       "       [ 2,  3,  3,  2,  1,  2,  1,  2,  1,  2],\n",
       "       [ 2,  3,  3,  2,  1,  3,  1,  2,  1,  5],\n",
       "       [ 3,  3,  3,  3,  2,  3,  2,  2,  2,  6],\n",
       "       [ 3,  4,  3,  4,  3,  4,  2,  3,  2,  6],\n",
       "       [ 4,  4,  4,  5,  3,  4,  3,  3,  3,  7],\n",
       "       [ 4,  4,  4,  5,  5,  4,  3,  3,  4,  7],\n",
       "       [ 5,  4,  4,  5,  5,  4,  4,  4,  5,  7],\n",
       "       [ 6,  4,  5,  6,  6,  4,  5,  4,  5,  7],\n",
       "       [ 6,  5,  5,  7,  6,  5,  5,  5,  5,  7],\n",
       "       [ 7,  6,  6,  7,  6,  6,  5,  5,  6,  7],\n",
       "       [ 8,  6,  6,  8,  7,  6,  6,  5,  7,  7],\n",
       "       [ 8,  6,  6,  8,  7,  7,  7,  6,  7,  8],\n",
       "       [ 8,  7,  7,  8,  9,  8,  8,  6,  8,  9],\n",
       "       [ 9,  7,  7,  9,  9,  8,  8,  8,  9,  9],\n",
       "       [ 9,  8,  8,  9, 10,  9,  8,  8,  9,  9],\n",
       "       [ 9,  8,  9,  9, 10, 10,  8,  8, 10, 10],\n",
       "       [ 9, 10,  9,  9, 10, 10,  9, 10, 10, 10],\n",
       "       [10, 10, 10, 10, 10, 10,  9, 10, 10, 10]])"
      ]
     },
     "execution_count": 454,
     "metadata": {},
     "output_type": "execute_result"
    }
   ],
   "source": [
    "sorted_data"
   ]
  },
  {
   "cell_type": "code",
   "execution_count": null,
   "metadata": {},
   "outputs": [],
   "source": [
    "sect_range=[ki[sect_egT[i][0]:sect_egT[i][1]]  for i in range(0,len(sect_egT))]\n",
    "sect_range"
   ]
  },
  {
   "cell_type": "code",
   "execution_count": 373,
   "metadata": {},
   "outputs": [
    {
     "data": {
      "text/plain": [
       "array([0, 6])"
      ]
     },
     "execution_count": 373,
     "metadata": {},
     "output_type": "execute_result"
    }
   ],
   "source": [
    "g3[0]"
   ]
  },
  {
   "cell_type": "code",
   "execution_count": 325,
   "metadata": {},
   "outputs": [
    {
     "data": {
      "text/plain": [
       "array([ 0,  5, 11, 16, 21, 28, 38, 43, 50])"
      ]
     },
     "execution_count": 325,
     "metadata": {},
     "output_type": "execute_result"
    }
   ],
   "source": [
    "sect_id[0:-1]"
   ]
  },
  {
   "cell_type": "code",
   "execution_count": 333,
   "metadata": {},
   "outputs": [
    {
     "data": {
      "text/plain": [
       "array([0, 0, 1, 2, 3, 4, 5, 6, 7])"
      ]
     },
     "execution_count": 333,
     "metadata": {},
     "output_type": "execute_result"
    }
   ],
   "source": [
    "kj[sect_id[0:-1]]"
   ]
  },
  {
   "cell_type": "code",
   "execution_count": 327,
   "metadata": {},
   "outputs": [
    {
     "data": {
      "text/plain": [
       "(array([ 5, 11, 16, 21, 28, 38, 43, 50]),)"
      ]
     },
     "execution_count": 327,
     "metadata": {},
     "output_type": "execute_result"
    }
   ],
   "source": [
    "bodyK"
   ]
  },
  {
   "cell_type": "code",
   "execution_count": 331,
   "metadata": {},
   "outputs": [
    {
     "data": {
      "text/plain": [
       "array([[ 4, 10, 15, 20, 27, 37, 42, 49]])"
      ]
     },
     "execution_count": 331,
     "metadata": {},
     "output_type": "execute_result"
    }
   ],
   "source": [
    "bodyK-np.array([[1]])"
   ]
  },
  {
   "cell_type": "code",
   "execution_count": 388,
   "metadata": {},
   "outputs": [
    {
     "ename": "NameError",
     "evalue": "name 'setN' is not defined",
     "output_type": "error",
     "traceback": [
      "\u001b[0;31m---------------------------------------------------------------------------\u001b[0m",
      "\u001b[0;31mNameError\u001b[0m                                 Traceback (most recent call last)",
      "\u001b[0;32m/var/folders/mg/w5t8lkhc8xj79f001s7kzpfh0000gp/T/ipykernel_46672/466309160.py\u001b[0m in \u001b[0;36m<module>\u001b[0;34m\u001b[0m\n\u001b[0;32m----> 1\u001b[0;31m \u001b[0msetN\u001b[0m\u001b[0;34m\u001b[0m\u001b[0;34m\u001b[0m\u001b[0m\n\u001b[0m",
      "\u001b[0;31mNameError\u001b[0m: name 'setN' is not defined"
     ]
    }
   ],
   "source": [
    "setN"
   ]
  },
  {
   "cell_type": "code",
   "execution_count": null,
   "metadata": {},
   "outputs": [],
   "source": []
  }
 ],
 "metadata": {
  "kernelspec": {
   "display_name": "Python 3 (ipykernel)",
   "language": "python",
   "name": "python3"
  },
  "language_info": {
   "codemirror_mode": {
    "name": "ipython",
    "version": 3
   },
   "file_extension": ".py",
   "mimetype": "text/x-python",
   "name": "python",
   "nbconvert_exporter": "python",
   "pygments_lexer": "ipython3",
   "version": "3.9.18"
  }
 },
 "nbformat": 4,
 "nbformat_minor": 2
}
