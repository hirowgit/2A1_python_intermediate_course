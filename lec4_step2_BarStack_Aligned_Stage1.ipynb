{
 "cells": [
  {
   "cell_type": "code",
   "execution_count": null,
   "id": "55959a40",
   "metadata": {},
   "outputs": [],
   "source": [
    "## Python basics for novice data scientists, supported by Wagatsuma Lab@Kyutech \n",
    "#\n",
    "# The MIT License (MIT): Copyright (c) 2020 Hiroaki Wagatsuma and Wagatsuma Lab@Kyutech\n",
    "# \n",
    "# Permission is hereby granted, free of charge, to any person obtaining a copy of this software and associated documentation files (the \"Software\"), to deal in the Software without restriction, including without limitation the rights to use, copy, modify, merge, publish, distribute, sublicense, and/or sell copies of the Software, and to permit persons to whom the Software is furnished to do so, subject to the following conditions:\n",
    "# The above copyright notice and this permission notice shall be included in all copies or substantial portions of the Software.\n",
    "# THE SOFTWARE IS PROVIDED \"AS IS\", WITHOUT WARRANTY OF ANY KIND, EXPRESS OR IMPLIED, INCLUDING BUT NOT LIMITED TO THE WARRANTIES OF MERCHANTABILITY, FITNESS FOR A PARTICULAR PURPOSE AND NONINFRINGEMENT. IN NO EVENT SHALL THE AUTHORS OR COPYRIGHT HOLDERS BE LIABLE FOR ANY CLAIM, DAMAGES OR OTHER LIABILITY, WHETHER IN AN ACTION OF CONTRACT, TORT OR OTHERWISE, ARISING FROM, OUT OF OR IN CONNECTION WITH THE SOFTWARE OR THE USE OR OTHER DEALINGS IN THE SOFTWARE. */\n",
    "#\n",
    "# # @Time    : 2020-11-30 \n",
    "# # @Author  : Hiroaki Wagatsuma\n",
    "# # @Site    : https://github.com/hirowgit/2A1_python_intermediate_course\n",
    "# # @IDE     : Python 3.9.14 (main, Sep  6 2022, 23:29:09) [Clang 13.1.6 (clang-1316.0.21.2.5)] on darwin\n",
    "# # @File    : lec4_step2_BarStack_Aligned_Stage1.py \n"
   ]
  },
  {
   "cell_type": "code",
   "execution_count": 1,
   "id": "magnetic-packaging",
   "metadata": {
    "scrolled": true
   },
   "outputs": [
    {
     "name": "stdout",
     "output_type": "stream",
     "text": [
      "0\n",
      "0.9\n",
      "1\n",
      "0.6\n",
      "2\n",
      "0.5\n",
      "3\n",
      "0.5\n",
      "4\n",
      "0.5\n",
      "5\n",
      "0.9\n",
      "6\n",
      "0.4\n",
      "7\n",
      "0.3\n",
      "8\n",
      "0.8\n",
      "9\n",
      "0.4\n",
      "10\n",
      "0.2\n"
     ]
    }
   ],
   "source": [
    "import numpy as np\n",
    "#prFill=[90    60    50    50    50    90    40    30    80    40  20 ]/100;\n",
    "prFill=np.array([90, 60, 50, 50, 50, 90, 40, 30, 80, 40, 20])\n",
    "prFill=prFill/100\n",
    "fillLine=np.full(len(prFill),True)\n",
    "LineT=[]\n",
    "k=1\n",
    "for i in range(len(prFill)):\n",
    "    print(i)\n",
    "    print(prFill[i])\n",
    "  "
   ]
  },
  {
   "cell_type": "code",
   "execution_count": null,
   "id": "36344fc8",
   "metadata": {},
   "outputs": [],
   "source": []
  },
  {
   "cell_type": "code",
   "execution_count": 1,
   "id": "fce30df1",
   "metadata": {
    "scrolled": false
   },
   "outputs": [
    {
     "data": {
      "text/plain": [
       "1"
      ]
     },
     "execution_count": 1,
     "metadata": {},
     "output_type": "execute_result"
    }
   ],
   "source": [
    "1"
   ]
  },
  {
   "cell_type": "code",
   "execution_count": 9,
   "id": "dutch-mobile",
   "metadata": {},
   "outputs": [
    {
     "name": "stdout",
     "output_type": "stream",
     "text": [
      "0\n",
      "1\n",
      "2\n",
      "3\n",
      "4\n",
      "5\n",
      "6\n",
      "7\n",
      "8\n"
     ]
    }
   ],
   "source": [
    "import numpy as np\n",
    "#prFill=[90    60    50    50    50    90    40    30    80    40  20 ]/100;\n",
    "prFill=np.array([90, 60, 50, 50, 50, 90, 40, 30, 80, 40, 20])\n",
    "prFill=prFill/100\n",
    "fillLine=np.full(len(prFill),True)\n",
    "LineT=[]\n",
    "k=0\n",
    "for i in range(len(prFill)):\n",
    "    if fillLine[i]:\n",
    "        remF=1-prFill[i]\n",
    "        IDrem=np.where((prFill[i+1:-1]<=remF) & fillLine[i+1:-1])\n",
    "        tmp=i\n",
    "        fID=i\n",
    "        j=0\n",
    "        while IDrem[0].size > 0:\n",
    "            fID=IDrem[0][0]+fID\n",
    "            tmp=np.append(tmp,fID)\n",
    "            remF=remF-prFill[IDrem[j][0]+i]\n",
    "            IDrem=np.where((prFill[fID+1:-1]<=remF) & fillLine[fID+1:-1])\n",
    "        LineT.append(tmp)\n",
    "        fillLine[tmp]=False\n",
    "        print(k)\n",
    "        k=k+1\n",
    "        \n",
    "        \n"
   ]
  },
  {
   "cell_type": "code",
   "execution_count": null,
   "id": "083f27eb",
   "metadata": {},
   "outputs": [],
   "source": []
  },
  {
   "cell_type": "code",
   "execution_count": null,
   "id": "68e51216",
   "metadata": {},
   "outputs": [],
   "source": []
  },
  {
   "cell_type": "code",
   "execution_count": null,
   "id": "53b3f297",
   "metadata": {},
   "outputs": [],
   "source": []
  },
  {
   "cell_type": "code",
   "execution_count": 118,
   "id": "northern-coalition",
   "metadata": {},
   "outputs": [],
   "source": [
    "prFill=np.array([90, 60, 50, 50, 50, 90, 40, 30, 80, 40, 20])\n",
    "prFill=prFill/100\n",
    "fillLine=np.full(len(prFill),True)\n",
    "LineT=[]\n",
    "k=1"
   ]
  },
  {
   "cell_type": "code",
   "execution_count": 119,
   "id": "frozen-seating",
   "metadata": {},
   "outputs": [
    {
     "data": {
      "text/plain": [
       "True"
      ]
     },
     "execution_count": 119,
     "metadata": {},
     "output_type": "execute_result"
    }
   ],
   "source": [
    "i=0\n",
    "fillLine[i]"
   ]
  },
  {
   "cell_type": "code",
   "execution_count": 20,
   "id": "bright-cursor",
   "metadata": {},
   "outputs": [
    {
     "name": "stdout",
     "output_type": "stream",
     "text": [
      "0.09999999999999998\n",
      "(array([], dtype=int64),)\n"
     ]
    },
    {
     "data": {
      "text/plain": [
       "0"
      ]
     },
     "execution_count": 20,
     "metadata": {},
     "output_type": "execute_result"
    }
   ],
   "source": [
    "remF=1-prFill[i]\n",
    "print(remF)\n",
    "IDrem=np.where((prFill[i+1:-1]<=remF) & fillLine[i+1:-1])\n",
    "print(IDrem)\n",
    "tmp=i\n",
    "fID=i\n",
    "j=0\n",
    "i"
   ]
  },
  {
   "cell_type": "code",
   "execution_count": 15,
   "id": "economic-employee",
   "metadata": {},
   "outputs": [
    {
     "name": "stdout",
     "output_type": "stream",
     "text": [
      "0.8\n",
      "[0.6 0.5 0.5 0.5 0.9 0.4 0.3 0.8 0.4]\n",
      "(array([], dtype=int64),)\n",
      "1\n",
      "IDrem is NOT empty\n",
      "[]\n"
     ]
    }
   ],
   "source": [
    "i=0\n",
    "print(remF)\n",
    "print(prFill[1:-1])\n",
    "np.where(prFill[i+1:-1]<=remF)\n",
    "IDrem=np.where((prFill[fID+1:-1]<=remF) & fillLine[fID+1:-1])\n",
    "print(IDrem)\n",
    "print(len(IDrem))\n",
    "if IDrem:\n",
    "    print('IDrem is NOT empty')\n",
    "else:\n",
    "    print('IDrem is empty')\n",
    "np.array(IDrem)\n",
    "print(IDrem[0])"
   ]
  },
  {
   "cell_type": "code",
   "execution_count": 2,
   "id": "arctic-executive",
   "metadata": {},
   "outputs": [
    {
     "ename": "NameError",
     "evalue": "name 'IDrem' is not defined",
     "output_type": "error",
     "traceback": [
      "\u001b[0;31m---------------------------------------------------------------------------\u001b[0m",
      "\u001b[0;31mNameError\u001b[0m                                 Traceback (most recent call last)",
      "\u001b[0;32m/var/folders/mg/w5t8lkhc8xj79f001s7kzpfh0000gp/T/ipykernel_26401/3945485694.py\u001b[0m in \u001b[0;36m<module>\u001b[0;34m\u001b[0m\n\u001b[0;32m----> 1\u001b[0;31m \u001b[0;32mif\u001b[0m \u001b[0mIDrem\u001b[0m\u001b[0;34m[\u001b[0m\u001b[0;36m0\u001b[0m\u001b[0;34m]\u001b[0m\u001b[0;34m:\u001b[0m\u001b[0;34m\u001b[0m\u001b[0;34m\u001b[0m\u001b[0m\n\u001b[0m\u001b[1;32m      2\u001b[0m     \u001b[0mprint\u001b[0m\u001b[0;34m(\u001b[0m\u001b[0;34m'IDrem is NOT empty'\u001b[0m\u001b[0;34m)\u001b[0m\u001b[0;34m\u001b[0m\u001b[0;34m\u001b[0m\u001b[0m\n\u001b[1;32m      3\u001b[0m \u001b[0;32melse\u001b[0m\u001b[0;34m:\u001b[0m\u001b[0;34m\u001b[0m\u001b[0;34m\u001b[0m\u001b[0m\n\u001b[1;32m      4\u001b[0m     \u001b[0mprint\u001b[0m\u001b[0;34m(\u001b[0m\u001b[0;34m'IDrem is empty'\u001b[0m\u001b[0;34m)\u001b[0m\u001b[0;34m\u001b[0m\u001b[0;34m\u001b[0m\u001b[0m\n\u001b[1;32m      5\u001b[0m \u001b[0mprint\u001b[0m\u001b[0;34m(\u001b[0m\u001b[0mIDrem\u001b[0m\u001b[0;34m[\u001b[0m\u001b[0;36m0\u001b[0m\u001b[0;34m]\u001b[0m\u001b[0;34m)\u001b[0m\u001b[0;34m\u001b[0m\u001b[0;34m\u001b[0m\u001b[0m\n",
      "\u001b[0;31mNameError\u001b[0m: name 'IDrem' is not defined"
     ]
    }
   ],
   "source": [
    "if IDrem[0]:\n",
    "    print('IDrem is NOT empty')\n",
    "else:\n",
    "    print('IDrem is empty')\n",
    "print(IDrem[0])"
   ]
  },
  {
   "cell_type": "code",
   "execution_count": 116,
   "id": "discrete-senior",
   "metadata": {},
   "outputs": [
    {
     "data": {
      "text/plain": [
       "[0]"
      ]
     },
     "execution_count": 116,
     "metadata": {},
     "output_type": "execute_result"
    }
   ],
   "source": [
    "LineT"
   ]
  },
  {
   "cell_type": "code",
   "execution_count": 117,
   "id": "young-mills",
   "metadata": {},
   "outputs": [
    {
     "data": {
      "text/plain": [
       "1"
      ]
     },
     "execution_count": 117,
     "metadata": {},
     "output_type": "execute_result"
    }
   ],
   "source": [
    "k"
   ]
  },
  {
   "cell_type": "code",
   "execution_count": 131,
   "id": "confident-watch",
   "metadata": {},
   "outputs": [
    {
     "ename": "ValueError",
     "evalue": "operands could not be broadcast together with shapes (4,) (3,) ",
     "output_type": "error",
     "traceback": [
      "\u001b[0;31m---------------------------------------------------------------------------\u001b[0m",
      "\u001b[0;31mValueError\u001b[0m                                Traceback (most recent call last)",
      "\u001b[0;32m<ipython-input-131-769d5665eeb7>\u001b[0m in \u001b[0;36m<module>\u001b[0;34m\u001b[0m\n\u001b[0;32m----> 1\u001b[0;31m \u001b[0mnp\u001b[0m\u001b[0;34m.\u001b[0m\u001b[0mwhere\u001b[0m\u001b[0;34m(\u001b[0m\u001b[0;34m(\u001b[0m\u001b[0mprFill\u001b[0m\u001b[0;34m[\u001b[0m\u001b[0mfID\u001b[0m\u001b[0;34m+\u001b[0m\u001b[0;36m1\u001b[0m\u001b[0;34m:\u001b[0m\u001b[0;34m-\u001b[0m\u001b[0;36m1\u001b[0m\u001b[0;34m]\u001b[0m\u001b[0;34m<=\u001b[0m\u001b[0mremF\u001b[0m\u001b[0;34m)\u001b[0m \u001b[0;34m&\u001b[0m \u001b[0mfillLine\u001b[0m\u001b[0;34m[\u001b[0m\u001b[0mfID\u001b[0m\u001b[0;34m+\u001b[0m\u001b[0;36m1\u001b[0m\u001b[0;34m:\u001b[0m\u001b[0;34m-\u001b[0m\u001b[0;36m1\u001b[0m\u001b[0;34m]\u001b[0m\u001b[0;34m)\u001b[0m\u001b[0;34m\u001b[0m\u001b[0;34m\u001b[0m\u001b[0m\n\u001b[0m",
      "\u001b[0;31mValueError\u001b[0m: operands could not be broadcast together with shapes (4,) (3,) "
     ]
    }
   ],
   "source": [
    "np.where((prFill[fID+1:-1]<=remF) & fillLine[fID+1:-1])"
   ]
  },
  {
   "cell_type": "code",
   "execution_count": 130,
   "id": "super-tissue",
   "metadata": {},
   "outputs": [
    {
     "data": {
      "text/plain": [
       "5"
      ]
     },
     "execution_count": 130,
     "metadata": {},
     "output_type": "execute_result"
    }
   ],
   "source": [
    "fID"
   ]
  },
  {
   "cell_type": "code",
   "execution_count": 128,
   "id": "charming-mechanics",
   "metadata": {},
   "outputs": [
    {
     "data": {
      "text/plain": [
       "4"
      ]
     },
     "execution_count": 128,
     "metadata": {},
     "output_type": "execute_result"
    }
   ],
   "source": [
    "IDrem[0][0]"
   ]
  },
  {
   "cell_type": "code",
   "execution_count": 132,
   "id": "welsh-poverty",
   "metadata": {},
   "outputs": [
    {
     "data": {
      "text/plain": [
       "array([0.4, 0.3, 0.8, 0.4])"
      ]
     },
     "execution_count": 132,
     "metadata": {},
     "output_type": "execute_result"
    }
   ],
   "source": [
    "prFill[fID+1:-1]"
   ]
  },
  {
   "cell_type": "code",
   "execution_count": 133,
   "id": "obvious-break",
   "metadata": {},
   "outputs": [
    {
     "data": {
      "text/plain": [
       "array([ True,  True,  True,  True])"
      ]
     },
     "execution_count": 133,
     "metadata": {},
     "output_type": "execute_result"
    }
   ],
   "source": [
    "fillLine[fID+1:-1]"
   ]
  },
  {
   "cell_type": "code",
   "execution_count": 134,
   "id": "blessed-search",
   "metadata": {},
   "outputs": [
    {
     "ename": "ValueError",
     "evalue": "operands could not be broadcast together with shapes (4,) (3,) ",
     "output_type": "error",
     "traceback": [
      "\u001b[0;31m---------------------------------------------------------------------------\u001b[0m",
      "\u001b[0;31mValueError\u001b[0m                                Traceback (most recent call last)",
      "\u001b[0;32m<ipython-input-134-c7e1a02de47f>\u001b[0m in \u001b[0;36m<module>\u001b[0;34m\u001b[0m\n\u001b[0;32m----> 1\u001b[0;31m \u001b[0mnp\u001b[0m\u001b[0;34m.\u001b[0m\u001b[0mwhere\u001b[0m\u001b[0;34m(\u001b[0m\u001b[0;34m(\u001b[0m\u001b[0mprFill\u001b[0m\u001b[0;34m[\u001b[0m\u001b[0mfID\u001b[0m\u001b[0;34m+\u001b[0m\u001b[0;36m1\u001b[0m\u001b[0;34m:\u001b[0m\u001b[0;34m-\u001b[0m\u001b[0;36m1\u001b[0m\u001b[0;34m]\u001b[0m\u001b[0;34m<=\u001b[0m\u001b[0mremF\u001b[0m\u001b[0;34m)\u001b[0m \u001b[0;34m)\u001b[0m\u001b[0;34m\u001b[0m\u001b[0;34m\u001b[0m\u001b[0m\n\u001b[0m",
      "\u001b[0;31mValueError\u001b[0m: operands could not be broadcast together with shapes (4,) (3,) "
     ]
    }
   ],
   "source": [
    "np.where((prFill[fID+1:-1]<=remF) )"
   ]
  },
  {
   "cell_type": "code",
   "execution_count": 135,
   "id": "challenging-bathroom",
   "metadata": {},
   "outputs": [
    {
     "data": {
      "text/plain": [
       "array([-0.5,  0. , -0.4])"
      ]
     },
     "execution_count": 135,
     "metadata": {},
     "output_type": "execute_result"
    }
   ],
   "source": [
    "remF"
   ]
  },
  {
   "cell_type": "code",
   "execution_count": 136,
   "id": "virgin-disability",
   "metadata": {},
   "outputs": [
    {
     "data": {
      "text/plain": [
       "array([4, 5, 7])"
      ]
     },
     "execution_count": 136,
     "metadata": {},
     "output_type": "execute_result"
    }
   ],
   "source": [
    "IDrem[j]"
   ]
  },
  {
   "cell_type": "code",
   "execution_count": 137,
   "id": "second-campaign",
   "metadata": {},
   "outputs": [
    {
     "data": {
      "text/plain": [
       "4"
      ]
     },
     "execution_count": 137,
     "metadata": {},
     "output_type": "execute_result"
    }
   ],
   "source": [
    "IDrem[j][0]"
   ]
  },
  {
   "cell_type": "code",
   "execution_count": 139,
   "id": "abroad-bacteria",
   "metadata": {},
   "outputs": [
    {
     "data": {
      "text/plain": [
       "[0,\n",
       " array([1, 5]),\n",
       " array([2, 2]),\n",
       " array([3, 3]),\n",
       " array([4, 5]),\n",
       " array([6, 6]),\n",
       " array([7, 8]),\n",
       " 9,\n",
       " 10]"
      ]
     },
     "execution_count": 139,
     "metadata": {},
     "output_type": "execute_result"
    }
   ],
   "source": [
    "LineT"
   ]
  },
  {
   "cell_type": "code",
   "execution_count": null,
   "id": "solar-theory",
   "metadata": {},
   "outputs": [],
   "source": []
  },
  {
   "cell_type": "code",
   "execution_count": null,
   "id": "minor-trial",
   "metadata": {},
   "outputs": [],
   "source": []
  }
 ],
 "metadata": {
  "kernelspec": {
   "display_name": "Python 3 (ipykernel)",
   "language": "python",
   "name": "python3"
  },
  "language_info": {
   "codemirror_mode": {
    "name": "ipython",
    "version": 3
   },
   "file_extension": ".py",
   "mimetype": "text/x-python",
   "name": "python",
   "nbconvert_exporter": "python",
   "pygments_lexer": "ipython3",
   "version": "3.9.14"
  }
 },
 "nbformat": 4,
 "nbformat_minor": 5
}
