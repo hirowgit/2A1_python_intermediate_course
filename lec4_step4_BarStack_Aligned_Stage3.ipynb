{
 "cells": [
  {
   "cell_type": "code",
   "execution_count": null,
   "id": "078b5b95",
   "metadata": {},
   "outputs": [],
   "source": [
    "## Python basics for novice data scientists, supported by Wagatsuma Lab@Kyutech \n",
    "#\n",
    "# The MIT License (MIT): Copyright (c) 2020 Hiroaki Wagatsuma and Wagatsuma Lab@Kyutech\n",
    "# \n",
    "# Permission is hereby granted, free of charge, to any person obtaining a copy of this software and associated documentation files (the \"Software\"), to deal in the Software without restriction, including without limitation the rights to use, copy, modify, merge, publish, distribute, sublicense, and/or sell copies of the Software, and to permit persons to whom the Software is furnished to do so, subject to the following conditions:\n",
    "# The above copyright notice and this permission notice shall be included in all copies or substantial portions of the Software.\n",
    "# THE SOFTWARE IS PROVIDED \"AS IS\", WITHOUT WARRANTY OF ANY KIND, EXPRESS OR IMPLIED, INCLUDING BUT NOT LIMITED TO THE WARRANTIES OF MERCHANTABILITY, FITNESS FOR A PARTICULAR PURPOSE AND NONINFRINGEMENT. IN NO EVENT SHALL THE AUTHORS OR COPYRIGHT HOLDERS BE LIABLE FOR ANY CLAIM, DAMAGES OR OTHER LIABILITY, WHETHER IN AN ACTION OF CONTRACT, TORT OR OTHERWISE, ARISING FROM, OUT OF OR IN CONNECTION WITH THE SOFTWARE OR THE USE OR OTHER DEALINGS IN THE SOFTWARE. */\n",
    "#\n",
    "# # @Time    : 2020-11-30 \n",
    "# # @Author  : Hiroaki Wagatsuma\n",
    "# # @Site    : https://github.com/hirowgit/2A1_python_intermediate_course\n",
    "# # @IDE     : Python 3.9.14 (main, Sep  6 2022, 23:29:09) [Clang 13.1.6 (clang-1316.0.21.2.5)] on darwin\n",
    "# # @File    : lec4_step4_BarStack_Aligned_Stage3.py \n"
   ]
  },
  {
   "cell_type": "code",
   "execution_count": 1,
   "id": "infinite-language",
   "metadata": {},
   "outputs": [
    {
     "name": "stdout",
     "output_type": "stream",
     "text": [
      "0\n",
      "[0]\n",
      "1\n",
      "1\n",
      "[0, array([1, 6])]\n",
      "2\n",
      "2\n",
      "[0, array([1, 6]), array([2, 3])]\n",
      "3\n"
     ]
    }
   ],
   "source": [
    "import numpy as np\n",
    "#prFill=[90    60    50    50    50    90    40    30    80    40  20 ]/100;\n",
    "prFill=np.array([90, 60, 50, 50, 50, 90, 40, 30, 80, 40, 20])\n",
    "prFill=prFill/100\n",
    "fillLine=np.full(len(prFill),True)\n",
    "LineT=[]\n",
    "k=0\n",
    "#for i in range(len(prFill)):\n",
    "#for i in range(5):\n",
    "for i in range(4):\n",
    "    if fillLine[i]:\n",
    "        remF=1-prFill[i]\n",
    "        IDrem=np.where((prFill[i+1:len(prFill)]<=remF) & fillLine[i+1:len(prFill)])\n",
    "        tmp=i\n",
    "        fID=i\n",
    "        j=0\n",
    "        while IDrem[0].size > 0:\n",
    "            fID=IDrem[0][0]+fID+1\n",
    "            tmp=np.append(tmp,fID)\n",
    "            remF=remF-prFill[fID]\n",
    "            IDrem=np.where((prFill[fID+1:len(prFill)]<=remF) & fillLine[fID+1:len(prFill)])\n",
    "        LineT.append(tmp)\n",
    "        fillLine[tmp]=False\n",
    "        print(k)\n",
    "        print(LineT)\n",
    "        k=k+1\n",
    "        print(k)\n",
    "        \n",
    "        \n"
   ]
  },
  {
   "cell_type": "code",
   "execution_count": null,
   "id": "forced-attention",
   "metadata": {},
   "outputs": [],
   "source": []
  },
  {
   "cell_type": "code",
   "execution_count": 181,
   "id": "legislative-conditioning",
   "metadata": {},
   "outputs": [
    {
     "data": {
      "text/plain": [
       "array([], dtype=float64)"
      ]
     },
     "execution_count": 181,
     "metadata": {},
     "output_type": "execute_result"
    }
   ],
   "source": [
    "prFill[0:1:len(prFill)]"
   ]
  },
  {
   "cell_type": "code",
   "execution_count": 230,
   "id": "current-privilege",
   "metadata": {},
   "outputs": [],
   "source": [
    "i=4"
   ]
  },
  {
   "cell_type": "code",
   "execution_count": 231,
   "id": "experimental-elizabeth",
   "metadata": {},
   "outputs": [],
   "source": [
    "remF=1-prFill[i]\n",
    "IDrem=np.where((prFill[i+1:len(prFill)]<=remF) & fillLine[i+1:len(prFill)])\n",
    "tmp=i\n",
    "fID=i"
   ]
  },
  {
   "cell_type": "code",
   "execution_count": 197,
   "id": "nonprofit-split",
   "metadata": {},
   "outputs": [
    {
     "data": {
      "text/plain": [
       "0.5"
      ]
     },
     "execution_count": 197,
     "metadata": {},
     "output_type": "execute_result"
    }
   ],
   "source": [
    "remF"
   ]
  },
  {
   "cell_type": "code",
   "execution_count": 198,
   "id": "metallic-indie",
   "metadata": {},
   "outputs": [
    {
     "data": {
      "text/plain": [
       "(array([2, 4, 5]),)"
      ]
     },
     "execution_count": 198,
     "metadata": {},
     "output_type": "execute_result"
    }
   ],
   "source": [
    "IDrem"
   ]
  },
  {
   "cell_type": "code",
   "execution_count": 200,
   "id": "geological-novelty",
   "metadata": {},
   "outputs": [
    {
     "data": {
      "text/plain": [
       "2"
      ]
     },
     "execution_count": 200,
     "metadata": {},
     "output_type": "execute_result"
    }
   ],
   "source": [
    "IDrem[0][0]"
   ]
  },
  {
   "cell_type": "code",
   "execution_count": 201,
   "id": "alike-cargo",
   "metadata": {},
   "outputs": [
    {
     "data": {
      "text/plain": [
       "4"
      ]
     },
     "execution_count": 201,
     "metadata": {},
     "output_type": "execute_result"
    }
   ],
   "source": [
    "fID"
   ]
  },
  {
   "cell_type": "code",
   "execution_count": 220,
   "id": "indoor-dating",
   "metadata": {},
   "outputs": [
    {
     "data": {
      "text/plain": [
       "7"
      ]
     },
     "execution_count": 220,
     "metadata": {},
     "output_type": "execute_result"
    }
   ],
   "source": [
    "IDrem[0][0]+fID+1"
   ]
  },
  {
   "cell_type": "code",
   "execution_count": 214,
   "id": "working-mining",
   "metadata": {},
   "outputs": [
    {
     "data": {
      "text/plain": [
       "0"
      ]
     },
     "execution_count": 214,
     "metadata": {},
     "output_type": "execute_result"
    }
   ],
   "source": [
    "j"
   ]
  },
  {
   "cell_type": "code",
   "execution_count": 215,
   "id": "adverse-niagara",
   "metadata": {},
   "outputs": [
    {
     "data": {
      "text/plain": [
       "4"
      ]
     },
     "execution_count": 215,
     "metadata": {},
     "output_type": "execute_result"
    }
   ],
   "source": [
    "i"
   ]
  },
  {
   "cell_type": "code",
   "execution_count": null,
   "id": "liberal-apparatus",
   "metadata": {},
   "outputs": [],
   "source": []
  },
  {
   "cell_type": "code",
   "execution_count": 232,
   "id": "accessible-stadium",
   "metadata": {},
   "outputs": [
    {
     "name": "stdout",
     "output_type": "stream",
     "text": [
      "7\n",
      "[4 7]\n"
     ]
    }
   ],
   "source": [
    "fID=IDrem[0][0]+fID+1\n",
    "print(fID)\n",
    "tmp=np.append(tmp,fID)\n",
    "print(tmp)\n"
   ]
  },
  {
   "cell_type": "code",
   "execution_count": 233,
   "id": "natural-corporation",
   "metadata": {},
   "outputs": [
    {
     "data": {
      "text/plain": [
       "0.4"
      ]
     },
     "execution_count": 233,
     "metadata": {},
     "output_type": "execute_result"
    }
   ],
   "source": [
    "prFill[IDrem[j][0]+i]"
   ]
  },
  {
   "cell_type": "code",
   "execution_count": 216,
   "id": "equipped-bradley",
   "metadata": {},
   "outputs": [
    {
     "data": {
      "text/plain": [
       "2"
      ]
     },
     "execution_count": 216,
     "metadata": {},
     "output_type": "execute_result"
    }
   ],
   "source": [
    "IDrem[j][0]"
   ]
  },
  {
   "cell_type": "code",
   "execution_count": 234,
   "id": "initial-direction",
   "metadata": {},
   "outputs": [
    {
     "name": "stdout",
     "output_type": "stream",
     "text": [
      "(array([2]),)\n"
     ]
    }
   ],
   "source": [
    "prFill[fID]\n",
    "remF=remF-prFill[fID]\n",
    "IDrem=np.where((prFill[fID+1:len(prFill)]<=remF) & fillLine[fID+1:len(prFill)])\n",
    "print(IDrem)"
   ]
  },
  {
   "cell_type": "code",
   "execution_count": 235,
   "id": "scenic-isolation",
   "metadata": {},
   "outputs": [
    {
     "name": "stdout",
     "output_type": "stream",
     "text": [
      "10\n",
      "[ 4  7 10]\n"
     ]
    }
   ],
   "source": [
    "fID=IDrem[0][0]+fID+1\n",
    "print(fID)\n",
    "tmp=np.append(tmp,fID)\n",
    "print(tmp)\n"
   ]
  },
  {
   "cell_type": "code",
   "execution_count": 221,
   "id": "tired-surname",
   "metadata": {},
   "outputs": [
    {
     "name": "stdout",
     "output_type": "stream",
     "text": [
      "0.0\n",
      "(array([], dtype=int64),)\n"
     ]
    }
   ],
   "source": [
    "prFill[fID]\n",
    "remF=remF-prFill[fID]\n",
    "IDrem=np.where((prFill[fID+1:len(prFill)]<=remF) & fillLine[fID+1:len(prFill)])\n",
    "print(IDrem)"
   ]
  },
  {
   "cell_type": "code",
   "execution_count": 191,
   "id": "particular-kitchen",
   "metadata": {},
   "outputs": [],
   "source": [
    "fID=IDrem[0][0]+fID+1"
   ]
  },
  {
   "cell_type": "code",
   "execution_count": 172,
   "id": "nominated-archive",
   "metadata": {},
   "outputs": [
    {
     "data": {
      "text/plain": [
       "array([0.6, 0.5, 0.5, 0.5, 0.9, 0.4, 0.3, 0.8, 0.4])"
      ]
     },
     "execution_count": 172,
     "metadata": {},
     "output_type": "execute_result"
    }
   ],
   "source": [
    "prFill[1:-1]"
   ]
  },
  {
   "cell_type": "code",
   "execution_count": 174,
   "id": "mental-digit",
   "metadata": {},
   "outputs": [
    {
     "data": {
      "text/plain": [
       "7"
      ]
     },
     "execution_count": 174,
     "metadata": {},
     "output_type": "execute_result"
    }
   ],
   "source": [
    "len(prFill[fID+1:len(prFill)])"
   ]
  },
  {
   "cell_type": "code",
   "execution_count": 176,
   "id": "endangered-buffer",
   "metadata": {},
   "outputs": [
    {
     "data": {
      "text/plain": [
       "array([ True,  True, False,  True,  True,  True,  True])"
      ]
     },
     "execution_count": 176,
     "metadata": {},
     "output_type": "execute_result"
    }
   ],
   "source": [
    " fillLine[fID+1:len(prFill)]"
   ]
  },
  {
   "cell_type": "code",
   "execution_count": 171,
   "id": "overall-analyst",
   "metadata": {},
   "outputs": [
    {
     "data": {
      "text/plain": [
       "array([0.5, 0.9, 0.4, 0.3, 0.8, 0.4])"
      ]
     },
     "execution_count": 171,
     "metadata": {},
     "output_type": "execute_result"
    }
   ],
   "source": [
    "prFill[fID+1:-1]"
   ]
  },
  {
   "cell_type": "code",
   "execution_count": 152,
   "id": "little-polymer",
   "metadata": {},
   "outputs": [],
   "source": [
    "i=4"
   ]
  },
  {
   "cell_type": "code",
   "execution_count": 158,
   "id": "otherwise-trunk",
   "metadata": {},
   "outputs": [
    {
     "name": "stdout",
     "output_type": "stream",
     "text": [
      "0.5\n"
     ]
    }
   ],
   "source": [
    "remF=1-prFill[i]\n",
    "print(remF)"
   ]
  },
  {
   "cell_type": "code",
   "execution_count": 159,
   "id": "precise-portugal",
   "metadata": {},
   "outputs": [
    {
     "data": {
      "text/plain": [
       "array([0.9, 0.4, 0.3, 0.8, 0.4])"
      ]
     },
     "execution_count": 159,
     "metadata": {},
     "output_type": "execute_result"
    }
   ],
   "source": [
    "prFill[i+1:-1]"
   ]
  },
  {
   "cell_type": "code",
   "execution_count": 160,
   "id": "stupid-relief",
   "metadata": {},
   "outputs": [
    {
     "data": {
      "text/plain": [
       "array([ True,  True, False,  True,  True,  True])"
      ]
     },
     "execution_count": 160,
     "metadata": {},
     "output_type": "execute_result"
    }
   ],
   "source": [
    "fillLine[fID+1:-1]"
   ]
  },
  {
   "cell_type": "code",
   "execution_count": null,
   "id": "accomplished-profit",
   "metadata": {},
   "outputs": [],
   "source": []
  },
  {
   "cell_type": "code",
   "execution_count": 154,
   "id": "atlantic-disaster",
   "metadata": {},
   "outputs": [
    {
     "data": {
      "text/plain": [
       "array([0.9, 0.6, 0.5, 0.5, 0.5, 0.9, 0.4, 0.3, 0.8, 0.4, 0.2])"
      ]
     },
     "execution_count": 154,
     "metadata": {},
     "output_type": "execute_result"
    }
   ],
   "source": [
    "prFill"
   ]
  },
  {
   "cell_type": "code",
   "execution_count": 149,
   "id": "suspected-serial",
   "metadata": {},
   "outputs": [
    {
     "name": "stdout",
     "output_type": "stream",
     "text": [
      "7\n",
      "[4 7]\n",
      "0.09999999999999998\n",
      "(array([], dtype=int64),)\n"
     ]
    }
   ],
   "source": [
    "fID=IDrem[0][0]+fID+1\n",
    "print(fID)\n",
    "tmp=np.append(tmp,fID)\n",
    "print(tmp)\n",
    "remF=remF-prFill[IDrem[j][0]+i]\n",
    "print(remF)\n",
    "IDrem=np.where((prFill[fID+1:-1]<=remF) & fillLine[fID+1:-1])\n",
    "print(IDrem)"
   ]
  },
  {
   "cell_type": "code",
   "execution_count": 146,
   "id": "proprietary-practitioner",
   "metadata": {},
   "outputs": [
    {
     "name": "stdout",
     "output_type": "stream",
     "text": [
      "(array([2, 4]),)\n"
     ]
    }
   ],
   "source": [
    "remF=1-prFill[i]\n",
    "IDrem=np.where((prFill[i+1:-1]<=remF) & fillLine[i+1:-1])\n",
    "print(IDrem)\n",
    "tmp=i\n",
    "fID=i\n",
    "j=0"
   ]
  },
  {
   "cell_type": "code",
   "execution_count": 131,
   "id": "enormous-apollo",
   "metadata": {},
   "outputs": [
    {
     "name": "stdout",
     "output_type": "stream",
     "text": [
      "5\n"
     ]
    }
   ],
   "source": [
    "fID=IDrem[0][0]+fID+1\n",
    "print(fID)"
   ]
  },
  {
   "cell_type": "code",
   "execution_count": 133,
   "id": "cosmetic-vehicle",
   "metadata": {},
   "outputs": [],
   "source": [
    "tmp=np.append(tmp,fID)\n",
    "remF=remF-prFill[IDrem[j][0]+i]"
   ]
  },
  {
   "cell_type": "code",
   "execution_count": 134,
   "id": "silent-morris",
   "metadata": {},
   "outputs": [
    {
     "data": {
      "text/plain": [
       "0.0"
      ]
     },
     "execution_count": 134,
     "metadata": {},
     "output_type": "execute_result"
    }
   ],
   "source": [
    "remF\n"
   ]
  },
  {
   "cell_type": "code",
   "execution_count": 118,
   "id": "stuffed-modern",
   "metadata": {},
   "outputs": [
    {
     "data": {
      "text/plain": [
       "0.5"
      ]
     },
     "execution_count": 118,
     "metadata": {},
     "output_type": "execute_result"
    }
   ],
   "source": [
    "remF"
   ]
  },
  {
   "cell_type": "code",
   "execution_count": 112,
   "id": "provincial-complement",
   "metadata": {},
   "outputs": [
    {
     "data": {
      "text/plain": [
       "array([False, False, False, False,  True,  True, False,  True,  True,\n",
       "        True,  True])"
      ]
     },
     "execution_count": 112,
     "metadata": {},
     "output_type": "execute_result"
    }
   ],
   "source": [
    "fillLine"
   ]
  },
  {
   "cell_type": "code",
   "execution_count": 119,
   "id": "current-latvia",
   "metadata": {},
   "outputs": [
    {
     "data": {
      "text/plain": [
       "array([0.5, 0.9, 0.4, 0.3, 0.8, 0.4])"
      ]
     },
     "execution_count": 119,
     "metadata": {},
     "output_type": "execute_result"
    }
   ],
   "source": [
    "prFill[i+1:-1]"
   ]
  },
  {
   "cell_type": "code",
   "execution_count": 100,
   "id": "hairy-bryan",
   "metadata": {},
   "outputs": [
    {
     "name": "stdout",
     "output_type": "stream",
     "text": [
      "3\n"
     ]
    }
   ],
   "source": [
    "print(IDrem[0].size)"
   ]
  },
  {
   "cell_type": "code",
   "execution_count": 101,
   "id": "liable-prediction",
   "metadata": {},
   "outputs": [
    {
     "name": "stdout",
     "output_type": "stream",
     "text": [
      "4\n",
      "[3 4]\n"
     ]
    }
   ],
   "source": [
    "fID=IDrem[0][0]+fID+1\n",
    "print(fID)\n",
    "tmp=np.append(tmp,fID)\n",
    "print(tmp)\n"
   ]
  },
  {
   "cell_type": "code",
   "execution_count": 103,
   "id": "outdoor-trader",
   "metadata": {},
   "outputs": [
    {
     "name": "stdout",
     "output_type": "stream",
     "text": [
      "0.5\n",
      "0\n",
      "3\n",
      "0.5\n"
     ]
    }
   ],
   "source": [
    "print(remF)\n",
    "print(IDrem[j][0])\n",
    "print(i)\n",
    "print(prFill[IDrem[j][0]+i])"
   ]
  },
  {
   "cell_type": "code",
   "execution_count": 105,
   "id": "packed-florist",
   "metadata": {},
   "outputs": [
    {
     "data": {
      "text/plain": [
       "0.5"
      ]
     },
     "execution_count": 105,
     "metadata": {},
     "output_type": "execute_result"
    }
   ],
   "source": [
    "prFill[IDrem[j][0]+i]\n"
   ]
  },
  {
   "cell_type": "code",
   "execution_count": 107,
   "id": "going-terrorist",
   "metadata": {},
   "outputs": [
    {
     "data": {
      "text/plain": [
       "0"
      ]
     },
     "execution_count": 107,
     "metadata": {},
     "output_type": "execute_result"
    }
   ],
   "source": [
    "j"
   ]
  },
  {
   "cell_type": "code",
   "execution_count": 95,
   "id": "weird-diameter",
   "metadata": {},
   "outputs": [
    {
     "name": "stdout",
     "output_type": "stream",
     "text": [
      "0.0\n",
      "(array([], dtype=int64),)\n",
      "0\n",
      "[0, array([1, 6]), array([2, 3]), array([3, 4])]\n"
     ]
    }
   ],
   "source": [
    "remF=remF-prFill[IDrem[j][0]+i]\n",
    "print(remF)\n",
    "IDrem=np.where((prFill[fID+1:-1]<=remF) & fillLine[fID+1:-1])\n",
    "print(IDrem)\n",
    "print(IDrem[0].size)\n",
    "LineT.append(tmp)\n",
    "print(LineT)"
   ]
  },
  {
   "cell_type": "code",
   "execution_count": 62,
   "id": "sacred-round",
   "metadata": {},
   "outputs": [
    {
     "data": {
      "text/plain": [
       "(array([0, 3, 5]),)"
      ]
     },
     "execution_count": 62,
     "metadata": {},
     "output_type": "execute_result"
    }
   ],
   "source": [
    "np.where((prFill[fID+1:-1]<=remF) & fillLine[fID+1:-1])"
   ]
  },
  {
   "cell_type": "code",
   "execution_count": null,
   "id": "hungry-transcript",
   "metadata": {},
   "outputs": [],
   "source": []
  },
  {
   "cell_type": "code",
   "execution_count": 97,
   "id": "international-responsibility",
   "metadata": {},
   "outputs": [
    {
     "data": {
      "text/plain": [
       "array([0.9, 0.4, 0.3, 0.8, 0.4])"
      ]
     },
     "execution_count": 97,
     "metadata": {},
     "output_type": "execute_result"
    }
   ],
   "source": [
    "prFill[fID+1:-1]"
   ]
  },
  {
   "cell_type": "code",
   "execution_count": 57,
   "id": "golden-region",
   "metadata": {},
   "outputs": [
    {
     "name": "stdout",
     "output_type": "stream",
     "text": [
      "4\n",
      "[3 4]\n"
     ]
    }
   ],
   "source": [
    "fID=IDrem[0][0]+fID+1\n",
    "print(fID)\n",
    "tmp=np.append(tmp,fID)\n",
    "print(tmp)"
   ]
  },
  {
   "cell_type": "code",
   "execution_count": 49,
   "id": "cosmetic-sullivan",
   "metadata": {},
   "outputs": [
    {
     "data": {
      "text/plain": [
       "0.5"
      ]
     },
     "execution_count": 49,
     "metadata": {},
     "output_type": "execute_result"
    }
   ],
   "source": [
    "prFill[IDrem[j][0]+i]"
   ]
  },
  {
   "cell_type": "code",
   "execution_count": 51,
   "id": "distant-oracle",
   "metadata": {},
   "outputs": [
    {
     "name": "stdout",
     "output_type": "stream",
     "text": [
      "-0.5\n"
     ]
    }
   ],
   "source": [
    "remF=remF-prFill[IDrem[j][0]+i]\n",
    "print(remF)"
   ]
  },
  {
   "cell_type": "code",
   "execution_count": 43,
   "id": "monetary-north",
   "metadata": {},
   "outputs": [
    {
     "data": {
      "text/plain": [
       "0"
      ]
     },
     "execution_count": 43,
     "metadata": {},
     "output_type": "execute_result"
    }
   ],
   "source": [
    "prFill[IDrem[j][0]+i]"
   ]
  },
  {
   "cell_type": "code",
   "execution_count": 44,
   "id": "smart-edmonton",
   "metadata": {},
   "outputs": [
    {
     "data": {
      "text/plain": [
       "(array([], dtype=int64),)"
      ]
     },
     "execution_count": 44,
     "metadata": {},
     "output_type": "execute_result"
    }
   ],
   "source": [
    "IDrem"
   ]
  },
  {
   "cell_type": "code",
   "execution_count": null,
   "id": "consistent-confusion",
   "metadata": {},
   "outputs": [],
   "source": []
  }
 ],
 "metadata": {
  "kernelspec": {
   "display_name": "Python 3 (ipykernel)",
   "language": "python",
   "name": "python3"
  },
  "language_info": {
   "codemirror_mode": {
    "name": "ipython",
    "version": 3
   },
   "file_extension": ".py",
   "mimetype": "text/x-python",
   "name": "python",
   "nbconvert_exporter": "python",
   "pygments_lexer": "ipython3",
   "version": "3.9.14"
  }
 },
 "nbformat": 4,
 "nbformat_minor": 5
}
