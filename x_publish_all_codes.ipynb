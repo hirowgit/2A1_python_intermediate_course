{
 "cells": [
  {
   "cell_type": "code",
   "execution_count": 1,
   "metadata": {},
   "outputs": [],
   "source": [
    "## Python basics for novice data scientists, supported by Wagatsuma Lab@Kyutech \n",
    "#\n",
    "# The MIT License (MIT): Copyright (c) 2022 Hiroaki Wagatsuma and Wagatsuma Lab@Kyutech\n",
    "# \n",
    "# Permission is hereby granted, free of charge, to any person obtaining a copy of this software and associated documentation files (the \"Software\"), to deal in the Software without restriction, including without limitation the rights to use, copy, modify, merge, publish, distribute, sublicense, and/or sell copies of the Software, and to permit persons to whom the Software is furnished to do so, subject to the following conditions:\n",
    "# The above copyright notice and this permission notice shall be included in all copies or substantial portions of the Software.\n",
    "# THE SOFTWARE IS PROVIDED \"AS IS\", WITHOUT WARRANTY OF ANY KIND, EXPRESS OR IMPLIED, INCLUDING BUT NOT LIMITED TO THE WARRANTIES OF MERCHANTABILITY, FITNESS FOR A PARTICULAR PURPOSE AND NONINFRINGEMENT. IN NO EVENT SHALL THE AUTHORS OR COPYRIGHT HOLDERS BE LIABLE FOR ANY CLAIM, DAMAGES OR OTHER LIABILITY, WHETHER IN AN ACTION OF CONTRACT, TORT OR OTHERWISE, ARISING FROM, OUT OF OR IN CONNECTION WITH THE SOFTWARE OR THE USE OR OTHER DEALINGS IN THE SOFTWARE. */\n",
    "#\n",
    "# # @Time    : 2022-8-20 \n",
    "# # @Author  : Hiroaki Wagatsuma\n",
    "# # @Site    : https://github.com/hirowgit/2A1_python_intermediate_course\n",
    "# # @IDE     : Python 3.9.13 (main, Aug  7 2022, 01:33:23) [Clang 13.1.6 (clang-1316.0.21.2.5)] on darwin\n",
    "# # @File    : x_publish_all_codes.py "
   ]
  },
  {
   "cell_type": "code",
   "execution_count": 2,
   "metadata": {
    "scrolled": true
   },
   "outputs": [
    {
     "name": "stdout",
     "output_type": "stream",
     "text": [
      "['lec1_step1', 'lec2_step1']\n",
      "lec1_step1\n",
      "jupyter nbconvert --to asciidoc lec1_step1.ipynb\n",
      "jupyter nbconvert --to html lec1_step1.ipynb\n",
      "jupyter nbconvert --to latex lec1_step1.ipynb\n",
      "jupyter nbconvert --to markdown lec1_step1.ipynb\n",
      "jupyter nbconvert --to pdf lec1_step1.ipynb\n",
      "jupyter nbconvert --to python lec1_step1.ipynb\n",
      "jupyter nbconvert --to slides lec1_step1.ipynb\n",
      "There exists lec1_step1\n"
     ]
    },
    {
     "name": "stderr",
     "output_type": "stream",
     "text": [
      "[NbConvertApp] Converting notebook lec1_step1.ipynb to html\n",
      "[NbConvertApp] Converting notebook lec1_step1.ipynb to python\n",
      "[NbConvertApp] Converting notebook lec1_step1.ipynb to asciidoc\n",
      "[NbConvertApp] Converting notebook lec1_step1.ipynb to latex\n",
      "[NbConvertApp] Converting notebook lec1_step1.ipynb to slides\n",
      "[NbConvertApp] Converting notebook lec1_step1.ipynb to pdf\n",
      "[NbConvertApp] Converting notebook lec1_step1.ipynb to markdown\n",
      "[NbConvertApp] Writing 4917 bytes to lec1_step1.asciidoc\n",
      "[NbConvertApp] Writing 4064 bytes to lec1_step1.md\n",
      "[NbConvertApp] Writing 3209 bytes to lec1_step1.py\n",
      "[NbConvertApp] Writing 604374 bytes to lec1_step1.html\n",
      "[NbConvertApp] Writing 36220 bytes to lec1_step1.tex\n",
      "[NbConvertApp] Writing 36220 bytes to notebook.tex\n",
      "[NbConvertApp] Building PDF\n",
      "[NbConvertApp] Running xelatex 3 times: ['xelatex', 'notebook.tex', '-quiet']\n",
      "[NbConvertApp] Writing 609042 bytes to lec1_step1.slides.html\n",
      "[NbConvertApp] Running bibtex 1 time: ['bibtex', 'notebook']\n",
      "[NbConvertApp] WARNING | bibtex had problems, most likely because there were no citations\n",
      "[NbConvertApp] PDF successfully created\n",
      "[NbConvertApp] Writing 33741 bytes to lec1_step1.pdf\n"
     ]
    },
    {
     "name": "stdout",
     "output_type": "stream",
     "text": [
      "lec1_step1.asciidoc\n",
      "lec1_step1.html\n",
      "lec1_step1.tex\n",
      "lec1_step1.md\n",
      "lec1_step1.pdf\n",
      "lec1_step1.slides.html\n",
      "lec1_step1.asciidoc\n",
      "lec1_step1.html\n",
      "lec1_step1.tex\n",
      "lec1_step1.md\n",
      "lec1_step1.pdf\n",
      "lec1_step1.slides.html\n",
      "lec2_step1\n",
      "jupyter nbconvert --to asciidoc lec2_step1.ipynb\n",
      "jupyter nbconvert --to html lec2_step1.ipynb\n",
      "jupyter nbconvert --to latex lec2_step1.ipynb\n",
      "jupyter nbconvert --to markdown lec2_step1.ipynb\n",
      "jupyter nbconvert --to pdf lec2_step1.ipynb\n",
      "jupyter nbconvert --to python lec2_step1.ipynb\n",
      "jupyter nbconvert --to slides lec2_step1.ipynb\n",
      "The target folder \" lec2_step1 \" does not exist...\n"
     ]
    },
    {
     "name": "stderr",
     "output_type": "stream",
     "text": [
      "[NbConvertApp] Converting notebook lec2_step1.ipynb to markdown\n",
      "[NbConvertApp] Converting notebook lec2_step1.ipynb to latex\n",
      "[NbConvertApp] Converting notebook lec2_step1.ipynb to pdf\n",
      "[NbConvertApp] Converting notebook lec2_step1.ipynb to slides\n",
      "[NbConvertApp] Converting notebook lec2_step1.ipynb to html\n",
      "[NbConvertApp] Converting notebook lec2_step1.ipynb to python\n",
      "[NbConvertApp] Converting notebook lec2_step1.ipynb to asciidoc\n",
      "[NbConvertApp] Support files will be in lec2_step1_files/\n",
      "[NbConvertApp] Making directory lec2_step1_files\n",
      "[NbConvertApp] Writing 20278 bytes to lec2_step1.md\n",
      "[NbConvertApp] Support files will be in lec2_step1_files/\n",
      "[NbConvertApp] Making directory lec2_step1_files\n",
      "[NbConvertApp] Writing 22427 bytes to lec2_step1.asciidoc\n",
      "[NbConvertApp] Writing 5391 bytes to lec2_step1.py\n",
      "[NbConvertApp] Writing 684910 bytes to lec2_step1.html\n",
      "[NbConvertApp] Support files will be in lec2_step1_files/\n",
      "[NbConvertApp] Making directory lec2_step1_files\n",
      "[NbConvertApp] Writing 78145 bytes to lec2_step1.tex\n",
      "[NbConvertApp] Support files will be in lec2_step1_files/\n",
      "[NbConvertApp] Making directory ./lec2_step1_files\n",
      "[NbConvertApp] Writing 78145 bytes to notebook.tex\n",
      "[NbConvertApp] Building PDF\n",
      "[NbConvertApp] Running xelatex 3 times: ['xelatex', 'notebook.tex', '-quiet']\n",
      "[NbConvertApp] Writing 689578 bytes to lec2_step1.slides.html\n",
      "[NbConvertApp] Running bibtex 1 time: ['bibtex', 'notebook']\n",
      "[NbConvertApp] WARNING | bibtex had problems, most likely because there were no citations\n",
      "[NbConvertApp] PDF successfully created\n",
      "[NbConvertApp] Writing 71135 bytes to lec2_step1.pdf\n"
     ]
    },
    {
     "name": "stdout",
     "output_type": "stream",
     "text": [
      "lec2_step1.asciidoc\n",
      "lec2_step1.html\n",
      "lec2_step1.tex\n",
      "lec2_step1.md\n",
      "lec2_step1.pdf\n",
      "lec2_step1.slides.html\n",
      "lec2_step1.asciidoc\n",
      "lec2_step1.html\n",
      "lec2_step1.tex\n",
      "lec2_step1.md\n",
      "lec2_step1.pdf\n",
      "lec2_step1.slides.html\n",
      "\n",
      " All processes were completed!\n"
     ]
    }
   ],
   "source": [
    "import subprocess\n",
    "import shutil\n",
    "import os\n",
    "import time\n",
    "ftypes_ori=['asciidoc', 'html', 'latex', 'markdown', 'notebook', 'pdf', 'python','slides'];\n",
    "ptypes_ori=['asciidoc', 'html', 'tex', 'md', 'ipynb', 'pdf', 'py','slides.html']; \n",
    "\n",
    "originalF='lec1_step1.ipynb';\n",
    "# originalF='x_publish_all_codes_sub.ipynb';\n",
    "def subF(originalF):\n",
    "\n",
    "        #ftypes=['asciidoc', 'html', 'latex', 'markdown', 'notebook', 'pdf', 'python','slides'];\n",
    "        #ptypes=['asciidoc', 'html', 'tex', 'md', 'ipynb', 'pdf', 'py','slides.html'];\n",
    "        ftypes=['asciidoc', 'html', 'latex', 'markdown', 'pdf', 'python','slides'];\n",
    "        ptypes=['asciidoc', 'html', 'tex', 'md', 'pdf','slides.html'];\n",
    "\n",
    "        cmd0=['jupyter','nbconvert','--to'];\n",
    "        ftag=originalF.split('.')[0];\n",
    "\n",
    "        print(ftag)\n",
    "\n",
    "        for key in ftypes:\n",
    "          cmd=cmd0+[key]+[originalF];\n",
    "          Pcmd=' '.join(cmd)\n",
    "          print(Pcmd)\n",
    "          subprocess.Popen(cmd)\n",
    "\n",
    "        if  not os.path.isdir(ftag):\n",
    "            print(' '.join(['The target folder \\\"',ftag,'\\\" does not exist...']))\n",
    "            os.mkdir(ftag);\n",
    "        else:\n",
    "            print(' '.join(['There exists',ftag]));  \n",
    "            \n",
    "        time.sleep(10);\n",
    "        for key in ptypes:\n",
    "            target='.'.join([ftag,key]);\n",
    "            print(target);\n",
    "            if os.path.isfile(target):\n",
    "                shutil.move(target,os.path.join(ftag,target));\n",
    "                \n",
    "        # html sub folder remove if it already exists\n",
    "        htmlsF='_'.join([ftag,'files']);\n",
    "        subF2=os.path.join(ftag,htmlsF);\n",
    "        if os.path.isdir(subF2):\n",
    "                shutil.rmtree(subF2);\n",
    "\n",
    "        time.sleep(10);        \n",
    "        # html sub folder treatment\n",
    "        if os.path.isdir(htmlsF):\n",
    "            shutil.move(htmlsF,ftag)\n",
    "\n",
    "        time.sleep(10);\n",
    "        for key in ptypes:\n",
    "            target='.'.join([ftag,key]);\n",
    "            print(target);\n",
    "            if os.path.isfile(target):\n",
    "                os.remove(target);\n",
    "\n",
    "        # html sub folder treatment\n",
    "        if os.path.isdir(htmlsF):\n",
    "                shutil.rmtree(htmlsF);\n",
    "\n",
    "        target='.'.join([ftag,ptypes[0]]);\n",
    "        target2='.'.join([ftag,'txt']);\n",
    "        shutil.copy(os.path.join(ftag,target),os.path.join(ftag,target2));\n",
    "\n",
    "flist=os.listdir(path='.')\n",
    "flist1= [key for key in flist if '.py'  in key or '.ipy'  in key ]\n",
    "flist2= [key for key in flist1 if 'x_'  not in key and '.ipynb_'  not in key ]\n",
    "flist3= [key for key in flist2 if '.ipy'  in key ]\n",
    "ftaglist=[key.split('.')[0] for key in flist3]\n",
    "print(ftaglist)\n",
    "\n",
    "for key in ftaglist:\n",
    "    subF(\".\".join([key,ptypes_ori[4]])) # + 'ipynb'\n",
    "\n",
    "# subF(originalF)\n",
    "print(\"\\n All processes were completed!\")"
   ]
  },
  {
   "cell_type": "code",
   "execution_count": 9,
   "metadata": {},
   "outputs": [
    {
     "data": {
      "text/plain": [
       "['lec1_step1.ipynb', 'lec1_step3.ipynb', 'lec1_step2.ipynb']"
      ]
     },
     "execution_count": 9,
     "metadata": {},
     "output_type": "execute_result"
    }
   ],
   "source": [
    "flist3"
   ]
  },
  {
   "cell_type": "code",
   "execution_count": null,
   "metadata": {},
   "outputs": [],
   "source": []
  }
 ],
 "metadata": {
  "kernelspec": {
   "display_name": "Python 3 (ipykernel)",
   "language": "python",
   "name": "python3"
  },
  "language_info": {
   "codemirror_mode": {
    "name": "ipython",
    "version": 3
   },
   "file_extension": ".py",
   "mimetype": "text/x-python",
   "name": "python",
   "nbconvert_exporter": "python",
   "pygments_lexer": "ipython3",
   "version": "3.9.13"
  }
 },
 "nbformat": 4,
 "nbformat_minor": 2
}
